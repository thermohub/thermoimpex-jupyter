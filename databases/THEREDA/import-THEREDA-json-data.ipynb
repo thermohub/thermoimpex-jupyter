{
 "cells": [
  {
   "cell_type": "code",
   "execution_count": 11,
   "id": "9f27c90e-df52-406f-9137-65f8fd2a78bd",
   "metadata": {},
   "outputs": [],
   "source": [
    "import thermomatch as match\n",
    "match.ThermoImpexGenerator.create_local_database_if_not_existent = True"
   ]
  },
  {
   "cell_type": "code",
   "execution_count": 12,
   "id": "951951eb-acd5-420a-823d-427ad1ddf400",
   "metadata": {},
   "outputs": [
    {
     "name": "stdout",
     "output_type": "stream",
     "text": [
      "[jsonarango] [info] You are connected to: arango 3.9.12\n"
     ]
    }
   ],
   "source": [
    "# Set path to `schemas` and `lua` not from the configuration file\n",
    "match.ThermoImpexGenerator.setResourcesDirectory(\"../../Resources\")\n",
    "\n",
    "# Connect to Arango local database\n",
    "generator = match.ThermoImpexGenerator(\"http://localhost:8529\", \"root\", \"\", \"ORD_THEREDA_july05\", True, match.ThermoImpexGenerator.File, True)"
   ]
  },
  {
   "cell_type": "code",
   "execution_count": 13,
   "id": "75ab906d-0168-4c99-9993-584530ad1a65",
   "metadata": {},
   "outputs": [],
   "source": [
    "# List of implemented thermodynamic formats\n",
    "# print( generator.allFormats() )\n",
    "\n",
    "# Execute import from PSI table format data\n",
    "description = [\n",
    "    match.ImpexRowDescription(\"elements\", \"VertexElement\", \"\", \"FormatStructDataFile\", \"scripts-in/Element.Thereda.FormatStructDataFile.json\"), # element records\n",
    "    match.ImpexRowDescription(\"substances\", \"VertexSubstance\", \"\", \"FormatStructDataFile\", \"scripts-in/Substance.Thereda.FormatStructDataFile.json\"), # substance records\n",
    "    match.ImpexRowDescription(\"reactions\", \"VertexSubstance\", \"\", \"FormatStructDataFile\", \"scripts-in/ReactionDependentSubstance.Thereda.FormatStructDataFile.json\"), # reaction dependent substance records\n",
    "    match.ImpexRowDescription(\"reactions\", \"VertexReaction\", \"group\", \"FormatStructDataFile\", \"scripts-in/Reaction.Thereda.FormatStructDataFile.json\"), # reaction records\n",
    "    match.ImpexRowDescription(\"reactions\", \"EdgeTakes\", \"group\", \"FormatStructDataFile\", \"scripts-in/ReactionEdges.Thereda.FormatStructDataFile.json\"), # reaction edge records\n",
    "    match.ImpexRowDescription(\"phases\", \"VertexPhase\", \"\", \"FormatStructDataFile\", \"scripts-in/Phase.Thereda.FormatStructDataFile.json\"), # phase records \n",
    "]"
   ]
  },
  {
   "cell_type": "code",
   "execution_count": 14,
   "id": "2e1df6f7-9545-45d5-8689-504c9ce1c786",
   "metadata": {},
   "outputs": [
    {
     "name": "stdout",
     "output_type": "stream",
     "text": [
      "[jsonio17] [info] VertexThermoDataSet loading collection: 5266, loading query: 1509\n"
     ]
    },
    {
     "name": "stderr",
     "output_type": "stream",
     "text": [
      "jsonio.JsonParser.9: must be value data-in/2025/THEREDA_JSON_11_07_2025.elements.json\n"
     ]
    },
    {
     "name": "stdout",
     "output_type": "stream",
     "text": [
      "[2025-07-11 14:26:52.643] [thermomatch] [info]  0% Preparing files ...\n",
      "[2025-07-11 14:26:53.306] [thermomatch] [info]  10% Importing data ...\n",
      "[jsonio17] [info] VertexPhase loading collection: 3720, loading query: 1614\n",
      "[2025-07-11 14:26:53.313] [thermomatch] [info]  10% Importing VertexElement ...\n",
      "[jsonio17] [info] VertexElement loading collection: 3247, loading query: 1706\n",
      "[jsonio17] [error] JsonParser.9: must be value data-in/2025/THEREDA_JSON_11_07_2025.elements.json\n"
     ]
    }
   ],
   "source": [
    "generator.runImport(\"TheredaImport\", description, \"data-in/2025/THEREDA_JSON_11_07_2025.json\", \"THEREDA2025\");"
   ]
  },
  {
   "cell_type": "code",
   "execution_count": 9,
   "id": "7750f6f5-7c70-4388-837a-97ce6c0147c7",
   "metadata": {},
   "outputs": [
    {
     "name": "stdout",
     "output_type": "stream",
     "text": [
      "[jsonarango] [info] You are connected to: arango 3.9.12\n",
      "[jsonio17] [info] VertexSubstance loading collection: 2139, loading query: 122921\n",
      "[jsonio17] [info] VertexPhase loading collection: 1372, loading query: 74112\n",
      "[jsonio17] [info] VertexInteraction loading collection: 1735, loading query: 176932\n"
     ]
    }
   ],
   "source": [
    "#Export to GEMS3k format\n",
    "gem_export = match.ExportToGems3(\"http://localhost:8529\", \"root\", \"\", \"ORD_THEREDA_july05\", \"thermodatasets/Imported;1:TDS_LMA;0\");"
   ]
  },
  {
   "cell_type": "code",
   "execution_count": 10,
   "id": "19cf74c8-7f50-4678-bc4f-efcbada6145d",
   "metadata": {},
   "outputs": [
    {
     "name": "stdout",
     "output_type": "stream",
     "text": [
      "[jsonio17] [info] VertexElement loading collection: 56, loading query: 8416\n",
      "[jsonio17] [info] VertexSubstance loading collection: 16, loading query: 159908\n",
      "[jsonio17] [info] VertexReaction loading collection: 1072, loading query: 116721\n",
      "[jsonio17] [info] VertexPhase loading collection: 57, loading query: 87818\n"
     ]
    }
   ],
   "source": [
    "gem_export.ExportAllJson(\"data-out\");"
   ]
  },
  {
   "cell_type": "code",
   "execution_count": null,
   "id": "603c8091-9df7-452b-9c5b-81248a004f20",
   "metadata": {},
   "outputs": [],
   "source": [
    "# in GEMS second RK parameters changes sign RK_(SO4)Ca2Al0.6\t1\t0\t1.67\t-0.946 --> RK_(SO4)Ca2Al0.6\t1\t0\t1.67\t0.946"
   ]
  }
 ],
 "metadata": {
  "kernelspec": {
   "display_name": "Python 3 (ipykernel)",
   "language": "python",
   "name": "python3"
  },
  "language_info": {
   "codemirror_mode": {
    "name": "ipython",
    "version": 3
   },
   "file_extension": ".py",
   "mimetype": "text/x-python",
   "name": "python",
   "nbconvert_exporter": "python",
   "pygments_lexer": "ipython3",
   "version": "3.10.17"
  }
 },
 "nbformat": 4,
 "nbformat_minor": 5
}
