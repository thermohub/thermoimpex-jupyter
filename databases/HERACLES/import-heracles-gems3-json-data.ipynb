{
 "cells": [
  {
   "cell_type": "code",
   "execution_count": null,
   "id": "9f27c90e-df52-406f-9137-65f8fd2a78bd",
   "metadata": {},
   "outputs": [],
   "source": [
    "import thermomatch as match\n",
    "match.ThermoImpexGenerator.create_local_database_if_not_existent = True"
   ]
  },
  {
   "cell_type": "code",
   "execution_count": null,
   "id": "951951eb-acd5-420a-823d-427ad1ddf400",
   "metadata": {},
   "outputs": [],
   "source": [
    "# Set path to `schemas` and `lua` not from the configuration file\n",
    "match.ThermoImpexGenerator.setResourcesDirectory(\"../../Resources\")\n",
    "\n",
    "# Connect to Arango database\n",
    "generator = match.ThermoImpexGenerator(\"http://localhost:8529\", \"root\", \"\", \"ORD_heracles\", True, match.ThermoImpexGenerator.File, False)"
   ]
  },
  {
   "cell_type": "code",
   "execution_count": null,
   "id": "75ab906d-0168-4c99-9993-584530ad1a65",
   "metadata": {},
   "outputs": [],
   "source": [
    "# List of implemented thermodynamic formats\n",
    "#print( generator.allFormats() )\n",
    "\n",
    "# Execute import from PSI table format data\n",
    "description = [\n",
    "    match.ImpexRowDescription(\"refs\", \"VertexDataSource\", \"records_and_links\", \"FormatStructDataFile\", \"scripts-in/references.FormatStructDataFile.json\"), # Datasource records \n",
    "    match.ImpexRowDescription(\"elements\", \"VertexElement\", \"records\", \"FormatStructDataFile\", \"scripts-in/Element.heracles.FormatStructDataFile.json\"), # elements records\n",
    "    match.ImpexRowDescription(\"substances2\", \"VertexSubstance\", \"records\", \"FormatStructDataFile\", \"scripts-in/Substance.heracles.FormatStructDataFile.json\"), # substances records\n",
    "    match.ImpexRowDescription(\"reactions\", \"VertexSubstance\", \"records\", \"FormatStructDataFile\", \"scripts-in/ReactionSubstance.heracles.FormatStructDataFile.json\"), # reaction dependent substances records\n",
    "    match.ImpexRowDescription(\"reactions\", \"VertexReaction\", \"group\", \"FormatStructDataFile\", \"scripts-in/Reaction.heracles.FormatStructDataFile.json\"), # reaction records\n",
    "    match.ImpexRowDescription(\"reactions\", \"EdgeTakes\", \"group\", \"FormatStructDataFile\", \"scripts-in/ReactionEdge.FormatStructDataFile.json\"), # links between reactants and reaction records\n",
    "    match.ImpexRowDescription(\"phasespure\", \"VertexPhase\", \"records_and_links\", \"FormatStructDataFile\", \"scripts-in/Phase.heracles.FormatStructDataFile.json\"), # phase records\n",
    "    match.ImpexRowDescription(\"ThermoDataSet\", \"VertexThermoDataSet\", \"records_and_links\", \"FormatTableFile\", \"scripts-in/thermodataset.FormatTableFile.json\") # thermodataset record\n",
    "]"
   ]
  },
  {
   "cell_type": "code",
   "execution_count": null,
   "id": "39f719c9-d02a-4997-a3b8-5ebe1bc4726b",
   "metadata": {},
   "outputs": [],
   "source": [
    "#print( description )\n",
    "generator.runImport(\"ReacDCImport\", description, \"data-in/heracles.refs.json\", \"\");"
   ]
  },
  {
   "cell_type": "code",
   "execution_count": null,
   "id": "5cd841c1-6d72-4586-a89a-881ab5df1d74",
   "metadata": {},
   "outputs": [],
   "source": []
  }
 ],
 "metadata": {
  "kernelspec": {
   "display_name": "Python 3 (ipykernel)",
   "language": "python",
   "name": "python3"
  },
  "language_info": {
   "codemirror_mode": {
    "name": "ipython",
    "version": 3
   },
   "file_extension": ".py",
   "mimetype": "text/x-python",
   "name": "python",
   "nbconvert_exporter": "python",
   "pygments_lexer": "ipython3",
   "version": "3.10.14"
  }
 },
 "nbformat": 4,
 "nbformat_minor": 5
}
