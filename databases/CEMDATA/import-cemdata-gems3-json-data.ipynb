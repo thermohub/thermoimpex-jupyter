{
 "cells": [
  {
   "cell_type": "code",
   "execution_count": null,
   "id": "9f27c90e-df52-406f-9137-65f8fd2a78bd",
   "metadata": {},
   "outputs": [],
   "source": [
    "import thermomatch as match\n",
    "match.ThermoImpexGenerator.create_local_database_if_not_existent = True"
   ]
  },
  {
   "cell_type": "code",
   "execution_count": null,
   "id": "951951eb-acd5-420a-823d-427ad1ddf400",
   "metadata": {},
   "outputs": [],
   "source": [
    "# Set path to `schemas` and `lua` not from the configuration file\n",
    "match.ThermoImpexGenerator.setResourcesDirectory(\"../../Resources\")\n",
    "\n",
    "# Connect to Arango database\n",
    "generator = match.ThermoImpexGenerator(\"http://localhost:8529\", \"root\", \"\", \"ORD_cemdata18\", True, match.ThermoImpexGenerator.File, False)"
   ]
  },
  {
   "cell_type": "code",
   "execution_count": null,
   "id": "804b1a08-5453-4a5a-9a41-f3969bf01c56",
   "metadata": {},
   "outputs": [],
   "source": [
    "# this is a special import case as the data that makes cemdata a consistent database comes from two sources\n",
    "# PSI/Nagra database is the source for aqueous species and main no hydrate solids\n",
    "# Cemdata18 is the source for cement hydrates\n",
    "generator.sourcedtbs = ([\"{\\\"20\\\" : \\\"CEMDATA18\\\"}\", \"{\\\"15\\\" : \\\"PSI_NAGRA\\\"}\"]) "
   ]
  },
  {
   "cell_type": "code",
   "execution_count": null,
   "id": "75ab906d-0168-4c99-9993-584530ad1a65",
   "metadata": {},
   "outputs": [],
   "source": [
    "# List of implemented thermodynamic formats\n",
    "#print( generator.allFormats() )\n",
    "\n",
    "# Execute import from PSI table format data\n",
    "description = [\n",
    "    match.ImpexRowDescription(\"refs\", \"VertexDataSource\", \"records_and_links\", \"FormatStructDataFile\", \"scripts-in/references.FormatStructDataFile.json\"), # Datasource records \n",
    "    match.ImpexRowDescription(\"elements-psina12_07\", \"VertexElement\", \"records\", \"FormatStructDataFile\", \"scripts-in/Element.cemdata-psina.FormatStructDataFile.json\"), # elements records\n",
    "    match.ImpexRowDescription(\"aqueous-psina12_07\", \"VertexSubstance\", \"records\", \"FormatStructDataFile\", \"scripts-in/Substance.cemdata-psina.FormatStructDataFile.json\"), # aqueous substances records\n",
    "    match.ImpexRowDescription(\"solids-psina12_07\", \"VertexSubstance\", \"records\", \"FormatStructDataFile\", \"scripts-in/Substance.cemdata-psina.FormatStructDataFile.json\"), # solid substances records\n",
    "    match.ImpexRowDescription(\"aqueous\", \"VertexSubstance\", \"records\", \"FormatStructDataFile\", \"scripts-in/Substance.cemdata.FormatStructDataFile.json\"), # aqueous substances records\n",
    "    match.ImpexRowDescription(\"solids\", \"VertexSubstance\", \"records\", \"FormatStructDataFile\", \"scripts-in/Substance.cemdata.FormatStructDataFile.json\"), # solid substances records\n",
    "    match.ImpexRowDescription(\"gases-psina12_07\", \"VertexSubstance\", \"records\", \"FormatStructDataFile\", \"scripts-in/Substance.cemdata-psina.FormatStructDataFile.json\"), # fluid substances records\n",
    "    match.ImpexRowDescription(\"reactions-psina12_07\", \"VertexSubstance\", \"records\", \"FormatStructDataFile\", \"scripts-in/ReactionSubstance.cemdata-psina.FormatStructDataFile.json\"), # reaction dependent substances records\n",
    "    match.ImpexRowDescription(\"reactions\", \"VertexSubstance\", \"records\", \"FormatStructDataFile\", \"scripts-in/ReactionSubstance.cemdata.FormatStructDataFile.json\"), # reaction dependent substances records\n",
    "    match.ImpexRowDescription(\"reactions-psina12_07\", \"VertexReaction\", \"group\", \"FormatStructDataFile\", \"scripts-in/Reaction.cemdata-psina.FormatStructDataFile.json\"), # reaction records\n",
    "    match.ImpexRowDescription(\"reactions-psina12_07\", \"EdgeTakes\", \"group\", \"FormatStructDataFile\", \"scripts-in/ReactionEdge.FormatStructDataFile.json\"), # links between reactants and reaction records\n",
    "    match.ImpexRowDescription(\"reactions\", \"VertexReaction\", \"group\", \"FormatStructDataFile\", \"scripts-in/Reaction.cemdata.FormatStructDataFile.json\"), # reaction records\n",
    "    match.ImpexRowDescription(\"reactions\", \"EdgeTakes\", \"group\", \"FormatStructDataFile\", \"scripts-in/ReactionEdge.FormatStructDataFile.json\"), # links between reactants and reaction records\n",
    "    match.ImpexRowDescription(\"phases-psina12_07\", \"VertexPhase\", \"records_and_links\", \"FormatStructDataFile\", \"scripts-in/Phase.cemdata-psina.FormatStructDataFile.json\"), # phase records\n",
    "    match.ImpexRowDescription(\"phases\", \"VertexPhase\", \"records_and_links\", \"FormatStructDataFile\", \"scripts-in/Phase.cemdata.FormatStructDataFile.json\"), # phase records\n",
    "    match.ImpexRowDescription(\"ThermoDataSet\", \"VertexThermoDataSet\", \"records_and_links\", \"FormatTableFile\", \"scripts-in/thermodataset.FormatTableFile.json\") # thermodataset record\n",
    "]"
   ]
  },
  {
   "cell_type": "code",
   "execution_count": null,
   "id": "39f719c9-d02a-4997-a3b8-5ebe1bc4726b",
   "metadata": {},
   "outputs": [],
   "source": [
    "#print( description )\n",
    "generator.runImport(\"ReacDCImport\", description, \"data-in/cemdata18.refs.json\", \"Cemdata18\");"
   ]
  },
  {
   "cell_type": "code",
   "execution_count": null,
   "id": "727444f0-ef27-466d-b4e1-9b1ee17165f7",
   "metadata": {},
   "outputs": [],
   "source": []
  },
  {
   "cell_type": "code",
   "execution_count": null,
   "id": "74cbf0e5-3369-4674-974c-6f0d8480138d",
   "metadata": {},
   "outputs": [],
   "source": []
  }
 ],
 "metadata": {
  "kernelspec": {
   "display_name": "Python 3 (ipykernel)",
   "language": "python",
   "name": "python3"
  },
  "language_info": {
   "codemirror_mode": {
    "name": "ipython",
    "version": 3
   },
   "file_extension": ".py",
   "mimetype": "text/x-python",
   "name": "python",
   "nbconvert_exporter": "python",
   "pygments_lexer": "ipython3",
   "version": "3.10.14"
  }
 },
 "nbformat": 4,
 "nbformat_minor": 5
}
