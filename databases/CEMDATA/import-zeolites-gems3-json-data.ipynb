{
 "cells": [
  {
   "cell_type": "code",
   "execution_count": 6,
   "id": "9f27c90e-df52-406f-9137-65f8fd2a78bd",
   "metadata": {},
   "outputs": [],
   "source": [
    "import thermomatch as match\n",
    "match.ThermoImpexGenerator.create_local_database_if_not_existent = True"
   ]
  },
  {
   "cell_type": "code",
   "execution_count": 7,
   "id": "951951eb-acd5-420a-823d-427ad1ddf400",
   "metadata": {},
   "outputs": [
    {
     "name": "stdout",
     "output_type": "stream",
     "text": [
      "[jsonarango] [info] You are connected to: arango 3.9.12\n"
     ]
    }
   ],
   "source": [
    "# Set path to `schemas` and `lua` not from the configuration file\n",
    "match.ThermoImpexGenerator.setResourcesDirectory(\"../../Resources\")\n",
    "\n",
    "# Connect to Arango database\n",
    "generator = match.ThermoImpexGenerator(\"http://localhost:8529\", \"root\", \"\", \"ORD_zeolites\", True, match.ThermoImpexGenerator.File, False)"
   ]
  },
  {
   "cell_type": "code",
   "execution_count": 8,
   "id": "804b1a08-5453-4a5a-9a41-f3969bf01c56",
   "metadata": {},
   "outputs": [],
   "source": [
    "# this is a special import case as the data that makes cemdata a consistent database comes from two sources\n",
    "# PSI/Nagra database is the source for aqueous species and main no hydrate solids\n",
    "# Cemdata18 is the source for cement hydrates\n",
    "generator.sourcedtbs = ([\"{\\\"20\\\" : \\\"CEMDATA18\\\"}\", \"{\\\"15\\\" : \\\"PSI_NAGRA\\\"}\"]) "
   ]
  },
  {
   "cell_type": "code",
   "execution_count": 9,
   "id": "75ab906d-0168-4c99-9993-584530ad1a65",
   "metadata": {},
   "outputs": [],
   "source": [
    "# List of implemented thermodynamic formats\n",
    "#print( generator.allFormats() )\n",
    "\n",
    "# Execute import from PSI table format data\n",
    "description = [\n",
    "    match.ImpexRowDescription(\"refs\", \"VertexDataSource\", \"records_and_links\", \"FormatStructDataFile\", \"scripts-in/references.FormatStructDataFile.json\"), # Datasource records \n",
    "    match.ImpexRowDescription(\"elements-psina12_07\", \"VertexElement\", \"records\", \"FormatStructDataFile\", \"scripts-in/Element.cemdata-psina.FormatStructDataFile.json\"), # elements records\n",
    "    match.ImpexRowDescription(\"aqueous-psina12_07\", \"VertexSubstance\", \"records\", \"FormatStructDataFile\", \"scripts-in/Substance.cemdata-psina.FormatStructDataFile.json\"), # aqueous substances records\n",
    "    match.ImpexRowDescription(\"zeolites_psina\", \"VertexSubstance\", \"records\", \"FormatStructDataFile\", \"scripts-in/Substance.cemdata-psina.FormatStructDataFile.json\"), # solid substances records\n",
    "    match.ImpexRowDescription(\"aqueous\", \"VertexSubstance\", \"records\", \"FormatStructDataFile\", \"scripts-in/Substance.cemdata.FormatStructDataFile.json\"), # aqueous substances records\n",
    "  #  match.ImpexRowDescription(\"solids\", \"VertexSubstance\", \"records\", \"FormatStructDataFile\", \"scripts-in/Substance.cemdata.FormatStructDataFile.json\"), # solid substances records\n",
    "    match.ImpexRowDescription(\"gases-psina12_07\", \"VertexSubstance\", \"records\", \"FormatStructDataFile\", \"scripts-in/Substance.cemdata-psina.FormatStructDataFile.json\"), # fluid substances records\n",
    " #   match.ImpexRowDescription(\"reactions-psina12_07\", \"VertexSubstance\", \"records\", \"FormatStructDataFile\", \"scripts-in/ReactionSubstance.cemdata-psina.FormatStructDataFile.json\"), # reaction dependent substances records\n",
    "    match.ImpexRowDescription(\"reactions_zeolites\", \"VertexSubstance\", \"records\", \"FormatStructDataFile\", \"scripts-in/ReactionSubstance.cemdata.FormatStructDataFile.json\"), # reaction dependent substances records\n",
    "#    match.ImpexRowDescription(\"reactions-psina12_07\", \"VertexReaction\", \"group\", \"FormatStructDataFile\", \"scripts-in/Reaction.cemdata-psina.FormatStructDataFile.json\"), # reaction records\n",
    "#    match.ImpexRowDescription(\"reactions-psina12_07\", \"EdgeTakes\", \"group\", \"FormatStructDataFile\", \"scripts-in/ReactionEdge.FormatStructDataFile.json\"), # links between reactants and reaction records\n",
    "    match.ImpexRowDescription(\"reactions_zeolites\", \"VertexReaction\", \"group\", \"FormatStructDataFile\", \"scripts-in/Reaction.cemdata.FormatStructDataFile.json\"), # reaction records\n",
    "    match.ImpexRowDescription(\"reactions_zeolites\", \"EdgeTakes\", \"group\", \"FormatStructDataFile\", \"scripts-in/ReactionEdge.FormatStructDataFile.json\"), # links between reactants and reaction records\n",
    " #   match.ImpexRowDescription(\"phases-psina12_07\", \"VertexPhase\", \"records_and_links\", \"FormatStructDataFile\", \"scripts-in/Phase.cemdata-psina.FormatStructDataFile.json\"), # phase records\n",
    " #   match.ImpexRowDescription(\"phases\", \"VertexPhase\", \"records_and_links\", \"FormatStructDataFile\", \"scripts-in/Phase.cemdata.FormatStructDataFile.json\"), # phase records\n",
    "    match.ImpexRowDescription(\"ThermoDataSet\", \"VertexThermoDataSet\", \"records_and_links\", \"FormatTableFile\", \"scripts-in/thermodatasetZEO.FormatTableFile.json\") # thermodataset record\n",
    "]"
   ]
  },
  {
   "cell_type": "code",
   "execution_count": 10,
   "id": "39f719c9-d02a-4997-a3b8-5ebe1bc4726b",
   "metadata": {},
   "outputs": [
    {
     "name": "stdout",
     "output_type": "stream",
     "text": [
      "[2024-12-16 11:38:48.162] [thermomatch] [info]  0% Preparing files ...\n",
      "[2024-12-16 11:38:48.162] [thermomatch] [info]  File name for block data-in/zeolites/cemdata18.refs.json\n",
      "[2024-12-16 11:38:48.162] [thermomatch] [info]  File name for block data-in/zeolites/cemdata18.elements-psina12_07.json\n",
      "[2024-12-16 11:38:48.162] [thermomatch] [info]  File name for block data-in/zeolites/cemdata18.aqueous-psina12_07.json\n",
      "[2024-12-16 11:38:48.162] [thermomatch] [info]  File name for block data-in/zeolites/cemdata18.zeolites_psina.json\n",
      "[2024-12-16 11:38:48.162] [thermomatch] [info]  File name for block data-in/zeolites/cemdata18.aqueous.json\n",
      "[2024-12-16 11:38:48.162] [thermomatch] [info]  File name for block data-in/zeolites/cemdata18.gases-psina12_07.json\n",
      "[2024-12-16 11:38:48.162] [thermomatch] [info]  File name for block data-in/zeolites/cemdata18.reactions_zeolites.json\n",
      "[2024-12-16 11:38:48.162] [thermomatch] [info]  File name for block data-in/zeolites/cemdata18.reactions_zeolites.json\n",
      "[2024-12-16 11:38:48.162] [thermomatch] [info]  File name for block data-in/zeolites/cemdata18.reactions_zeolites.json\n",
      "[2024-12-16 11:38:48.162] [thermomatch] [info]  File name for block data-in/zeolites/cemdata18.ThermoDataSet.json\n",
      "[2024-12-16 11:38:48.162] [thermomatch] [info]  10% Importing data ...\n",
      "[2024-12-16 11:38:48.162] [thermomatch] [info]  10% Importing refs VertexDataSource ...\n",
      "[jsonio17] [info] VertexDataSource loading collection: 1607, loading query: 7531\n",
      "[2024-12-16 11:38:48.256] [thermomatch] [info]  16% Importing elements-psina12_07 VertexElement ...\n",
      "[jsonio17] [info] VertexElement loading collection: 1383, loading query: 2403\n",
      "[2024-12-16 11:38:48.275] [thermomatch] [info]  22% Importing aqueous-psina12_07 VertexSubstance ...\n",
      "[jsonio17] [info] VertexSubstance loading collection: 1713, loading query: 25874\n",
      "[2024-12-16 11:38:48.538] [thermomatch] [info]  28% Importing zeolites_psina VertexSubstance ...\n",
      "[2024-12-16 11:38:48.594] [thermomatch] [info]  34% Importing aqueous VertexSubstance ...\n",
      "[2024-12-16 11:38:48.598] [thermomatch] [info]  40% Importing gases-psina12_07 VertexSubstance ...\n",
      "[2024-12-16 11:38:48.621] [thermomatch] [info]  46% Importing reactions_zeolites VertexSubstance ...\n",
      "[2024-12-16 11:38:48.719] [thermomatch] [info]  52% Importing reactions_zeolites VertexReaction ...\n",
      "[jsonio17] [info] VertexSubstance loading collection: 7, loading query: 27902\n",
      "[2024-12-16 11:38:49.564] [thermomatch] [info]  64% Importing ThermoDataSet VertexThermoDataSet ...\n",
      "[jsonio17] [info] VertexThermoDataSet loading collection: 781, loading query: 1662\n",
      "[2024-12-16 11:38:49.567] [thermomatch] [info]  80% Load database to compare ...\n",
      "[2024-12-16 11:38:49.567] [thermomatch] [info]  90% Generate Edges ...\n",
      "[2024-12-16 11:38:49.567] [thermomatch] [info] Generate DataSource links\n",
      "[jsonio17] [info] VertexReaction loading collection: 8, loading query: 6016\n",
      "[jsonio17] [info] VertexSubstance loading collection: 14, loading query: 29993\n",
      "[jsonio17] [info] VertexDataSource loading collection: 29, loading query: 7257\n",
      "[2024-12-16 11:38:49.774] [thermomatch] [info] Generate ThermoDataSet links\n",
      "[jsonio17] [info] VertexThermoDataSet loading collection: 19, loading query: 1609\n",
      "[2024-12-16 11:38:49.842] [thermomatch] [info]  100% Ready to test\n"
     ]
    }
   ],
   "source": [
    "#print( description )\n",
    "generator.runImport(\"ReacDCImport\", description, \"data-in/zeolites/cemdata18.refs.json\", \"Cemdata18\");"
   ]
  },
  {
   "cell_type": "code",
   "execution_count": null,
   "id": "727444f0-ef27-466d-b4e1-9b1ee17165f7",
   "metadata": {},
   "outputs": [],
   "source": []
  },
  {
   "cell_type": "code",
   "execution_count": null,
   "id": "74cbf0e5-3369-4674-974c-6f0d8480138d",
   "metadata": {},
   "outputs": [],
   "source": []
  }
 ],
 "metadata": {
  "kernelspec": {
   "display_name": "Python 3 (ipykernel)",
   "language": "python",
   "name": "python3"
  },
  "language_info": {
   "codemirror_mode": {
    "name": "ipython",
    "version": 3
   },
   "file_extension": ".py",
   "mimetype": "text/x-python",
   "name": "python",
   "nbconvert_exporter": "python",
   "pygments_lexer": "ipython3",
   "version": "3.10.14"
  }
 },
 "nbformat": 4,
 "nbformat_minor": 5
}
