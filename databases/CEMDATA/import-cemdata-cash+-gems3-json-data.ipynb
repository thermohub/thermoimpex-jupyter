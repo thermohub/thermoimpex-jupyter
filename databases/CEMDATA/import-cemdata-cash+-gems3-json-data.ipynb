{
 "cells": [
  {
   "cell_type": "code",
   "execution_count": 1,
   "id": "9f27c90e-df52-406f-9137-65f8fd2a78bd",
   "metadata": {},
   "outputs": [
    {
     "name": "stdout",
     "output_type": "stream",
     "text": [
      "[2024-12-18 15:07:30.365] [jsonio17] [info] Home directory is /home/dmiron\n"
     ]
    }
   ],
   "source": [
    "import thermomatch as match\n",
    "match.ThermoImpexGenerator.create_local_database_if_not_existent = True"
   ]
  },
  {
   "cell_type": "code",
   "execution_count": 3,
   "id": "951951eb-acd5-420a-823d-427ad1ddf400",
   "metadata": {},
   "outputs": [
    {
     "name": "stdout",
     "output_type": "stream",
     "text": [
      "[jsonarango] [info] You are connected to: arango 3.9.12\n"
     ]
    }
   ],
   "source": [
    "# Set path to `schemas` and `lua` not from the configuration file\n",
    "match.ThermoImpexGenerator.setResourcesDirectory(\"../../Resources\")\n",
    "\n",
    "# Connect to Arango database\n",
    "generator = match.ThermoImpexGenerator(\"http://localhost:8529\", \"root\", \"\", \"ORD_cemdata18_CASHplus\", True, match.ThermoImpexGenerator.File, False)"
   ]
  },
  {
   "cell_type": "code",
   "execution_count": 4,
   "id": "804b1a08-5453-4a5a-9a41-f3969bf01c56",
   "metadata": {},
   "outputs": [],
   "source": [
    "# this is a special import case as the data that makes cemdata a consistent database comes from two sources\n",
    "# PSI/Nagra database is the source for aqueous species and main no hydrate solids\n",
    "# Cemdata18 is the source for cement hydrates\n",
    "generator.sourcedtbs = ([\"{\\\"20\\\" : \\\"CEMDATA18\\\"}\", \"{\\\"15\\\" : \\\"PSI_NAGRA\\\"}\"]) "
   ]
  },
  {
   "cell_type": "code",
   "execution_count": 5,
   "id": "75ab906d-0168-4c99-9993-584530ad1a65",
   "metadata": {},
   "outputs": [],
   "source": [
    "# List of implemented thermodynamic formats\n",
    "#print( generator.allFormats() )\n",
    "\n",
    "# Execute import from PSI table format data\n",
    "description = [\n",
    "    match.ImpexRowDescription(\"refs\", \"VertexDataSource\", \"records_and_links\", \"FormatStructDataFile\", \"scripts-in/references.FormatStructDataFile.json\"), # Datasource records \n",
    "    match.ImpexRowDescription(\"elements-psina12_07\", \"VertexElement\", \"records\", \"FormatStructDataFile\", \"scripts-in/Element.cemdata-psina.FormatStructDataFile.json\"), # elements records\n",
    "    match.ImpexRowDescription(\"aqueous-psina12_07\", \"VertexSubstance\", \"records\", \"FormatStructDataFile\", \"scripts-in/Substance.cemdata-psina.FormatStructDataFile.json\"), # aqueous substances records\n",
    "    match.ImpexRowDescription(\"solids-psina12_07\", \"VertexSubstance\", \"records\", \"FormatStructDataFile\", \"scripts-in/Substance.cemdata-psina.FormatStructDataFile.json\"), # solid substances records\n",
    "    match.ImpexRowDescription(\"aqueous\", \"VertexSubstance\", \"records\", \"FormatStructDataFile\", \"scripts-in/Substance.cemdata.FormatStructDataFile.json\"), # aqueous substances records\n",
    "    match.ImpexRowDescription(\"solids\", \"VertexSubstance\", \"records\", \"FormatStructDataFile\", \"scripts-in/Substance.cemdata.FormatStructDataFile.json\"), # solid substances records\n",
    "    match.ImpexRowDescription(\"cash+\", \"VertexSubstance\", \"records\", \"FormatStructDataFile\", \"scripts-in/Substance.cemdata.FormatStructDataFile.json\"), # solid substances records\n",
    "    match.ImpexRowDescription(\"gases-psina12_07\", \"VertexSubstance\", \"records\", \"FormatStructDataFile\", \"scripts-in/Substance.cemdata-psina.FormatStructDataFile.json\"), # fluid substances records\n",
    "    match.ImpexRowDescription(\"reactions-psina12_07\", \"VertexSubstance\", \"records\", \"FormatStructDataFile\", \"scripts-in/ReactionSubstance.cemdata-psina.FormatStructDataFile.json\"), # reaction dependent substances records\n",
    "    match.ImpexRowDescription(\"reactions\", \"VertexSubstance\", \"records\", \"FormatStructDataFile\", \"scripts-in/ReactionSubstance.cemdata.FormatStructDataFile.json\"), # reaction dependent substances records\n",
    "    match.ImpexRowDescription(\"reactions-psina12_07\", \"VertexReaction\", \"group\", \"FormatStructDataFile\", \"scripts-in/Reaction.cemdata-psina.FormatStructDataFile.json\"), # reaction records\n",
    "    match.ImpexRowDescription(\"reactions-psina12_07\", \"EdgeTakes\", \"group\", \"FormatStructDataFile\", \"scripts-in/ReactionEdge.FormatStructDataFile.json\"), # links between reactants and reaction records\n",
    "    match.ImpexRowDescription(\"reactions\", \"VertexReaction\", \"group\", \"FormatStructDataFile\", \"scripts-in/Reaction.cemdata.FormatStructDataFile.json\"), # reaction records\n",
    "    match.ImpexRowDescription(\"reactions\", \"EdgeTakes\", \"group\", \"FormatStructDataFile\", \"scripts-in/ReactionEdge.FormatStructDataFile.json\"), # links between reactants and reaction records\n",
    "    match.ImpexRowDescription(\"phases-psina12_07\", \"VertexPhase\", \"records_and_links\", \"FormatStructDataFile\", \"scripts-in/Phase.cemdata-psina.FormatStructDataFile.json\"), # phase records\n",
    "    match.ImpexRowDescription(\"phases\", \"VertexPhase\", \"records_and_links\", \"FormatStructDataFile\", \"scripts-in/Phase.cemdata.FormatStructDataFile.json\"), # phase records\n",
    "    match.ImpexRowDescription(\"ThermoDataSet\", \"VertexThermoDataSet\", \"records_and_links\", \"FormatTableFile\", \"scripts-in/thermodataset.FormatTableFile.json\") # thermodataset record\n",
    "]"
   ]
  },
  {
   "cell_type": "code",
   "execution_count": 6,
   "id": "39f719c9-d02a-4997-a3b8-5ebe1bc4726b",
   "metadata": {},
   "outputs": [
    {
     "name": "stdout",
     "output_type": "stream",
     "text": [
      "[2024-12-18 15:08:39.463] [thermomatch] [info]  0% Preparing files ...\n",
      "[2024-12-18 15:08:39.463] [thermomatch] [info]  File name for block data-in/cemdata18.refs.json\n",
      "[2024-12-18 15:08:39.463] [thermomatch] [info]  File name for block data-in/cemdata18.elements-psina12_07.json\n",
      "[2024-12-18 15:08:39.463] [thermomatch] [info]  File name for block data-in/cemdata18.aqueous-psina12_07.json\n",
      "[2024-12-18 15:08:39.463] [thermomatch] [info]  File name for block data-in/cemdata18.solids-psina12_07.json\n",
      "[2024-12-18 15:08:39.463] [thermomatch] [info]  File name for block data-in/cemdata18.aqueous.json\n",
      "[2024-12-18 15:08:39.463] [thermomatch] [info]  File name for block data-in/cemdata18.solids.json\n",
      "[2024-12-18 15:08:39.463] [thermomatch] [info]  File name for block data-in/cemdata18.cash+.json\n",
      "[2024-12-18 15:08:39.463] [thermomatch] [info]  File name for block data-in/cemdata18.gases-psina12_07.json\n",
      "[2024-12-18 15:08:39.463] [thermomatch] [info]  File name for block data-in/cemdata18.reactions-psina12_07.json\n",
      "[2024-12-18 15:08:39.463] [thermomatch] [info]  File name for block data-in/cemdata18.reactions.json\n",
      "[2024-12-18 15:08:39.463] [thermomatch] [info]  File name for block data-in/cemdata18.reactions-psina12_07.json\n",
      "[2024-12-18 15:08:39.463] [thermomatch] [info]  File name for block data-in/cemdata18.reactions-psina12_07.json\n",
      "[2024-12-18 15:08:39.463] [thermomatch] [info]  File name for block data-in/cemdata18.reactions.json\n",
      "[2024-12-18 15:08:39.463] [thermomatch] [info]  File name for block data-in/cemdata18.reactions.json\n",
      "[2024-12-18 15:08:39.463] [thermomatch] [info]  File name for block data-in/cemdata18.phases-psina12_07.json\n",
      "[2024-12-18 15:08:39.463] [thermomatch] [info]  File name for block data-in/cemdata18.phases.json\n",
      "[2024-12-18 15:08:39.463] [thermomatch] [info]  File name for block data-in/cemdata18.ThermoDataSet.json\n",
      "[2024-12-18 15:08:39.463] [thermomatch] [info]  10% Importing data ...\n",
      "[2024-12-18 15:08:39.463] [thermomatch] [info]  10% Importing refs VertexDataSource ...\n",
      "[jsonio17] [info] VertexDataSource loading collection: 4371, loading query: 1556\n",
      "[2024-12-18 15:08:39.550] [thermomatch] [info]  13% Importing elements-psina12_07 VertexElement ...\n",
      "[jsonio17] [info] VertexElement loading collection: 4409, loading query: 981\n",
      "[2024-12-18 15:08:39.570] [thermomatch] [info]  16% Importing aqueous-psina12_07 VertexSubstance ...\n",
      "[jsonio17] [info] VertexSubstance loading collection: 4858, loading query: 1563\n",
      "[2024-12-18 15:08:39.807] [thermomatch] [info]  19% Importing solids-psina12_07 VertexSubstance ...\n",
      "[2024-12-18 15:08:39.889] [thermomatch] [info]  22% Importing aqueous VertexSubstance ...\n",
      "[2024-12-18 15:08:39.894] [thermomatch] [info]  25% Importing solids VertexSubstance ...\n",
      "[2024-12-18 15:08:40.233] [thermomatch] [info]  28% Importing cash+ VertexSubstance ...\n",
      "[2024-12-18 15:08:40.297] [thermomatch] [info]  31% Importing gases-psina12_07 VertexSubstance ...\n",
      "[2024-12-18 15:08:40.318] [thermomatch] [info]  34% Importing reactions-psina12_07 VertexSubstance ...\n",
      "[2024-12-18 15:08:40.356] [thermomatch] [info]  37% Importing reactions VertexSubstance ...\n",
      "[2024-12-18 15:08:40.406] [thermomatch] [info]  40% Importing reactions-psina12_07 VertexReaction ...\n",
      "[jsonio17] [info] VertexSubstance loading collection: 8, loading query: 49465\n",
      "[2024-12-18 15:08:40.792] [thermomatch] [info]  52% Importing phases-psina12_07 VertexPhase ...\n",
      "[jsonio17] [info] VertexPhase loading collection: 6654, loading query: 10844\n",
      "[2024-12-18 15:08:40.842] [thermomatch] [info]  55% Importing phases VertexPhase ...\n",
      "[2024-12-18 15:08:40.928] [thermomatch] [info]  58% Importing ThermoDataSet VertexThermoDataSet ...\n",
      "[jsonio17] [info] VertexThermoDataSet loading collection: 3288, loading query: 2041\n",
      "[2024-12-18 15:08:40.934] [thermomatch] [info]  80% Load database to compare ...\n",
      "[2024-12-18 15:08:40.934] [thermomatch] [info]  90% Generate Edges ...\n",
      "[2024-12-18 15:08:40.934] [thermomatch] [info] Generate DataSource links\n",
      "[jsonio17] [info] VertexReaction loading collection: 10, loading query: 4397\n",
      "[jsonio17] [info] VertexSubstance loading collection: 12, loading query: 40483\n",
      "[jsonio17] [info] VertexDataSource loading collection: 26, loading query: 7107\n",
      "[2024-12-18 15:08:41.273] [thermomatch] [info] Generate Pure Phase links\n",
      "[jsonio17] [info] VertexPhase loading collection: 15, loading query: 17441\n",
      "[jsonio17] [info] VertexSubstance loading collection: 13, loading query: 47375\n",
      "[2024-12-18 15:08:41.571] [thermomatch] [info] Generate ThermoDataSet links\n",
      "[jsonio17] [info] VertexThermoDataSet loading collection: 17, loading query: 1513\n",
      "[2024-12-18 15:08:41.671] [thermomatch] [info]  100% Ready to test\n"
     ]
    }
   ],
   "source": [
    "#print( description )\n",
    "generator.runImport(\"ReacDCImport\", description, \"data-in/cemdata18.refs.json\", \"Cemdata18\");"
   ]
  },
  {
   "cell_type": "code",
   "execution_count": null,
   "id": "727444f0-ef27-466d-b4e1-9b1ee17165f7",
   "metadata": {},
   "outputs": [],
   "source": []
  },
  {
   "cell_type": "code",
   "execution_count": null,
   "id": "74cbf0e5-3369-4674-974c-6f0d8480138d",
   "metadata": {},
   "outputs": [],
   "source": []
  }
 ],
 "metadata": {
  "kernelspec": {
   "display_name": "Python 3 (ipykernel)",
   "language": "python",
   "name": "python3"
  },
  "language_info": {
   "codemirror_mode": {
    "name": "ipython",
    "version": 3
   },
   "file_extension": ".py",
   "mimetype": "text/x-python",
   "name": "python",
   "nbconvert_exporter": "python",
   "pygments_lexer": "ipython3",
   "version": "3.10.17"
  }
 },
 "nbformat": 4,
 "nbformat_minor": 5
}
