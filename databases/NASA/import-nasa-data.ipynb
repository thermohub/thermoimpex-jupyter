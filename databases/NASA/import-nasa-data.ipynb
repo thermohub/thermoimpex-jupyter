{
 "cells": [
  {
   "cell_type": "code",
   "execution_count": null,
   "id": "9f27c90e-df52-406f-9137-65f8fd2a78bd",
   "metadata": {},
   "outputs": [],
   "source": [
    "import thermomatch as match\n",
    "match.ThermoImpexGenerator.create_local_database_if_not_existent = True"
   ]
  },
  {
   "cell_type": "code",
   "execution_count": null,
   "id": "951951eb-acd5-420a-823d-427ad1ddf400",
   "metadata": {},
   "outputs": [],
   "source": [
    "# Set path to `schemas` and `lua` not from the configuration file\n",
    "match.ThermoImpexGenerator.setResourcesDirectory(\"../../Resources\")\n",
    "\n",
    "# Connect to Arango database\n",
    "generator = match.ThermoImpexGenerator(\"http://localhost:8529\", \"root\", \"\", \"ORD_nasa02\", True, match.ThermoImpexGenerator.File, True)"
   ]
  },
  {
   "cell_type": "code",
   "execution_count": null,
   "id": "578d2eca-3feb-49cb-ae85-2e3b7e4e0e0e",
   "metadata": {},
   "outputs": [],
   "source": [
    "# Import References (the collection name and VertexDataSource schema would be obtained from the script by default)\n",
    "# keys = generator.importFileToDatabase(\"FormatTableFile\", \"scripts/thermo.FormatTableFile.json\", \"data/thermo.inp\", \"\")  "
   ]
  },
  {
   "cell_type": "code",
   "execution_count": null,
   "id": "d9c76bca-d693-4f97-a0dc-b49f9455df61",
   "metadata": {},
   "outputs": [],
   "source": [
    "# Execute import from PSI table format data\n",
    "description = [\n",
    "    match.ImpexRowDescription(\"elements\", \"VertexElement\", \"records\", \"FormatTableFile\", \"scripts-in/elements.FormatTableFile.json\" ), # elements records NEA based\n",
    "    match.ImpexRowDescription(\"thermo\", \"VertexSubstance\", \"records\", \"FormatTableFile\", \"scripts-in/thermo.FormatTableFile.json\" ), # subtances records\n",
    "    match.ImpexRowDescription(\"ThermoDataSet\", \"VertexThermoDataSet\", \"records_and_links\", \"FormatTableFile\", \"scripts-in/thermodataset.FormatTableFile.json\") # ThermoDataSet record and link to elements, substances, rdc\n",
    "]"
   ]
  },
  {
   "cell_type": "code",
   "execution_count": null,
   "id": "f1938e05-9bb9-4e18-a33c-48ea79f34798",
   "metadata": {},
   "outputs": [],
   "source": [
    "generator.runImport(\"TableImport\", description, \"data-in/elements.nasa.inp\", \"\");"
   ]
  },
  {
   "cell_type": "code",
   "execution_count": null,
   "id": "fe308dba-3498-484a-8f3a-eb9e0fc60984",
   "metadata": {},
   "outputs": [],
   "source": []
  }
 ],
 "metadata": {
  "kernelspec": {
   "display_name": "Python 3 (ipykernel)",
   "language": "python",
   "name": "python3"
  },
  "language_info": {
   "codemirror_mode": {
    "name": "ipython",
    "version": 3
   },
   "file_extension": ".py",
   "mimetype": "text/x-python",
   "name": "python",
   "nbconvert_exporter": "python",
   "pygments_lexer": "ipython3",
   "version": "3.10.14"
  }
 },
 "nbformat": 4,
 "nbformat_minor": 5
}
