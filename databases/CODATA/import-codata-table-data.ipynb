{
 "cells": [
  {
   "cell_type": "code",
   "execution_count": null,
   "id": "9f27c90e-df52-406f-9137-65f8fd2a78bd",
   "metadata": {},
   "outputs": [],
   "source": [
    "import thermomatch as match\n",
    "match.ThermoImpexGenerator.create_local_database_if_not_existent = True"
   ]
  },
  {
   "cell_type": "code",
   "execution_count": null,
   "id": "951951eb-acd5-420a-823d-427ad1ddf400",
   "metadata": {},
   "outputs": [],
   "source": [
    "# Set path to `schemas` and `lua` not from the configuration file\n",
    "match.ThermoImpexGenerator.setResourcesDirectory(\"../../Resources\")\n",
    "\n",
    "# Connect to Arango database\n",
    "generator = match.ThermoImpexGenerator(\"http://localhost:8529\", \"root\", \"\", \"ORD_CODATA\", True, match.ThermoImpexGenerator.File, True)"
   ]
  },
  {
   "cell_type": "code",
   "execution_count": null,
   "id": "75ab906d-0168-4c99-9993-584530ad1a65",
   "metadata": {},
   "outputs": [],
   "source": [
    "# List of implemented thermodynamic formats\n",
    "# print( generator.allFormats() )\n",
    "\n",
    "# Execute import from PSI table format data\n",
    "description = [\n",
    "    #match.ImpexRowDescription(\"icomp\", \"VertexElement\", \"records\", \"FormatTableFile\", \"scripts/elements.FormatTableFile.json\"), # element records\n",
    "    match.ImpexRowDescription(\"refs\", \"VertexDataSource\", \"records\", \"FormatStructDataFile\", \"scripts-in/references.FormatStructDataFile.json\"), # reference records\n",
    "    match.ImpexRowDescription(\"substances\", \"VertexSubstance\", \"records\", \"FormatTableFile\", \"scripts-in/substances.FormatTableFile.json\"), # substance records for master aqeuous species\n",
    "    #links to references\n",
    "    match.ImpexRowDescription(\"substances\", \"VertexTemporary\", \"records_and_links\", \"FormatTableFile\", \"scripts-in/substances_references.FormatTableFile.json\"), # links to master substances from references\n",
    "    # references\n",
    "    # match.ImpexRowDescription(\"SIT\", \"VertexTemporary\", \"records_and_links\", \"FormatTableFile\", \"scripts/int_Na_references.FormatTableFile.json\"), # not working yet\n",
    "    match.ImpexRowDescription(\"ThermoDataSet\", \"VertexThermoDataSet\", \"records_and_links\", \"FormatTableFile\", \"scripts-in/thermodataset.FormatTableFile.json\") # ThermoDataSet record and link to elements, substances, rdc\n",
    "]\n"
   ]
  },
  {
   "cell_type": "code",
   "execution_count": null,
   "id": "39f719c9-d02a-4997-a3b8-5ebe1bc4726b",
   "metadata": {},
   "outputs": [],
   "source": [
    "generator.runImport(\"TableImport\", description, \"data-in/refs.codata.csv\", \"\");"
   ]
  },
  {
   "cell_type": "code",
   "execution_count": null,
   "id": "902ad74d-be92-48e4-aa60-4da8d883696a",
   "metadata": {},
   "outputs": [],
   "source": []
  }
 ],
 "metadata": {
  "kernelspec": {
   "display_name": "Python 3 (ipykernel)",
   "language": "python",
   "name": "python3"
  },
  "language_info": {
   "codemirror_mode": {
    "name": "ipython",
    "version": 3
   },
   "file_extension": ".py",
   "mimetype": "text/x-python",
   "name": "python",
   "nbconvert_exporter": "python",
   "pygments_lexer": "ipython3",
   "version": "3.10.14"
  }
 },
 "nbformat": 4,
 "nbformat_minor": 5
}
