{
 "cells": [
  {
   "cell_type": "code",
   "execution_count": 49,
   "id": "cc404f68-c204-442e-8732-475ff806b49c",
   "metadata": {},
   "outputs": [],
   "source": [
    "import json\n",
    "# Sample JSON file\n",
    "json_file = \"main_DComp_backup\"+ \".json\"\n",
    "# change bellow to\n",
    "                    #else:\n",
    "                     #   dod[18][\"val\"][0] = \"Miron:2025:rep:\"\n",
    "                     #   dod[19][\"val\"][0] = \"PSINa25\"\n",
    "def read_json(file_path):\n",
    "    with open(file_path, \"r\", encoding=\"utf-8\") as file:\n",
    "        data = json.load(file)\n",
    "    return data\n",
    "\n",
    "def process_json(data):\n",
    "    for item in data:\n",
    "        print(f\"Processing item with key: {item.get('key', [])}\")\n",
    "        for entry in item.get(\"dod\", []):\n",
    "            print(f\"ID: {entry.get('id', 'N/A')}, Label: {entry.get('label', 'Unknown')}, Value: {entry.get('val', 'None')}\")"
   ]
  },
  {
   "cell_type": "code",
   "execution_count": 50,
   "id": "2df680a6-d08c-4a38-98fb-882e52213130",
   "metadata": {},
   "outputs": [],
   "source": [
    "# Read and process JSON data\n",
    "json_data = read_json(json_file)\n",
    "#process_json(json_data)"
   ]
  },
  {
   "cell_type": "raw",
   "id": "5f9af05c-bdc2-4f50-9ec0-088e3990581f",
   "metadata": {},
   "source": [
    "#processed_data = process_items_18_19(json_data)"
   ]
  },
  {
   "cell_type": "code",
   "execution_count": 51,
   "id": "51d402ee-14e4-4738-b4ba-474d0df7246f",
   "metadata": {},
   "outputs": [],
   "source": [
    "import pandas as pd\n",
    "def load_references(file_path):\n",
    "    \"\"\"Load reference data from Excel file.\"\"\"\n",
    "    df = pd.read_excel(file_path, sheet_name=\"Sheet1\")\n",
    "    ref_dict = dict(zip(df[\"Ref_abb\"].str.replace(\" \", \"\"), df[\"Ref_GEMS\"]))  # Remove spaces for comparison\n",
    "    return ref_dict"
   ]
  },
  {
   "cell_type": "code",
   "execution_count": 52,
   "id": "73a17835-2536-432d-ba62-e3ee908b0a60",
   "metadata": {},
   "outputs": [],
   "source": [
    "# Load reference data\n",
    "reference_file = \"references.xlsx\"\n",
    "reference_data = load_references(reference_file)"
   ]
  },
  {
   "cell_type": "code",
   "execution_count": 53,
   "id": "6576a8c5-3012-484e-922b-cf02386918ac",
   "metadata": {},
   "outputs": [],
   "source": [
    "def process_items_18_19(data, references):\n",
    "    \"\"\"Process item 18 and update item 19 based on reference mapping.\"\"\"\n",
    "    for item in data:\n",
    "        dod = item.get(\"dod\", [])\n",
    "        if len(dod) > 18:  # Ensure items 18 and 19 exist\n",
    "            val_18 = dod[18].get(\"val\", [])  # Item 18 (Index 17)\n",
    "            if isinstance(val_18, list):\n",
    "                updated_val_19 = []\n",
    "                updated_val_18 = []\n",
    "                for value in val_18:\n",
    "                    if \":\" in value:\n",
    "                        # Case 1: If ':' exists, split and process both parts\n",
    "                        first_part, second_part = value.split(\":\", 1)\n",
    "                        second_part = second_part.replace(\" \", \"\")  # Remove spaces\n",
    "                        second_partb = second_part\n",
    "                        second_part = references.get(second_part, second_part)  # Replace if match exists\n",
    "                        updated_val_19.append(first_part)\n",
    "                        if second_part == second_partb:\n",
    "                            updated_val_18.append(f\"{value}\")\n",
    "                        else:\n",
    "                            updated_val_18.append(f\"{second_part}\")\n",
    "                    else:\n",
    "                        # Case 2: If no ':', check if value matches Ref_abb\n",
    "                        cleaned_value = value.replace(\" \", \"\")  # Remove spaces for matching\n",
    "                        new_value = references.get(cleaned_value, value)  # Replace if match exists\n",
    "                        updated_val_19.append(value)\n",
    "                        updated_val_18.append(new_value)\n",
    "\n",
    "                if len(dod) > 19:  # Ensure item 19 exists\n",
    "                    dod[19][\"dM\"] = 1  # Set dM to 1 for item 19\n",
    "                    dod[19][\"val\"] = updated_val_19  # Updated list\n",
    "\n",
    "                dod[18][\"val\"] = updated_val_18  # Updated item 18\n",
    "                dod[19][\"dN\"] = len(dod[19][\"val\"])\n",
    "                dod[18][\"dN\"] = len(dod[18][\"val\"])\n",
    "                if len(dod[19][\"val\"]) > 1:\n",
    "                    if dod[19][\"val\"][1] == \"\": \n",
    "                        dod[18][\"val\"][0] = \"Miron:2025:rep:\"\n",
    "                        dod[19][\"val\"][0] = \"PSINa25\"\n",
    "                    else:\n",
    "                        dod[18][\"val\"][0] = \"Miron:2024:rep:\" # for RDC \"Miron:2025:rep:\"\n",
    "                        dod[19][\"val\"][0] = \"PSINa25\"\n",
    "    return data"
   ]
  },
  {
   "cell_type": "code",
   "execution_count": 54,
   "id": "42208083-ca8b-4918-a67e-d5d74ef1ba6d",
   "metadata": {},
   "outputs": [],
   "source": [
    "processed_data = process_items_18_19(json_data, reference_data)"
   ]
  },
  {
   "cell_type": "code",
   "execution_count": 55,
   "id": "7264f635-db46-4035-911c-eaa5f8fabb21",
   "metadata": {},
   "outputs": [],
   "source": [
    "#processed_data"
   ]
  },
  {
   "cell_type": "code",
   "execution_count": 56,
   "id": "26bc00b7-f963-49c6-bc25-fd0c27607cf1",
   "metadata": {},
   "outputs": [],
   "source": [
    "def update_vm_ref_values(data):\n",
    "    \"\"\"Update item 18 with 'Miron:2024:rep' and item 19 with 'Vm_Ref' if 'Vm_Ref:' is present in item 18.\"\"\"\n",
    "    for item in data:\n",
    "        dod = item.get(\"dod\", [])\n",
    "        if len(dod) > 19:  # Ensure items 18 and 19 exist\n",
    "            val_18 = dod[18].get(\"val\", [])  # Item 18\n",
    "            val_19 = dod[19].get(\"val\", [])  # Item 19\n",
    "\n",
    "            if isinstance(val_18, list) and isinstance(val_19, list):\n",
    "                updated_val_18 = []\n",
    "                updated_val_19 = val_19[:]  # Preserve original values from item 19\n",
    "\n",
    "                for value in val_18:\n",
    "                    if \"Vm_Ref:\" in value:\n",
    "                        updated_val_19 = []\n",
    "                        updated_val_18.append(\"Hummel_ea:2023:dat:\")  # Modify item 18\n",
    "                        updated_val_18.append(\"Miron:2024:rep:\")  # Modify item 18\n",
    "                        updated_val_19.append(\"TDB2020\") \n",
    "                        updated_val_19.append(\"Vm_Ref\") \n",
    "\n",
    "                        dod[19][\"dN\"] = 2  \n",
    "                        dod[18][\"dN\"] = 2  \n",
    "                    else:\n",
    "                        updated_val_18.append(value)  # Preserve item 18 values\n",
    "\n",
    "                dod[19][\"dM\"] = 1  # Set dM to 1 for item 19\n",
    "                dod[19][\"val\"] = updated_val_19  # Update item 19\n",
    "                dod[18][\"val\"] = updated_val_18  # Update item 18\n",
    "\n",
    "    return data"
   ]
  },
  {
   "cell_type": "code",
   "execution_count": 57,
   "id": "9e464017-4cd4-4c5d-a070-9715e67cf882",
   "metadata": {},
   "outputs": [],
   "source": [
    "processed_data = update_vm_ref_values(processed_data)"
   ]
  },
  {
   "cell_type": "code",
   "execution_count": 58,
   "id": "de526c9e-b4bb-48e8-940a-e514ca5f5a6a",
   "metadata": {},
   "outputs": [],
   "source": [
    "#processed_data"
   ]
  },
  {
   "cell_type": "code",
   "execution_count": 59,
   "id": "5eb9b4e4-616b-4f26-9efb-7abab3c64456",
   "metadata": {},
   "outputs": [],
   "source": [
    "def save_json(data, filename=\"formatted_references.json\"):\n",
    "    \"\"\"Save formatted data to a JSON file.\"\"\"\n",
    "    with open(filename, \"w\", encoding=\"utf-8\") as f:\n",
    "        json.dump(data, f, indent=4)"
   ]
  },
  {
   "cell_type": "code",
   "execution_count": 60,
   "id": "d5cfee83-f3f0-48bd-96d7-fc6a08e8cbfa",
   "metadata": {},
   "outputs": [],
   "source": [
    "# Save formatted data to a JSON file\n",
    "save_json(processed_data, \"formatted_\"+json_file)"
   ]
  },
  {
   "cell_type": "code",
   "execution_count": null,
   "id": "4194edfa-acfa-478f-96e9-fa1872354289",
   "metadata": {},
   "outputs": [],
   "source": []
  }
 ],
 "metadata": {
  "kernelspec": {
   "display_name": "Python 3 (ipykernel)",
   "language": "python",
   "name": "python3"
  },
  "language_info": {
   "codemirror_mode": {
    "name": "ipython",
    "version": 3
   },
   "file_extension": ".py",
   "mimetype": "text/x-python",
   "name": "python",
   "nbconvert_exporter": "python",
   "pygments_lexer": "ipython3",
   "version": "3.10.17"
  }
 },
 "nbformat": 4,
 "nbformat_minor": 5
}
