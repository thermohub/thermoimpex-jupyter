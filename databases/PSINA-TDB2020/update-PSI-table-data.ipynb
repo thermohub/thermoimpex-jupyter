{
 "cells": [
  {
   "cell_type": "code",
   "execution_count": 1,
   "id": "9f27c90e-df52-406f-9137-65f8fd2a78bd",
   "metadata": {},
   "outputs": [
    {
     "name": "stdout",
     "output_type": "stream",
     "text": [
      "[2025-06-17 10:54:18.044] [jsonio17] [info] Home directory is /home/dmiron\n"
     ]
    }
   ],
   "source": [
    "import thermomatch as match\n",
    "match.ThermoImpexGenerator.create_local_database_if_not_existent = True"
   ]
  },
  {
   "cell_type": "code",
   "execution_count": 2,
   "id": "951951eb-acd5-420a-823d-427ad1ddf400",
   "metadata": {},
   "outputs": [
    {
     "name": "stdout",
     "output_type": "stream",
     "text": [
      "[jsonarango] [info] You are connected to: arango 3.9.12\n"
     ]
    }
   ],
   "source": [
    "# Set path to `schemas` and `lua` not from the configuration file\n",
    "match.ThermoImpexGenerator.setResourcesDirectory(\"../../Resources\")\n",
    "\n",
    "# Connect to Arango local database\n",
    "generator = match.ThermoImpexGenerator(\"http://localhost:8529\", \"root\", \"\", \"ORD_TDB2020_v25\", True, match.ThermoImpexGenerator.File, True)"
   ]
  },
  {
   "cell_type": "markdown",
   "id": "14ed02e8-42fb-4902-a9f0-78cb4bd0ab29",
   "metadata": {},
   "source": [
    "## 1. Upload Database (if needed)"
   ]
  },
  {
   "cell_type": "markdown",
   "id": "eeb4ba6a-5a27-4549-9edb-90716974c0f8",
   "metadata": {},
   "source": [
    "## 2. Delete reactions (duplicates and leave new ones), before reading new reactions in!!\n",
    "\tFe(OH)2(mic) + 2H+ = Fe+3 + 2H2O(l)\n",
    "\tMgCO3(s) = Mg+2 + CO3-2\n",
    "\tMg(OH)2(s) + H+ = Mg+2 + 2H2O(l)\n",
    "    1 Si(OH)4(aq) 1 OH- -1 H2O(l) = SiO(OH)3-\n",
    "    1 Si(OH)4(aq) 2 OH- -2 H2O(l) = SiO2(OH)2-2\n",
    "\tSiO2(am) + 4H2O(l) = Si(OH)4(aq)"
   ]
  },
  {
   "cell_type": "markdown",
   "id": "e229786b-5580-490f-b9e0-43c0b4f17634",
   "metadata": {},
   "source": [
    "## 3. Upload new records"
   ]
  },
  {
   "cell_type": "code",
   "execution_count": 3,
   "id": "9bb0886c-1ec2-4780-b13e-672b1bce3bd3",
   "metadata": {},
   "outputs": [
    {
     "name": "stdout",
     "output_type": "stream",
     "text": [
      "[2025-04-23 17:42:09.954] [thermomatch] [info]  0% Preparing files ...\n",
      "[2025-04-23 17:42:09.955] [thermomatch] [info]  10% Importing data ...\n",
      "[2025-04-23 17:42:09.955] [thermomatch] [info]  10% Importing master-solids VertexSubstance ...\n",
      "[jsonio17] [info] VertexSubstance loading collection: 20, loading query: 235734\n",
      "[2025-04-23 17:42:10.200] [thermomatch] [info]  14% Importing master-aqueous VertexSubstance ...\n",
      "[2025-04-23 17:42:10.202] [thermomatch] [info]  18% Importing reacdc-solids VertexSubstance ...\n",
      "[2025-04-23 17:42:10.211] [thermomatch] [info]  22% Importing reacdc-aqueous VertexSubstance ...\n",
      "[2025-04-23 17:42:10.215] [thermomatch] [info]  26% Importing reacdc-solids VertexReaction ...\n",
      "[jsonio17] [info] VertexReaction loading collection: 11, loading query: 154547\n",
      "[2025-04-23 17:42:10.380] [thermomatch] [info]  30% Importing reacdc-aqueous VertexReaction ...\n",
      "[2025-04-23 17:42:10.385] [thermomatch] [info]  34% Importing master-solids VertexPhase ...\n",
      "[jsonio17] [info] VertexPhase loading collection: 803, loading query: 65413\n",
      "[2025-04-23 17:42:10.459] [thermomatch] [info]  38% Importing reacdc-solids VertexPhase ...\n",
      "[2025-04-23 17:42:10.468] [thermomatch] [info]  42% Importing SIT VertexPhase ...\n",
      "[2025-04-23 17:42:10.469] [thermomatch] [info]  46% Importing SIT VertexMixingModel ...\n",
      "[jsonio17] [info] VertexMixingModel loading collection: 801, loading query: 1559\n",
      "[2025-04-23 17:42:10.473] [thermomatch] [info]  50% Importing SIT VertexInteraction ...\n",
      "[jsonio17] [info] VertexInteraction loading collection: 2040, loading query: 533800\n",
      "[2025-04-23 17:42:11.011] [thermomatch] [info]  54% Importing SIT VertexInteraction ...\n",
      "[2025-04-23 17:42:11.013] [thermomatch] [info]  58% Importing SIT VertexInteraction ...\n",
      "[2025-04-23 17:42:11.015] [thermomatch] [info]  62% Importing ThermoDataSet VertexThermoDataSet ...\n",
      "[jsonio17] [info] VertexThermoDataSet loading collection: 12, loading query: 1118\n",
      "[2025-04-23 17:42:11.017] [thermomatch] [info]  80% Load database to compare ...\n",
      "[2025-04-23 17:42:11.017] [thermomatch] [info]  90% Generate Edges ...\n",
      "[2025-04-23 17:42:11.017] [thermomatch] [info] Generate Interactions links\n",
      "[jsonio17] [info] VertexInteraction loading collection: 36, loading query: 537175\n",
      "[jsonio17] [info] VertexMixingModel loading collection: 28, loading query: 1278\n",
      "[jsonio17] [info] VertexPhase loading collection: 33, loading query: 67790\n",
      "[jsonio17] [info] VertexSubstance loading collection: 31, loading query: 254893\n",
      "[2025-04-23 17:42:12.921] [thermomatch] [info] Unknown condition records verex type VertexMixingModel to generate Edges in TableImport\n",
      "[2025-04-23 17:42:12.921] [thermomatch] [info] Unknown condition records verex type VertexPhase to generate Edges in TableImport\n",
      "[2025-04-23 17:42:12.921] [thermomatch] [info] Unknown condition records verex type VertexPhase to generate Edges in TableImport\n",
      "[2025-04-23 17:42:12.921] [thermomatch] [info] Unknown condition records verex type VertexPhase to generate Edges in TableImport\n",
      "[2025-04-23 17:42:12.921] [thermomatch] [info] Generate Reaction links\n",
      "[jsonio17] [info] VertexElement loading collection: 14, loading query: 9648\n",
      "[jsonio17] [info] VertexSubstance loading collection: 38, loading query: 216719\n",
      "[2025-04-23 17:42:13.969] [thermomatch] [info] Unknown condition records verex type VertexSubstance to generate Edges in TableImport\n",
      "[2025-04-23 17:42:13.969] [thermomatch] [info] Unknown condition records verex type VertexSubstance to generate Edges in TableImport\n",
      "[2025-04-23 17:42:13.969] [thermomatch] [info] Unknown condition records verex type VertexSubstance to generate Edges in TableImport\n",
      "[2025-04-23 17:42:13.969] [thermomatch] [info] Unknown condition records verex type VertexSubstance to generate Edges in TableImport\n",
      "[2025-04-23 17:42:13.969] [thermomatch] [info] Generate ThermoDataSet links\n",
      "[jsonio17] [info] VertexThermoDataSet loading collection: 41, loading query: 1400\n",
      "[2025-04-23 17:42:14.224] [thermomatch] [info]  100% Ready to test\n"
     ]
    }
   ],
   "source": [
    "# Import data for new master solids, reacdc solids and aqueous\n",
    "\n",
    "# Execute import from PSI table format data\n",
    "description = [\n",
    "    match.ImpexRowDescription(\"master-solids\", \"VertexSubstance\", \"records\", \"FormatTableFile\", \"scripts-in/master_substances_solids.FormatTableFile.json\"), # new solids\n",
    "    match.ImpexRowDescription(\"master-aqueous\", \"VertexSubstance\", \"records\", \"FormatTableFile\", \"scripts-in/master_substances.FormatTableFile.json\"), # new aqueous\n",
    "    match.ImpexRowDescription(\"reacdc-solids\", \"VertexSubstance\", \"records\", \"FormatTableFile\", \"scripts-in/product_substances.FormatTableFile.json\"), # new reactions solids \n",
    "    match.ImpexRowDescription(\"reacdc-aqueous\", \"VertexSubstance\", \"records\", \"FormatTableFile\", \"scripts-in/product_substances.FormatTableFile.json\"), # new reactions aqueous \n",
    "    match.ImpexRowDescription(\"reacdc-solids\", \"VertexReaction\", \"records_and_links\", \"FormatTableFile\", \"scripts-in/product_reactions_dissolution.FormatTableFile.json\"), # reaction records for dependent solid species and links to reactants\n",
    "    match.ImpexRowDescription(\"reacdc-aqueous\", \"VertexReaction\", \"records_and_links\", \"FormatTableFile\", \"scripts-in/product_reactions.FormatTableFile.json\"), # reaction records for dependent aqeuous species and links to reactants\n",
    "    match.ImpexRowDescription(\"master-solids\", \"VertexPhase\", \"records_and_links\", \"FormatTableFile\", \"scripts-in/phase-solids.FormatTableFile.json\"), # phase records and links to solid substance records\n",
    "    match.ImpexRowDescription(\"reacdc-solids\", \"VertexPhase\", \"records_and_links\", \"FormatTableFile\", \"scripts-in/phase-solids.FormatTableFile.json\"), # phase records and links to solid substance records\n",
    "    # SIT\n",
    "    match.ImpexRowDescription(\"SIT\", \"VertexPhase\", \"records\", \"FormatTableFile\", \"scripts-in/phase_sit.FormatTableFile.json\"), # record for aq_sit phase\n",
    "    match.ImpexRowDescription(\"SIT\", \"VertexMixingModel\", \"records\", \"FormatTableFile\", \"scripts-in/mixmod_sit.FormatTableFile.json\"), # record for aq_sit mixing model\n",
    "    match.ImpexRowDescription(\"SIT\", \"VertexInteraction\", \"records_and_links\", \"FormatTableFile\", \"scripts-in/int_Na.FormatTableFile.json\"), # interaction records with Na+ and links to substance records\n",
    "    match.ImpexRowDescription(\"SIT\", \"VertexInteraction\", \"records_and_links\", \"FormatTableFile\", \"scripts-in/int_Cl.FormatTableFile.json\"), # interaction records with Cl- and links to substance records\n",
    "    match.ImpexRowDescription(\"SIT\", \"VertexInteraction\", \"records_and_links\", \"FormatTableFile\", \"scripts-in/int_ClO4.FormatTableFile.json\"), # interaction records with ClO4- and links to substance records\n",
    "    match.ImpexRowDescription(\"ThermoDataSet\", \"VertexThermoDataSet\", \"records_and_links\", \"FormatTableFile\", \"scripts-in/thermodataset.FormatTableFile.json\") # ThermoDataSet record and link to elements, substances, rdc\n",
    "]\n",
    "\n",
    "generator.runImport(\"TableImport\", description, \"data-in/temperature/master-solids.new.csv\", \"rdc_PSITDB2020\");"
   ]
  },
  {
   "cell_type": "code",
   "execution_count": 7,
   "id": "e5796b37-4f13-4ada-a6e6-0bd38cee8245",
   "metadata": {},
   "outputs": [
    {
     "name": "stdout",
     "output_type": "stream",
     "text": [
      "[2025-04-30 10:12:07.740] [thermomatch] [info] Clear loaded data\n",
      "[2025-04-30 10:12:07.740] [thermomatch] [info]  0% Preparing files ...\n",
      "[2025-04-30 10:12:07.740] [thermomatch] [info]  10% Importing data ...\n",
      "[2025-04-30 10:12:07.740] [thermomatch] [info]  10% Importing master-solids VertexPhase ...\n",
      "[2025-04-30 10:12:07.749] [thermomatch] [info]  30% Importing reacdc-solids VertexPhase ...\n",
      "[2025-04-30 10:12:07.760] [thermomatch] [info]  50% Importing ThermoDataSet VertexThermoDataSet ...\n",
      "[2025-04-30 10:12:07.762] [thermomatch] [info]  80% Load database to compare ...\n",
      "[2025-04-30 10:12:07.762] [thermomatch] [info]  90% Generate Edges ...\n",
      "[2025-04-30 10:12:07.762] [thermomatch] [info] Generate Pure Phase links\n",
      "[jsonio17] [info] VertexPhase loading collection: 35, loading query: 69860\n",
      "[jsonio17] [info] VertexSubstance loading collection: 34, loading query: 211646\n",
      "[2025-04-30 10:12:08.265] [thermomatch] [info] Generate ThermoDataSet links\n",
      "[jsonio17] [info] VertexThermoDataSet loading collection: 46, loading query: 1099\n",
      "[2025-04-30 10:12:08.502] [thermomatch] [info]  100% Ready to test\n"
     ]
    }
   ],
   "source": [
    "# Import data for new master solids, reacdc solids and aqueous\n",
    "\n",
    "# Execute import from PSI table format data\n",
    "#description = [\n",
    "#    match.ImpexRowDescription(\"master-solids\", \"VertexSubstance\", \"records\", \"FormatTableFile\", \"scripts-in/master_substances_solids.FormatTableFile.json\"), # new solids\n",
    "#    match.ImpexRowDescription(\"reacdc-solids\", \"VertexSubstance\", \"records\", \"FormatTableFile\", \"scripts-in/product_substances.FormatTableFile.json\"), # new reactions solids \n",
    "#    match.ImpexRowDescription(\"reacdc-solids\", \"VertexReaction\", \"records_and_links\", \"FormatTableFile\", \"scripts-in/product_reactions_dissolution.FormatTableFile.json\"), # reaction records for dependent solid species and links to reactants\n",
    "#    match.ImpexRowDescription(\"master-solids\", \"VertexPhase\", \"records_and_links\", \"FormatTableFile\", \"scripts-in/phase-solids.FormatTableFile.json\"), # phase records and links to solid substance records\n",
    "#    match.ImpexRowDescription(\"reacdc-solids\", \"VertexPhase\", \"records_and_links\", \"FormatTableFile\", \"scripts-in/phase-solids.FormatTableFile.json\"), # phase records and links to solid substance records\n",
    "#    match.ImpexRowDescription(\"ThermoDataSet\", \"VertexThermoDataSet\", \"records_and_links\", \"FormatTableFile\", \"scripts-in/thermodataset.FormatTableFile.json\") # ThermoDataSet record and link to elements, substances, rdc\n",
    "#]\n",
    "\n",
    "#generator.runImport(\"TableImport\", description, \"data-in/temperature/master-solids.new.csv\", \"rdc_PSITDB2020\");"
   ]
  },
  {
   "cell_type": "markdown",
   "id": "23d4845b-4a5a-4fa3-a93b-bca735ad461d",
   "metadata": {},
   "source": [
    "### update data of elements and reactions"
   ]
  },
  {
   "cell_type": "code",
   "execution_count": 9,
   "id": "81fdfa44-c334-4e7e-9d57-a51b39de9f8c",
   "metadata": {},
   "outputs": [
    {
     "data": {
      "text/plain": [
       "['elements/Ac;0:ELEMENT;26:PSI_NAGRA20',\n",
       " 'elements/Ag;0:ELEMENT;26:PSI_NAGRA20',\n",
       " 'elements/Al;0:ELEMENT;26:PSI_NAGRA20',\n",
       " 'elements/Am;0:ELEMENT;26:PSI_NAGRA20',\n",
       " 'elements/As;0:ELEMENT;26:PSI_NAGRA20',\n",
       " 'elements/B;0:ELEMENT;26:PSI_NAGRA20',\n",
       " 'elements/Ba;0:ELEMENT;26:PSI_NAGRA20',\n",
       " 'elements/Br;0:ELEMENT;26:PSI_NAGRA20',\n",
       " 'elements/C;0:ELEMENT;26:PSI_NAGRA20',\n",
       " 'elements/Ca;0:ELEMENT;26:PSI_NAGRA20',\n",
       " 'elements/Cd;0:ELEMENT;26:PSI_NAGRA20',\n",
       " 'elements/Cf;0:ELEMENT;26:PSI_NAGRA20',\n",
       " 'elements/Cl;0:ELEMENT;26:PSI_NAGRA20',\n",
       " 'elements/Cm;0:ELEMENT;26:PSI_NAGRA20',\n",
       " 'elements/Cs;0:ELEMENT;26:PSI_NAGRA20',\n",
       " 'elements/Cu;0:ELEMENT;26:PSI_NAGRA20',\n",
       " 'elements/Eu;0:ELEMENT;26:PSI_NAGRA20',\n",
       " 'elements/F;0:ELEMENT;26:PSI_NAGRA20',\n",
       " 'elements/Fe;0:ELEMENT;26:PSI_NAGRA20',\n",
       " 'elements/H;0:ELEMENT;26:PSI_NAGRA20',\n",
       " 'elements/Hg;0:ELEMENT;26:PSI_NAGRA20',\n",
       " 'elements/Ho;0:ELEMENT;26:PSI_NAGRA20',\n",
       " 'elements/I;0:ELEMENT;26:PSI_NAGRA20',\n",
       " 'elements/K;0:ELEMENT;26:PSI_NAGRA20',\n",
       " 'elements/Li;0:ELEMENT;26:PSI_NAGRA20',\n",
       " 'elements/Mg;0:ELEMENT;26:PSI_NAGRA20',\n",
       " 'elements/Mn;0:ELEMENT;26:PSI_NAGRA20',\n",
       " 'elements/Mo;0:ELEMENT;26:PSI_NAGRA20',\n",
       " 'elements/N;0:ELEMENT;26:PSI_NAGRA20',\n",
       " 'elements/Na;0:ELEMENT;26:PSI_NAGRA20',\n",
       " 'elements/Nb;0:ELEMENT;26:PSI_NAGRA20',\n",
       " 'elements/Ni;0:ELEMENT;26:PSI_NAGRA20',\n",
       " 'elements/Np;0:ELEMENT;26:PSI_NAGRA20',\n",
       " 'elements/O;0:ELEMENT;26:PSI_NAGRA20',\n",
       " 'elements/P;0:ELEMENT;26:PSI_NAGRA20',\n",
       " 'elements/Pa;0:ELEMENT;26:PSI_NAGRA20',\n",
       " 'elements/Pb;0:ELEMENT;26:PSI_NAGRA20',\n",
       " 'elements/Pd;0:ELEMENT;26:PSI_NAGRA20',\n",
       " 'elements/Po;0:ELEMENT;26:PSI_NAGRA20',\n",
       " 'elements/Pu;0:ELEMENT;26:PSI_NAGRA20',\n",
       " 'elements/Ra;0:ELEMENT;26:PSI_NAGRA20',\n",
       " 'elements/S;0:ELEMENT;26:PSI_NAGRA20',\n",
       " 'elements/Se;0:ELEMENT;26:PSI_NAGRA20',\n",
       " 'elements/Si;0:ELEMENT;26:PSI_NAGRA20',\n",
       " 'elements/Sm;0:ELEMENT;26:PSI_NAGRA20',\n",
       " 'elements/Sn;0:ELEMENT;26:PSI_NAGRA20',\n",
       " 'elements/Sr;0:ELEMENT;26:PSI_NAGRA20',\n",
       " 'elements/Tc;0:ELEMENT;26:PSI_NAGRA20',\n",
       " 'elements/Th;0:ELEMENT;26:PSI_NAGRA20',\n",
       " 'elements/Ti;0:ELEMENT;26:PSI_NAGRA20',\n",
       " 'elements/U;0:ELEMENT;26:PSI_NAGRA20',\n",
       " 'elements/Zn;0:ELEMENT;26:PSI_NAGRA20',\n",
       " 'elements/Zr;0:ELEMENT;26:PSI_NAGRA20',\n",
       " 'elements/Zz;4:CHARGE;26:PSI_NAGRA20',\n",
       " 'elements/Cit;2:LIGAND;26:PSI_NAGRA20',\n",
       " 'elements/Edta;2:LIGAND;26:PSI_NAGRA20',\n",
       " 'elements/Isa;2:LIGAND;26:PSI_NAGRA20',\n",
       " 'elements/Oxa;2:LIGAND;26:PSI_NAGRA20',\n",
       " 'elements/N_atm;0:ELEMENT;26:PSI_NAGRA20']"
      ]
     },
     "execution_count": 9,
     "metadata": {},
     "output_type": "execute_result"
    }
   ],
   "source": [
    "# updating data of elements with default oxidation states, molar masses, entropy and Cp from CODATA, NEA and SUCPRT\n",
    "fields_list = [ \"_id\", \"properties.symbol\" ]\n",
    "generator.updateFileToDatabase(\"FormatTableFile\", \"scripts-in/elements_update.FormatTableFile.json\",\n",
    "                    \"../../datatypes/elements/data-in/elements.csv\", \"\", \"\", fields_list )\n",
    "\n",
    "# N_atm other and number 124"
   ]
  },
  {
   "cell_type": "code",
   "execution_count": 10,
   "id": "409d0219-b0ed-4ce4-b954-4b31b01eb4b6",
   "metadata": {},
   "outputs": [
    {
     "data": {
      "text/plain": [
       "['reactions/AlOH+2;26:PSI_NAGRA20;0',\n",
       " 'reactions/Al(OH)2+;26:PSI_NAGRA20;0',\n",
       " 'reactions/Al(OH)3(aq);26:PSI_NAGRA20;0',\n",
       " 'reactions/Al(OH)4-;26:PSI_NAGRA20;0',\n",
       " 'reactions/FeOH+;26:PSI_NAGRA20;0',\n",
       " 'reactions/Fe(OH)2(aq);26:PSI_NAGRA20;0',\n",
       " 'reactions/Fe(OH)3-;26:PSI_NAGRA20;0',\n",
       " 'reactions/FeOH+2;26:PSI_NAGRA20;0',\n",
       " 'reactions/Fe(OH)2+;26:PSI_NAGRA20;0',\n",
       " 'reactions/Fe(OH)3(aq);26:PSI_NAGRA20;0',\n",
       " 'reactions/Fe(OH)4-;26:PSI_NAGRA20;0',\n",
       " 'reactions/SiO(OH)3-;26:PSI_NAGRA20;0',\n",
       " 'reactions/SiO2(OH)2-2;26:PSI_NAGRA20;0',\n",
       " 'reactions/CaSiO2(OH)2(aq);26:PSI_NAGRA20;0',\n",
       " 'reactions/NH4+;26:PSI_NAGRA20;0']"
      ]
     },
     "execution_count": 10,
     "metadata": {},
     "output_type": "execute_result"
    }
   ],
   "source": [
    "# updating data of product reactions aqeuous with temperature dependency\n",
    "fields_list = [ \"_id\", \"properties.symbol\", \"properties.sourcetdb\" ]\n",
    "\n",
    "generator.updateFileToDatabase(\"FormatTableFile\", \"scripts-in/product_reactions_update.FormatTableFile.json\",\n",
    "                    \"data-in/temperature/reacdc-aqueous.csv\", \"\", \"\", fields_list )"
   ]
  },
  {
   "cell_type": "code",
   "execution_count": 11,
   "id": "428fc8de-4ac4-4017-94d0-c2add117caa9",
   "metadata": {},
   "outputs": [
    {
     "data": {
      "text/plain": [
       "['reactions/Fe(OH)3(mic);26:PSI_NAGRA20;0',\n",
       " 'reactions/MgCO3(s);26:PSI_NAGRA20;0',\n",
       " 'reactions/Mg(OH)2(s);26:PSI_NAGRA20;0',\n",
       " 'reactions/CaSO4w0.5(cr);26:PSI_NAGRA20;0',\n",
       " 'reactions/SiO2(am);26:PSI_NAGRA20;0']"
      ]
     },
     "execution_count": 11,
     "metadata": {},
     "output_type": "execute_result"
    }
   ],
   "source": [
    "# updating data of product reactions solids with temperature dependency\n",
    "fields_list = [ \"_id\", \"properties.symbol\", \"properties.sourcetdb\" ]\n",
    "\n",
    "generator.updateFileToDatabase(\"FormatTableFile\", \"scripts-in/product_reactions_update.FormatTableFile.json\",\n",
    "                    \"data-in/temperature/reacdc-solids.csv\", \"\", \"\", fields_list )"
   ]
  },
  {
   "cell_type": "markdown",
   "id": "e5e9f192-85d0-47f6-a6b1-8c4d52cf984c",
   "metadata": {},
   "source": [
    "## 2. calculate properties of reactions in RecordCalculator\n"
   ]
  },
  {
   "cell_type": "markdown",
   "id": "52f76213-3e08-470d-a4d3-53825a6adcba",
   "metadata": {},
   "source": [
    "### Dcomps"
   ]
  },
  {
   "cell_type": "code",
   "execution_count": 12,
   "id": "431868ef-4d65-434c-864a-5728cdbe3004",
   "metadata": {},
   "outputs": [
    {
     "name": "stdout",
     "output_type": "stream",
     "text": [
      "[2025-04-23 17:52:01.150] [thermomatch] [info] ids = [ [ \"substances/OH-;2:SC_AQSOLUTE;26:PSI_NAGRA20\", \"OH-\", \"defines/19539518\" ], [ \"substances/HS-;2:SC_AQSOLUTE;26:PSI_NAGRA20\", \"HS-\", \"defines/19539424\" ], [ \"substances/CO3-2;2:SC_AQSOLUTE;26:PSI_NAGRA20\", \"CO32-\", \"defines/19539316\" ], [ \"substances/PO4-3;2:SC_AQSOLUTE;26:PSI_NAGRA20\", \"PO43-\", \"defines/19539534\" ], [ \"substances/NH4+;2:SC_AQSOLUTE;26:PSI_NAGRA20\", \"NH4+\", \"defines/19539500\" ], [ \"substances/CaSiO2(OH)2(aq);2:SC_AQSOLUTE;26:PSI_NAGRA20\", \"_rdc_CaSiO2(OH)2(aq)\", \"defines/19598401\" ] ]\n",
      "[2025-04-23 17:52:01.150] [thermomatch] [info] Removed defines from substance id substances/OH-;2:SC_AQSOLUTE;26:PSI_NAGRA20\n"
     ]
    },
    {
     "data": {
      "text/plain": [
       "['substances/e-;2:SC_AQSOLUTE;26:PSI_NAGRA20',\n",
       " 'substances/H2O(l);2:SC_AQSOLUTE;26:PSI_NAGRA20',\n",
       " 'substances/Cl-;2:SC_AQSOLUTE;26:PSI_NAGRA20',\n",
       " 'substances/Na+;2:SC_AQSOLUTE;26:PSI_NAGRA20',\n",
       " 'substances/K+;2:SC_AQSOLUTE;26:PSI_NAGRA20',\n",
       " 'substances/Ca+2;2:SC_AQSOLUTE;26:PSI_NAGRA20',\n",
       " 'substances/Mg+2;2:SC_AQSOLUTE;26:PSI_NAGRA20',\n",
       " 'substances/Fe+2;2:SC_AQSOLUTE;26:PSI_NAGRA20',\n",
       " 'substances/Fe+3;2:SC_AQSOLUTE;26:PSI_NAGRA20',\n",
       " 'substances/Al+3;2:SC_AQSOLUTE;26:PSI_NAGRA20',\n",
       " 'substances/OH-;2:SC_AQSOLUTE;26:PSI_NAGRA20',\n",
       " 'substances/F-;2:SC_AQSOLUTE;26:PSI_NAGRA20',\n",
       " 'substances/ClO4-;2:SC_AQSOLUTE;26:PSI_NAGRA20',\n",
       " 'substances/NO3-;2:SC_AQSOLUTE;26:PSI_NAGRA20',\n",
       " 'substances/HS-;2:SC_AQSOLUTE;26:PSI_NAGRA20',\n",
       " 'substances/HCO3-;2:SC_AQSOLUTE;26:PSI_NAGRA20',\n",
       " 'substances/CO3-2;2:SC_AQSOLUTE;26:PSI_NAGRA20',\n",
       " 'substances/SO4-2;2:SC_AQSOLUTE;26:PSI_NAGRA20',\n",
       " 'substances/HPO4-2;2:SC_AQSOLUTE;26:PSI_NAGRA20',\n",
       " 'substances/PO4-3;2:SC_AQSOLUTE;26:PSI_NAGRA20',\n",
       " 'substances/Si(OH)4(aq);2:SC_AQSOLUTE;26:PSI_NAGRA20',\n",
       " 'substances/NO2-;2:SC_AQSOLUTE;26:PSI_NAGRA20',\n",
       " 'substances/NH4+;2:SC_AQSOLUTE;26:PSI_NAGRA20',\n",
       " 'substances/CaSiO2(OH)2(aq);2:SC_AQSOLUTE;26:PSI_NAGRA20']"
      ]
     },
     "execution_count": 12,
     "metadata": {},
     "output_type": "execute_result"
    },
    {
     "name": "stdout",
     "output_type": "stream",
     "text": [
      "[2025-04-23 17:52:01.150] [thermomatch] [info] Removed defines from substance id substances/HS-;2:SC_AQSOLUTE;26:PSI_NAGRA20\n",
      "[2025-04-23 17:52:01.151] [thermomatch] [info] Removed defines from substance id substances/CO3-2;2:SC_AQSOLUTE;26:PSI_NAGRA20\n",
      "[2025-04-23 17:52:01.151] [thermomatch] [info] Removed defines from substance id substances/PO4-3;2:SC_AQSOLUTE;26:PSI_NAGRA20\n",
      "[2025-04-23 17:52:01.151] [thermomatch] [info] Removed defines from substance id substances/NH4+;2:SC_AQSOLUTE;26:PSI_NAGRA20\n"
     ]
    }
   ],
   "source": [
    "# updating data of master aqeuous species with temperature dependency based on HKF\n",
    "fields_list = [ \"_id\", \"properties.symbol\", \"properties.sourcetdb\" ]\n",
    "\n",
    "generator.updateFileToDatabase(\"FormatTableFile\", \"scripts-in/master_substances_update.FormatTableFile.json\",\n",
    "                    \"data-in/temperature/master-aqueous.csv\", \"\", \"\", fields_list )"
   ]
  },
  {
   "cell_type": "markdown",
   "id": "040b82da-c77a-4dac-a50d-2532936c6dd4",
   "metadata": {},
   "source": [
    "## 3. calculate properties of rdc in RecordCalculator (max 200 at a time)"
   ]
  },
  {
   "cell_type": "markdown",
   "id": "22fb6c85-ce79-423f-ae96-b11e5380e82f",
   "metadata": {},
   "source": [
    "### Dcomps"
   ]
  },
  {
   "cell_type": "code",
   "execution_count": 3,
   "id": "1e24ed93-0003-4d5b-b8e5-c3f6e059b7b2",
   "metadata": {},
   "outputs": [
    {
     "name": "stdout",
     "output_type": "stream",
     "text": [
      "[2025-04-30 09:31:40.150] [thermomatch] [info] ids = [ [ \"substances/Fe(OH)3(mic);0:SC_COMPONENT;26:PSI_NAGRA20\", \"_rdc_2-line ferrihydrite\", \"defines/19675108\" ] ]\n"
     ]
    },
    {
     "data": {
      "text/plain": [
       "['substances/SiO2(cr);0:SC_COMPONENT;26:PSI_NAGRA20',\n",
       " 'substances/_-Al2O3(cr);0:SC_COMPONENT;26:PSI_NAGRA20',\n",
       " 'substances/Al(OH)3(cr);0:SC_COMPONENT;26:PSI_NAGRA20',\n",
       " 'substances/Fe2O3(alpha);0:SC_COMPONENT;26:PSI_NAGRA20',\n",
       " 'substances/Fe3O4(cr);0:SC_COMPONENT;26:PSI_NAGRA20',\n",
       " 'substances/FeOOH(alpha);0:SC_COMPONENT;26:PSI_NAGRA20',\n",
       " 'substances/FeOOH(gamma);0:SC_COMPONENT;26:PSI_NAGRA20',\n",
       " 'substances/Fe(OH)3(mic);0:SC_COMPONENT;26:PSI_NAGRA20',\n",
       " 'substances/Ca(OH)2(cr);0:SC_COMPONENT;26:PSI_NAGRA20',\n",
       " 'substances/Mg(OH)2(s);0:SC_COMPONENT;26:PSI_NAGRA20',\n",
       " 'substances/CaCO3(calcite);0:SC_COMPONENT;26:PSI_NAGRA20',\n",
       " 'substances/CaMg(CO3)2(cr);0:SC_COMPONENT;26:PSI_NAGRA20',\n",
       " 'substances/MgCO3(s);0:SC_COMPONENT;26:PSI_NAGRA20',\n",
       " 'substances/CaSO4w2(cr);0:SC_COMPONENT;26:PSI_NAGRA20',\n",
       " 'substances/CaSO4(cr);0:SC_COMPONENT;26:PSI_NAGRA20',\n",
       " 'substances/C3AS3(cr);0:SC_COMPONENT;26:PSI_NAGRA20',\n",
       " 'substances/C3FS3(cr);0:SC_COMPONENT;26:PSI_NAGRA20',\n",
       " 'substances/CaSiO2(cr);0:SC_COMPONENT;26:PSI_NAGRA20']"
      ]
     },
     "execution_count": 3,
     "metadata": {},
     "output_type": "execute_result"
    }
   ],
   "source": [
    "# updating data of master solids species with temperature dependency based on Cp coeff\n",
    "fields_list = [ \"_id\", \"properties.symbol\", \"properties.sourcetdb\" ]\n",
    "\n",
    "generator.updateFileToDatabase(\"FormatTableFile\", \"scripts-in/master_substances_solids_update.FormatTableFile.json\",\n",
    "                    \"data-in/temperature/master-solids.csv\", \"\", \"\", fields_list )"
   ]
  },
  {
   "cell_type": "code",
   "execution_count": 4,
   "id": "4b39abf5-07ce-4dee-b59b-2f50f22f52aa",
   "metadata": {},
   "outputs": [
    {
     "name": "stdout",
     "output_type": "stream",
     "text": [
      "[2025-04-24 10:04:51.416] [thermomatch] [info] ids = [ [ \"substances/CH4(g);1:SC_GASFLUID;26:PSI_NAGRA20\", \"CH4(g)\", \"defines/19539618\" ], [ \"substances/CO2(g);1:SC_GASFLUID;26:PSI_NAGRA20\", \"CO2(g)\", \"defines/19539628\" ], [ \"substances/H2(g);1:SC_GASFLUID;26:PSI_NAGRA20\", \"H2(g)\", \"defines/19539634\" ], [ \"substances/H2S(g);1:SC_GASFLUID;26:PSI_NAGRA20\", \"H2S(g)\", \"defines/19539654\" ], [ \"substances/H2Se(g);1:SC_GASFLUID;26:PSI_NAGRA20\", \"H2Se(g)\", \"defines/19548089\" ], [ \"substances/N2(g);1:SC_GASFLUID;26:PSI_NAGRA20\", \"N2(g)\", \"defines/19539640\" ], [ \"substances/O2(g);1:SC_GASFLUID;26:PSI_NAGRA20\", \"O2(g)\", \"defines/19539646\" ] ]\n",
      "[2025-04-24 10:04:51.416] [thermomatch] [info] Removed defines from substance id substances/CH4(g);1:SC_GASFLUID;26:PSI_NAGRA20\n",
      "[2025-04-24 10:04:51.417] [thermomatch] [info] Removed defines from substance id substances/CO2(g);1:SC_GASFLUID;26:PSI_NAGRA20\n",
      "[2025-04-24 10:04:51.417] [thermomatch] [info] Removed defines from substance id substances/H2(g);1:SC_GASFLUID;26:PSI_NAGRA20\n",
      "[2025-04-24 10:04:51.417] [thermomatch] [info] Removed defines from substance id substances/H2S(g);1:SC_GASFLUID;26:PSI_NAGRA20\n",
      "[2025-04-24 10:04:51.418] [thermomatch] [info] Removed defines from substance id substances/H2Se(g);1:SC_GASFLUID;26:PSI_NAGRA20\n",
      "[2025-04-24 10:04:51.418] [thermomatch] [info] Removed defines from substance id substances/N2(g);1:SC_GASFLUID;26:PSI_NAGRA20\n",
      "[2025-04-24 10:04:51.418] [thermomatch] [info] Removed defines from substance id substances/O2(g);1:SC_GASFLUID;26:PSI_NAGRA20\n"
     ]
    },
    {
     "data": {
      "text/plain": [
       "['substances/CH4(g);1:SC_GASFLUID;26:PSI_NAGRA20',\n",
       " 'substances/CO2(g);1:SC_GASFLUID;26:PSI_NAGRA20',\n",
       " 'substances/H2(g);1:SC_GASFLUID;26:PSI_NAGRA20',\n",
       " 'substances/H2S(g);1:SC_GASFLUID;26:PSI_NAGRA20',\n",
       " 'substances/H2Se(g);1:SC_GASFLUID;26:PSI_NAGRA20',\n",
       " 'substances/Hg(g);1:SC_GASFLUID;26:PSI_NAGRA20',\n",
       " 'substances/N2(g);1:SC_GASFLUID;26:PSI_NAGRA20',\n",
       " 'substances/O2(g);1:SC_GASFLUID;26:PSI_NAGRA20']"
      ]
     },
     "execution_count": 4,
     "metadata": {},
     "output_type": "execute_result"
    }
   ],
   "source": [
    "# updating data of master gases species with temperature dependency based on Cp coeff\n",
    "fields_list = [ \"_id\", \"properties.symbol\", \"properties.sourcetdb\" ]\n",
    "\n",
    "generator.updateFileToDatabase(\"FormatTableFile\", \"scripts-in/master_substances_gases_update.FormatTableFile.json\",\n",
    "                    \"data-in/temperature/master-gases.csv\", \"\", \"\", fields_list )"
   ]
  },
  {
   "cell_type": "code",
   "execution_count": 5,
   "id": "a2b2f5a5-b79c-41e4-bd27-61d92ac08920",
   "metadata": {},
   "outputs": [
    {
     "name": "stdout",
     "output_type": "stream",
     "text": [
      "[2025-04-24 10:04:54.077] [thermomatch] [info] ids = [ [ \"substances/Ac(OH)3(ag);0:SC_COMPONENT;26:PSI_NAGRA20\", \"_rdc_Ac(OH)3(aged)\", \"defines/19546659\" ], [ \"substances/Ac(OH)3(fr);0:SC_COMPONENT;26:PSI_NAGRA20\", \"_rdc_Ac(OH)3(fresh)\", \"defines/19546649\" ], [ \"substances/Ac2(Oxa)3(s);0:SC_COMPONENT;26:PSI_NAGRA20\", \"_rdc_Ac2(Oxa)3(s)\", \"defines/19546665\" ], [ \"substances/Ag2CO3(cr);0:SC_COMPONENT;26:PSI_NAGRA20\", \"_rdc_Ag2CO3(cr)\", \"defines/19550219\" ], [ \"substances/Ag2O(am);0:SC_COMPONENT;26:PSI_NAGRA20\", \"_rdc_Ag2O(am)\", \"defines/19550177\" ], [ \"substances/Ag2O(cr);0:SC_COMPONENT;26:PSI_NAGRA20\", \"_rdc_Ag2O(cr)\", \"defines/19550187\" ], [ \"substances/Ag2S(cr);0:SC_COMPONENT;26:PSI_NAGRA20\", \"_rdc_Ag2S(cr)\", \"defines/19550247\" ], [ \"substances/Ag2SeO3(cr);0:SC_COMPONENT;26:PSI_NAGRA20\", \"_rdc_Ag2SeO3(cr)\", \"defines/19550263\" ], [ \"substances/Ag2SeO4(cr);0:SC_COMPONENT;26:PSI_NAGRA20\", \"_rdc_Ag2SeO4(cr)\", \"defines/19550255\" ], [ \"substances/Ag2SO4(s);0:SC_COMPONENT;26:PSI_NAGRA20\", \"_rdc_Ag2SO4(s)\", \"defines/19550237\" ], [ \"substances/Ag3PO4(s);0:SC_COMPONENT;26:PSI_NAGRA20\", \"_rdc_Ag3PO4(s)\", \"defines/19550229\" ], [ \"substances/AgBr(cr);0:SC_COMPONENT;26:PSI_NAGRA20\", \"_rdc_AgBr(cr)\", \"defines/19550203\" ], [ \"substances/AgCl(cr);0:SC_COMPONENT;26:PSI_NAGRA20\", \"_rdc_AgCl(cr)\", \"defines/19550195\" ], [ \"substances/AgCN(s);0:SC_COMPONENT;26:PSI_NAGRA20\", \"_rdc_AgCN(s)\", \"defines/19550271\" ], [ \"substances/AgI(cr);0:SC_COMPONENT;26:PSI_NAGRA20\", \"_rdc_AgI(cr)\", \"defines/19550211\" ], [ \"substances/AgSeCN(cr);0:SC_COMPONENT;26:PSI_NAGRA20\", \"_rdc_AgSeCN(cr)\", \"defines/19550285\" ], [ \"substances/Al2Si2O5(OH)4(cr);0:SC_COMPONENT;26:PSI_NAGRA20\", \"_rdc_Kaolinite\", \"defines/19598595\" ], [ \"substances/AlOOH(cr);0:SC_COMPONENT;26:PSI_NAGRA20\", \"_rdc_Boehmite\", \"defines/19544751\" ], [ \"substances/Am(OH)3(am);0:SC_COMPONENT;26:PSI_NAGRA20\", \"_rdc_Am(OH)3(am)\", \"defines/19552395\" ], [ \"substances/Am(OH)3(cr);0:SC_COMPONENT;26:PSI_NAGRA20\", \"_rdc_Am(OH)3(cr)\", \"defines/19552385\" ], [ \"substances/Am2(CO3)3(am_hyd);0:SC_COMPONENT;26:PSI_NAGRA20\", \"_rdc_Am2(CO3)3(am_hyd)\", \"defines/19552425\" ], [ \"substances/AmO2OH(am);0:SC_COMPONENT;26:PSI_NAGRA20\", \"_rdc_AmO2OH(am)\", \"defines/19552365\" ], [ \"substances/AmOHCO3(am_hyd);0:SC_COMPONENT;26:PSI_NAGRA20\", \"_rdc_AmOHCO3(am_hyd)\", \"defines/19552417\" ], [ \"substances/AmOHCO3w0.5(cr);0:SC_COMPONENT;26:PSI_NAGRA20\", \"_rdc_AmOHCO3:0.5H2O(cr)\", \"defines/19552407\" ], [ \"substances/As(cr);0:SC_COMPONENT;26:PSI_NAGRA20\", \"_rdc_As(cr)\", \"defines/19539590\" ], [ \"substances/Ba_(UO2)(AsO4)_2w7(cr);0:SC_COMPONENT;26:PSI_NAGRA20\", \"_rdc_Ba[(UO2)(AsO4)]2:7H2O(cr)\", \"defines/19574452\" ], [ \"substances/Ba_(UO2)(PO4)_2w(cr);0:SC_COMPONENT;26:PSI_NAGRA20\", \"_rdc_Meta-uranocircite_II\", \"defines/19574144\" ], [ \"substances/Ba3(PO4)2(s);0:SC_COMPONENT;26:PSI_NAGRA20\", \"_rdc_Ba3(PO4)2(s)\", \"defines/19582750\" ], [ \"substances/BaCO3(cr);0:SC_COMPONENT;26:PSI_NAGRA20\", \"_rdc_Witherite\", \"defines/19544703\" ], [ \"substances/BaHPO4(cr);0:SC_COMPONENT;26:PSI_NAGRA20\", \"_rdc_BaHPO4(cr)\", \"defines/19582742\" ], [ \"substances/BaSeO3(cr);0:SC_COMPONENT;26:PSI_NAGRA20\", \"_rdc_BaSeO3(cr)\", \"defines/19548083\" ], [ \"substances/BaSeO4(cr);0:SC_COMPONENT;26:PSI_NAGRA20\", \"_rdc_BaSeO4(cr)\", \"defines/19548029\" ], [ \"substances/BaSO4(cr);0:SC_COMPONENT;26:PSI_NAGRA20\", \"_rdc_Barite\", \"defines/19544711\" ], [ \"substances/C(cr);0:SC_COMPONENT;26:PSI_NAGRA20\", \"_rdc_Graphite\", \"defines/19539602\" ], [ \"substances/Ca(H3Isa)2(cr);0:SC_COMPONENT;26:PSI_NAGRA20\", \"_rdc_Ca(H3Isa)2(cr)\", \"defines/19613767\" ], [ \"substances/Ca(Oxa)w1(cr);0:SC_COMPONENT;26:PSI_NAGRA20\", \"_rdc_Whewellite\", \"defines/19613729\" ], [ \"substances/Ca(Oxa)w2(cr);0:SC_COMPONENT;26:PSI_NAGRA20\", \"_rdc_Weddelite\", \"defines/19613739\" ], [ \"substances/Ca(Oxa)w3(cr);0:SC_COMPONENT;26:PSI_NAGRA20\", \"_rdc_Ca(Oxa):3H2O(cr)\", \"defines/19613749\" ], [ \"substances/Ca_(UO2)(AsO4)_2w10(cr);0:SC_COMPONENT;26:PSI_NAGRA20\", \"_rdc_Ca[(UO2)(AsO4)]2:10H2O(cr)\", \"defines/19574428\" ], [ \"substances/Ca_(UO2)(PO4)_2w6(cr);0:SC_COMPONENT;26:PSI_NAGRA20\", \"_rdc_Meta-autunite\", \"defines/19574120\" ], [ \"substances/Ca(UO2)2(SiO3OH)2w5(cr);0:SC_COMPONENT;26:PSI_NAGRA20\", \"_rdc_Uranophane\", \"defines/19598649\" ], [ \"substances/Ca0.5NpO2(OH)2w1.3(cr);0:SC_COMPONENT;26:PSI_NAGRA20\", \"_rdc_Ca0.5NpO2(OH)2:1.3H2O(cr)\", \"defines/19580136\" ], [ \"substances/Ca3(Cit)2w4(cr);0:SC_COMPONENT;26:PSI_NAGRA20\", \"_rdc_Ca3(Cit)2:4H2O(cr)\", \"defines/19613759\" ], [ \"substances/Ca3(PO4)2(cr);0:SC_COMPONENT;26:PSI_NAGRA20\", \"_rdc_Tuite\", \"defines/19582694\" ], [ \"substances/Ca4H(PO4)3w2.5(s);0:SC_COMPONENT;26:PSI_NAGRA20\", \"_rdc_Ca4H(PO4)3:2.5H2O(s)\", \"defines/19582718\" ], [ \"substances/Ca5(PO4)3Cl(cr);0:SC_COMPONENT;26:PSI_NAGRA20\", \"_rdc_Cl-apatite\", \"defines/19582668\" ], [ \"substances/Ca5(PO4)3F(cr);0:SC_COMPONENT;26:PSI_NAGRA20\", \"_rdc_F-apatite\", \"defines/19582658\" ], [ \"substances/Ca5(PO4)3OH(cr);0:SC_COMPONENT;26:PSI_NAGRA20\", \"_rdc_OH-apatite\", \"defines/19582648\" ], [ \"substances/CaCO3(aragonite);0:SC_COMPONENT;26:PSI_NAGRA20\", \"_rdc_Aragonite\", \"defines/19544653\" ], [ \"substances/CaCO3(vaterite);0:SC_COMPONENT;26:PSI_NAGRA20\", \"_rdc_Vaterite\", \"defines/19544661\" ], [ \"substances/CaF2(cr);0:SC_COMPONENT;26:PSI_NAGRA20\", \"_rdc_Fluorite\", \"defines/19544637\" ], [ \"substances/CaHK3(PO4)2(cr);0:SC_COMPONENT;26:PSI_NAGRA20\", \"_rdc_CaHK3(PO4)2(cr)\", \"defines/19582706\" ], [ \"substances/CaHPO4(cr);0:SC_COMPONENT;26:PSI_NAGRA20\", \"_rdc_Monetite\", \"defines/19582676\" ], [ \"substances/CaHPO4w2(cr);0:SC_COMPONENT;26:PSI_NAGRA20\", \"_rdc_Brushite\", \"defines/19582686\" ], [ \"substances/CaMoO4(cr);0:SC_COMPONENT;26:PSI_NAGRA20\", \"_rdc_Powellite\", \"defines/19564356\" ], [ \"substances/CaNpO2(OH)2.6Cl0.4w2(cr);0:SC_COMPONENT;26:PSI_NAGRA20\", \"_rdc_CaNpO2(OH)2.6Cl0.4:2H2O(cr)\", \"defines/19580150\" ], [ \"substances/CaSeO3w1(cr);0:SC_COMPONENT;26:PSI_NAGRA20\", \"_rdc_CaSeO3:H2O(cr)\", \"defines/19548067\" ], [ \"substances/CaSn(OH)6(pr);0:SC_COMPONENT;26:PSI_NAGRA20\", \"_rdc_CaSn(OH)6(pr)\", \"defines/19601871\" ], [ \"substances/CaU6O19w11(cr);0:SC_COMPONENT;26:PSI_NAGRA20\", \"_rdc_Becquerelite\", \"defines/19574108\" ], [ \"substances/Cd(OH)2(s);0:SC_COMPONENT;26:PSI_NAGRA20\", \"_rdc_Cd(OH)2(s)\", \"defines/19554080\" ], [ \"substances/Cd_(UO2)(AsO4)_2w8(cr);0:SC_COMPONENT;26:PSI_NAGRA20\", \"_rdc_Cd[(UO2)(AsO4)]2:8H2O(cr)\", \"defines/19574524\" ], [ \"substances/Cd_(UO2)(PO4)_2w10(cr);0:SC_COMPONENT;26:PSI_NAGRA20\", \"_rdc_Cd[(UO2)(PO4)]2:10H2O(cr)\", \"defines/19574288\" ], [ \"substances/Cd3(PO4)2(s);0:SC_COMPONENT;26:PSI_NAGRA20\", \"_rdc_Cd3(PO4)2(s)\", \"defines/19554096\" ], [ \"substances/Cd5H2(PO4)4w4(s);0:SC_COMPONENT;26:PSI_NAGRA20\", \"_rdc_Cd5H2(PO4)4:4H2O(s)\", \"defines/19554108\" ], [ \"substances/CdCO3(cr);0:SC_COMPONENT;26:PSI_NAGRA20\", \"_rdc_Otavite\", \"defines/19554088\" ], [ \"substances/CdS(s);0:SC_COMPONENT;26:PSI_NAGRA20\", \"_rdc_CdS(s)\", \"defines/19554118\" ], [ \"substances/Cs(UO2)(AsO4)w2.5(cr);0:SC_COMPONENT;26:PSI_NAGRA20\", \"_rdc_Cs(UO2)(AsO4):2.5H2O(cr)\", \"defines/19574392\" ], [ \"substances/Cs(UO2)(BO3)w1(cr);0:SC_COMPONENT;26:PSI_NAGRA20\", \"_rdc_Cs(UO2)(BO3):H2O(cr)\", \"defines/19574584\" ], [ \"substances/Cs(UO2)(PO4)w2.5(cr);0:SC_COMPONENT;26:PSI_NAGRA20\", \"_rdc_Cs(UO2)(PO4):2.5H2O(cr)\", \"defines/19574216\" ], [ \"substances/Cu(cr);0:SC_COMPONENT;26:PSI_NAGRA20\", \"_rdc_Cu(cr)\", \"defines/19558062\" ], [ \"substances/Cu(OH)2(s);0:SC_COMPONENT;26:PSI_NAGRA20\", \"_rdc_Cu(OH)2(s)\", \"defines/19558082\" ], [ \"substances/Cu_(UO2)(AsO4)_2w8(cr);0:SC_COMPONENT;26:PSI_NAGRA20\", \"_rdc_Metazeunerite\", \"defines/19574464\" ], [ \"substances/Cu_(UO2)(PO4)_2w8(cr);0:SC_COMPONENT;26:PSI_NAGRA20\", \"_rdc_Cu[(UO2)(PO4)]2:8H2O(cr)\", \"defines/19574240\" ], [ \"substances/Cu2CO3(OH)2(cr);0:SC_COMPONENT;26:PSI_NAGRA20\", \"_rdc_malachite\", \"defines/19558092\" ], [ \"substances/Cu2O(cr);0:SC_COMPONENT;26:PSI_NAGRA20\", \"_rdc_cuprite\", \"defines/19558126\" ], [ \"substances/Cu2S(cr);0:SC_COMPONENT;26:PSI_NAGRA20\", \"_rdc_chalcotite\", \"defines/19558144\" ], [ \"substances/Cu3(CO3)2(OH)2(cr);0:SC_COMPONENT;26:PSI_NAGRA20\", \"_rdc_azurite\", \"defines/19558102\" ], [ \"substances/CuCl(s);0:SC_COMPONENT;26:PSI_NAGRA20\", \"_rdc_CuCl(s)\", \"defines/19558134\" ], [ \"substances/CuO(cr);0:SC_COMPONENT;26:PSI_NAGRA20\", \"_rdc_tenorite\", \"defines/19558072\" ], [ \"substances/CuS(cr);0:SC_COMPONENT;26:PSI_NAGRA20\", \"_rdc_covellite\", \"defines/19558116\" ], [ \"substances/Eu(OH)3(am);0:SC_COMPONENT;26:PSI_NAGRA20\", \"_rdc_Eu(OH)3(am)\", \"defines/19595742\" ], [ \"substances/Eu(OH)3(cr);0:SC_COMPONENT;26:PSI_NAGRA20\", \"_rdc_Eu(OH)3(cr)\", \"defines/19595732\" ], [ \"substances/Eu2(CO3)3(cr);0:SC_COMPONENT;26:PSI_NAGRA20\", \"_rdc_Eu2(CO3)3(cr)\", \"defines/19595758\" ], [ \"substances/EuF3(cr);0:SC_COMPONENT;26:PSI_NAGRA20\", \"_rdc_EuF3(cr)\", \"defines/19595750\" ], [ \"substances/EuOHCO3(cr);0:SC_COMPONENT;26:PSI_NAGRA20\", \"_rdc_EuOHCO3(cr)\", \"defines/19595768\" ], [ \"substances/EuPO4w0.667(cr);0:SC_COMPONENT;26:PSI_NAGRA20\", \"_rdc_Eu-rhabdophane\", \"defines/19595778\" ], [ \"substances/Fe(OH)2(s);0:SC_COMPONENT;26:PSI_NAGRA20\", \"_rdc_\\\"\\\"\\\"white rust\\\"\\\"\\\"\", \"defin"
     ]
    },
    {
     "data": {
      "text/plain": [
       "['substances/Ac(OH)3(ag);0:SC_COMPONENT;26:PSI_NAGRA20',\n",
       " 'substances/Ac(OH)3(fr);0:SC_COMPONENT;26:PSI_NAGRA20',\n",
       " 'substances/Ac2(Oxa)3(s);0:SC_COMPONENT;26:PSI_NAGRA20',\n",
       " 'substances/Ag(cr);0:SC_COMPONENT;26:PSI_NAGRA20',\n",
       " 'substances/Ag2CO3(cr);0:SC_COMPONENT;26:PSI_NAGRA20',\n",
       " 'substances/Ag2O(am);0:SC_COMPONENT;26:PSI_NAGRA20',\n",
       " 'substances/Ag2O(cr);0:SC_COMPONENT;26:PSI_NAGRA20',\n",
       " 'substances/Ag2S(cr);0:SC_COMPONENT;26:PSI_NAGRA20',\n",
       " 'substances/Ag2Se(alpha);0:SC_COMPONENT;26:PSI_NAGRA20',\n",
       " 'substances/Ag2SeO3(cr);0:SC_COMPONENT;26:PSI_NAGRA20',\n",
       " 'substances/Ag2SeO4(cr);0:SC_COMPONENT;26:PSI_NAGRA20',\n",
       " 'substances/Ag2SO4(s);0:SC_COMPONENT;26:PSI_NAGRA20',\n",
       " 'substances/Ag3PO4(s);0:SC_COMPONENT;26:PSI_NAGRA20',\n",
       " 'substances/AgBr(cr);0:SC_COMPONENT;26:PSI_NAGRA20',\n",
       " 'substances/AgCl(cr);0:SC_COMPONENT;26:PSI_NAGRA20',\n",
       " 'substances/AgCN(s);0:SC_COMPONENT;26:PSI_NAGRA20',\n",
       " 'substances/AgI(cr);0:SC_COMPONENT;26:PSI_NAGRA20',\n",
       " 'substances/AgSeCN(cr);0:SC_COMPONENT;26:PSI_NAGRA20',\n",
       " 'substances/Al(OH)3(cr);0:SC_COMPONENT;26:PSI_NAGRA20',\n",
       " 'substances/Al2Si2O5(OH)4(cr);0:SC_COMPONENT;26:PSI_NAGRA20',\n",
       " 'substances/AlOOH(cr);0:SC_COMPONENT;26:PSI_NAGRA20',\n",
       " 'substances/Am(OH)3(am);0:SC_COMPONENT;26:PSI_NAGRA20',\n",
       " 'substances/Am(OH)3(cr);0:SC_COMPONENT;26:PSI_NAGRA20',\n",
       " 'substances/Am2(CO3)3(am_hyd);0:SC_COMPONENT;26:PSI_NAGRA20',\n",
       " 'substances/AmO2OH(am);0:SC_COMPONENT;26:PSI_NAGRA20',\n",
       " 'substances/AmOHCO3(am_hyd);0:SC_COMPONENT;26:PSI_NAGRA20',\n",
       " 'substances/AmOHCO3w0.5(cr);0:SC_COMPONENT;26:PSI_NAGRA20',\n",
       " 'substances/As(cr);0:SC_COMPONENT;26:PSI_NAGRA20',\n",
       " 'substances/Ba_(UO2)(AsO4)_2w7(cr);0:SC_COMPONENT;26:PSI_NAGRA20',\n",
       " 'substances/Ba_(UO2)(PO4)_2w(cr);0:SC_COMPONENT;26:PSI_NAGRA20',\n",
       " 'substances/Ba3(PO4)2(s);0:SC_COMPONENT;26:PSI_NAGRA20',\n",
       " 'substances/BaCO3(cr);0:SC_COMPONENT;26:PSI_NAGRA20',\n",
       " 'substances/BaHPO4(cr);0:SC_COMPONENT;26:PSI_NAGRA20',\n",
       " 'substances/BaSeO3(cr);0:SC_COMPONENT;26:PSI_NAGRA20',\n",
       " 'substances/BaSeO4(cr);0:SC_COMPONENT;26:PSI_NAGRA20',\n",
       " 'substances/BaSO4(cr);0:SC_COMPONENT;26:PSI_NAGRA20',\n",
       " 'substances/C(cr);0:SC_COMPONENT;26:PSI_NAGRA20',\n",
       " 'substances/Ca(H3Isa)2(cr);0:SC_COMPONENT;26:PSI_NAGRA20',\n",
       " 'substances/Ca(OH)2(cr);0:SC_COMPONENT;26:PSI_NAGRA20',\n",
       " 'substances/Ca(Oxa)w1(cr);0:SC_COMPONENT;26:PSI_NAGRA20',\n",
       " 'substances/Ca(Oxa)w2(cr);0:SC_COMPONENT;26:PSI_NAGRA20',\n",
       " 'substances/Ca(Oxa)w3(cr);0:SC_COMPONENT;26:PSI_NAGRA20',\n",
       " 'substances/Ca_(UO2)(AsO4)_2w10(cr);0:SC_COMPONENT;26:PSI_NAGRA20',\n",
       " 'substances/Ca_(UO2)(PO4)_2w6(cr);0:SC_COMPONENT;26:PSI_NAGRA20',\n",
       " 'substances/Ca(UO2)2(SiO3OH)2w5(cr);0:SC_COMPONENT;26:PSI_NAGRA20',\n",
       " 'substances/Beidellite(Ca);0:SC_COMPONENT;26:PSI_NAGRA20',\n",
       " 'substances/Nontronite(Ca);0:SC_COMPONENT;26:PSI_NAGRA20',\n",
       " 'substances/Montmorillonite(MgCa);0:SC_COMPONENT;26:PSI_NAGRA20',\n",
       " 'substances/Saponite(FeCa);0:SC_COMPONENT;26:PSI_NAGRA20',\n",
       " 'substances/Saponite(Ca);0:SC_COMPONENT;26:PSI_NAGRA20',\n",
       " 'substances/Beidellite_SBld-1;0:SC_COMPONENT;26:PSI_NAGRA20',\n",
       " 'substances/Nontronite_Nau-1;0:SC_COMPONENT;26:PSI_NAGRA20',\n",
       " 'substances/Mordenite-Ca;0:SC_COMPONENT;26:PSI_NAGRA20',\n",
       " 'substances/Montmorillonite(HcCa);0:SC_COMPONENT;26:PSI_NAGRA20',\n",
       " 'substances/Vermiculite(Ca);0:SC_COMPONENT;26:PSI_NAGRA20',\n",
       " 'substances/Vermiculite_SO;0:SC_COMPONENT;26:PSI_NAGRA20',\n",
       " 'substances/Clinoptilolite;0:SC_COMPONENT;26:PSI_NAGRA20',\n",
       " 'substances/Ca0.5NpO2(OH)2w1.3(cr);0:SC_COMPONENT;26:PSI_NAGRA20',\n",
       " 'substances/Heulandite_1;0:SC_COMPONENT;26:PSI_NAGRA20',\n",
       " 'substances/Heulandite_2;0:SC_COMPONENT;26:PSI_NAGRA20',\n",
       " 'substances/Stilbite;0:SC_COMPONENT;26:PSI_NAGRA20',\n",
       " 'substances/Ca3(Cit)2w4(cr);0:SC_COMPONENT;26:PSI_NAGRA20',\n",
       " 'substances/Ca3(PO4)2(cr);0:SC_COMPONENT;26:PSI_NAGRA20',\n",
       " 'substances/Ca4H(PO4)3w2.5(s);0:SC_COMPONENT;26:PSI_NAGRA20',\n",
       " 'substances/Ca5(PO4)3Cl(cr);0:SC_COMPONENT;26:PSI_NAGRA20',\n",
       " 'substances/Ca5(PO4)3F(cr);0:SC_COMPONENT;26:PSI_NAGRA20',\n",
       " 'substances/Ca5(PO4)3OH(cr);0:SC_COMPONENT;26:PSI_NAGRA20',\n",
       " 'substances/Low-silica_P-Ca;0:SC_COMPONENT;26:PSI_NAGRA20',\n",
       " 'substances/Scolecite;0:SC_COMPONENT;26:PSI_NAGRA20',\n",
       " 'substances/Chabazite-Ca;0:SC_COMPONENT;26:PSI_NAGRA20',\n",
       " 'substances/CaCO3(aragonite);0:SC_COMPONENT;26:PSI_NAGRA20',\n",
       " 'substances/CaCO3(calcite);0:SC_COMPONENT;26:PSI_NAGRA20',\n",
       " 'substances/CaCO3(vaterite);0:SC_COMPONENT;26:PSI_NAGRA20',\n",
       " 'substances/CaF2(cr);0:SC_COMPONENT;26:PSI_NAGRA20',\n",
       " 'substances/CaHK3(PO4)2(cr);0:SC_COMPONENT;26:PSI_NAGRA20',\n",
       " 'substances/CaHPO4(cr);0:SC_COMPONENT;26:PSI_NAGRA20',\n",
       " 'substances/CaHPO4w2(cr);0:SC_COMPONENT;26:PSI_NAGRA20',\n",
       " 'substances/CaMg(CO3)2(cr);0:SC_COMPONENT;26:PSI_NAGRA20',\n",
       " 'substances/CaMoO4(cr);0:SC_COMPONENT;26:PSI_NAGRA20',\n",
       " 'substances/CaNpO2(OH)2.6Cl0.4w2(cr);0:SC_COMPONENT;26:PSI_NAGRA20',\n",
       " 'substances/CaSeO3w1(cr);0:SC_COMPONENT;26:PSI_NAGRA20',\n",
       " 'substances/CaSn(OH)6(pr);0:SC_COMPONENT;26:PSI_NAGRA20',\n",
       " 'substances/CaSO4(cr);0:SC_COMPONENT;26:PSI_NAGRA20',\n",
       " 'substances/CaSO4w2(cr);0:SC_COMPONENT;26:PSI_NAGRA20',\n",
       " 'substances/CaU6O19w11(cr);0:SC_COMPONENT;26:PSI_NAGRA20',\n",
       " 'substances/Cd(OH)2(s);0:SC_COMPONENT;26:PSI_NAGRA20',\n",
       " 'substances/Cd_(UO2)(AsO4)_2w8(cr);0:SC_COMPONENT;26:PSI_NAGRA20',\n",
       " 'substances/Cd_(UO2)(PO4)_2w10(cr);0:SC_COMPONENT;26:PSI_NAGRA20',\n",
       " 'substances/Cd3(PO4)2(s);0:SC_COMPONENT;26:PSI_NAGRA20',\n",
       " 'substances/Cd5H2(PO4)4w4(s);0:SC_COMPONENT;26:PSI_NAGRA20',\n",
       " 'substances/CdCO3(cr);0:SC_COMPONENT;26:PSI_NAGRA20',\n",
       " 'substances/CdS(s);0:SC_COMPONENT;26:PSI_NAGRA20',\n",
       " 'substances/Cs(UO2)(AsO4)w2.5(cr);0:SC_COMPONENT;26:PSI_NAGRA20',\n",
       " 'substances/Cs(UO2)(BO3)w1(cr);0:SC_COMPONENT;26:PSI_NAGRA20',\n",
       " 'substances/Cs(UO2)(PO4)w2.5(cr);0:SC_COMPONENT;26:PSI_NAGRA20',\n",
       " 'substances/Cu(cr);0:SC_COMPONENT;26:PSI_NAGRA20',\n",
       " 'substances/Cu(OH)2(s);0:SC_COMPONENT;26:PSI_NAGRA20',\n",
       " 'substances/Cu_(UO2)(AsO4)_2w8(cr);0:SC_COMPONENT;26:PSI_NAGRA20',\n",
       " 'substances/Cu_(UO2)(PO4)_2w8(cr);0:SC_COMPONENT;26:PSI_NAGRA20',\n",
       " 'substances/Cu2CO3(OH)2(cr);0:SC_COMPONENT;26:PSI_NAGRA20',\n",
       " 'substances/Cu2O(cr);0:SC_COMPONENT;26:PSI_NAGRA20',\n",
       " 'substances/Cu2S(cr);0:SC_COMPONENT;26:PSI_NAGRA20',\n",
       " 'substances/Cu3(CO3)2(OH)2(cr);0:SC_COMPONENT;26:PSI_NAGRA20',\n",
       " 'substances/CuCl(s);0:SC_COMPONENT;26:PSI_NAGRA20',\n",
       " 'substances/CuO(cr);0:SC_COMPONENT;26:PSI_NAGRA20',\n",
       " 'substances/CuS(cr);0:SC_COMPONENT;26:PSI_NAGRA20',\n",
       " 'substances/Eu(OH)3(am);0:SC_COMPONENT;26:PSI_NAGRA20',\n",
       " 'substances/Eu(OH)3(cr);0:SC_COMPONENT;26:PSI_NAGRA20',\n",
       " 'substances/Eu2(CO3)3(cr);0:SC_COMPONENT;26:PSI_NAGRA20',\n",
       " 'substances/EuF3(cr);0:SC_COMPONENT;26:PSI_NAGRA20',\n",
       " 'substances/EuOHCO3(cr);0:SC_COMPONENT;26:PSI_NAGRA20',\n",
       " 'substances/EuPO4w0.667(cr);0:SC_COMPONENT;26:PSI_NAGRA20',\n",
       " 'substances/Fe(alpha);0:SC_COMPONENT;26:PSI_NAGRA20',\n",
       " 'substances/Fe(OH)2(s);0:SC_COMPONENT;26:PSI_NAGRA20',\n",
       " 'substances/Fe(OH)3(mic);0:SC_COMPONENT;26:PSI_NAGRA20',\n",
       " 'substances/Fe_(UO2)(AsO4)_2w8(cr);0:SC_COMPONENT;26:PSI_NAGRA20',\n",
       " 'substances/Fe0.875S(cr);0:SC_COMPONENT;26:PSI_NAGRA20',\n",
       " 'substances/Fe0.875Se(cr);0:SC_COMPONENT;26:PSI_NAGRA20',\n",
       " 'substances/Fe0.9S(cr);0:SC_COMPONENT;26:PSI_NAGRA20',\n",
       " 'substances/Fe1.042Se(cr);0:SC_COMPONENT;26:PSI_NAGRA20',\n",
       " 'substances/Fe2(SeO3)3w3(cr);0:SC_COMPONENT;26:PSI_NAGRA20',\n",
       " 'substances/Berthierine(FeIII);0:SC_COMPONENT;26:PSI_NAGRA20',\n",
       " 'substances/Berthierine(FeII);0:SC_COMPONENT;26:PSI_NAGRA20',\n",
       " 'substances/Fe2Cl(OH)3(beta);0:SC_COMPONENT;26:PSI_NAGRA20',\n",
       " 'substances/Fe2O3(alpha);0:SC_COMPONENT;26:PSI_NAGRA20',\n",
       " 'substances/Fe2O3(gamma);0:SC_COMPONENT;26:PSI_NAGRA20',\n",
       " 'substances/Fe3(PO4)2w8(cr);0:SC_COMPONENT;26:PSI_NAGRA20',\n",
       " 'substances/Cronstedtite;0:SC_COMPONENT;26:PSI_NAGRA20',\n",
       " 'substances/Fe3O4(cr);0:SC_COMPONENT;26:PSI_NAGRA20',\n",
       " 'substances/Fe3S4(cr);0:SC_COMPONENT;26:PSI_NAGRA20',\n",
       " 'substances/Fe3Se4(gamma);0:SC_COMPONENT;26:PSI_NAGRA20',\n",
       " 'substances/Fe4(OH)8Clwn(s);0:SC_COMPONENT;26:PSI_NAGRA20',\n",
       " 'substances/Fe6(OH)12CO3wn(s);0:SC_COMPONENT;26:PSI_NAGRA20',\n",
       " 'substances/Fe6(OH)12SO4wn(s);0:SC_COMPONENT;26:PSI_NAGRA20',\n",
       " 'substances/FeCO3(cr);0:SC_COMPONENT;26:PSI_NAGRA20',\n",
       " 'substances/FeOOH(alpha);0:SC_COMPONENT;26:PSI_NAGRA20',\n",
       " 'substances/FeOOH(gamma);0:SC_COMPONENT;26:PSI_NAGRA20',\n",
       " 'substances/FePO4(cr);0:SC_COMPONENT;26:PSI_NAGRA20',\n",
       " 'substances/FePO4w2(s);0:SC_COMPONENT;26:PSI_NAGRA20',\n",
       " 'substances/FeS(mackinawite);0:SC_COMPONENT;26:PSI_NAGRA20',\n",
       " 'substances/FeS(troilite);0:SC_COMPONENT;26:PSI_NAGRA20',\n",
       " 'substances/FeS2(marcasite);0:SC_COMPONENT;26:PSI_NAGRA20',\n",
       " 'substances/FeS2(pyrite);0:SC_COMPONENT;26:PSI_NAGRA20',\n",
       " 'substances/FeSe2(cr);0:SC_COMPONENT;26:PSI_NAGRA20',\n",
       " 'substances/H4Edta(cr);0:SC_COMPONENT;26:PSI_NAGRA20',\n",
       " 'substances/HAl_(UO2)(PO4)_4w16(cr);0:SC_COMPONENT;26:PSI_NAGRA20',\n",
       " 'substances/Hg2Cl2(cr);0:SC_COMPONENT;26:PSI_NAGRA20',\n",
       " 'substances/(HgOH)3PO4(s);0:SC_COMPONENT;26:PSI_NAGRA20',\n",
       " 'substances/Hg3(PO4)2(s);0:SC_COMPONENT;26:PSI_NAGRA20',\n",
       " 'substances/HgCO3(HgO)2(s);0:SC_COMPONENT;26:PSI_NAGRA20',\n",
       " 'substances/HgHPO4(s);0:SC_COMPONENT;26:PSI_NAGRA20',\n",
       " 'substances/HgO(cr);0:SC_COMPONENT;26:PSI_NAGRA20',\n",
       " 'substances/HgS(s);0:SC_COMPONENT;26:PSI_NAGRA20',\n",
       " 'substances/Ho(OH)3(cr);0:SC_COMPONENT;26:PSI_NAGRA20',\n",
       " 'substances/Ho2(CO3)3(cr);0:SC_COMPONENT;26:PSI_NAGRA20',\n",
       " 'substances/HoF3(cr);0:SC_COMPONENT;26:PSI_NAGRA20',\n",
       " 'substances/HoOHCO3(cr);0:SC_COMPONENT;26:PSI_NAGRA20',\n",
       " 'substances/HoPO4(s);0:SC_COMPONENT;26:PSI_NAGRA20',\n",
       " 'substances/K(UO2)(AsO4)w3(cr);0:SC_COMPONENT;26:PSI_NAGRA20',\n",
       " 'substances/K(UO2)(BO3)w1(cr);0:SC_COMPONENT;26:PSI_NAGRA20',\n",
       " 'substances/K(UO2)(PO4)w3(cr);0:SC_COMPONENT;26:PSI_NAGRA20',\n",
       " 'substances/K(UO2)(SiO3OH)w1(cr);0:SC_COMPONENT;26:PSI_NAGRA20',\n",
       " 'substances/Beidellite(K);0:SC_COMPONENT;26:PSI_NAGRA20',\n",
       " 'substances/Nontronite(K);0:SC_COMPONENT;26:PSI_NAGRA20',\n",
       " 'substances/Montmorillonite(MgK);0:SC_COMPONENT;26:PSI_NAGRA20',\n",
       " 'substances/Saponite(FeK);0:SC_COMPONENT;26:PSI_NAGRA20',\n",
       " 'substances/Saponite(K);0:SC_COMPONENT;26:PSI_NAGRA20',\n",
       " 'substances/Montmorillonite(HcK);0:SC_COMPONENT;26:PSI_NAGRA20',\n",
       " 'substances/Glauconite;0:SC_COMPONENT;26:PSI_NAGRA20',\n",
       " 'substances/Illite_IMt-2;0:SC_COMPONENT;26:PSI_NAGRA20',\n",
       " 'substances/Illite(Al);0:SC_COMPONENT;26:PSI_NAGRA20',\n",
       " 'substances/Illite(FeII);0:SC_COMPONENT;26:PSI_NAGRA20',\n",
       " 'substances/Illite(FeIII);0:SC_COMPONENT;26:PSI_NAGRA20',\n",
       " 'substances/Illite(Mg);0:SC_COMPONENT;26:PSI_NAGRA20',\n",
       " 'substances/Vermiculite(K);0:SC_COMPONENT;26:PSI_NAGRA20',\n",
       " 'substances/K2U6O19w11(cr);0:SC_COMPONENT;26:PSI_NAGRA20',\n",
       " 'substances/K3NpO2(CO3)2(s);0:SC_COMPONENT;26:PSI_NAGRA20',\n",
       " 'substances/K4NpO2(CO3)3(s);0:SC_COMPONENT;26:PSI_NAGRA20',\n",
       " 'substances/KNpO2CO3(s);0:SC_COMPONENT;26:PSI_NAGRA20',\n",
       " 'substances/Li(UO2)(AsO4)w4(cr);0:SC_COMPONENT;26:PSI_NAGRA20',\n",
       " 'substances/Li(UO2)(BO3)w1.5(cr);0:SC_COMPONENT;26:PSI_NAGRA20',\n",
       " 'substances/Li(UO2)(PO4)w4(cr);0:SC_COMPONENT;26:PSI_NAGRA20',\n",
       " 'substances/Mg(OH)2(s);0:SC_COMPONENT;26:PSI_NAGRA20',\n",
       " 'substances/Mg(Oxa)w2(cr);0:SC_COMPONENT;26:PSI_NAGRA20',\n",
       " 'substances/Mg_(UO2)(AsO4)_2w10(cr);0:SC_COMPONENT;26:PSI_NAGRA20',\n",
       " 'substances/Mg_(UO2)(PO4)_2w8(cr);0:SC_COMPONENT;26:PSI_NAGRA20',\n",
       " 'substances/Beidellite(Mg);0:SC_COMPONENT;26:PSI_NAGRA20',\n",
       " 'substances/Nontronite(Mg);0:SC_COMPONENT;26:PSI_NAGRA20',\n",
       " 'substances/Montmorillonite(MgMg);0:SC_COMPONENT;26:PSI_NAGRA20',\n",
       " 'substances/Saponite(Mg);0:SC_COMPONENT;26:PSI_NAGRA20',\n",
       " 'substances/Montmorillonite(HcMg);0:SC_COMPONENT;26:PSI_NAGRA20',\n",
       " 'substances/Vermiculite(Mg);0:SC_COMPONENT;26:PSI_NAGRA20',\n",
       " 'substances/Saponite(FeMg);0:SC_COMPONENT;26:PSI_NAGRA20',\n",
       " 'substances/Mg2KH(PO4)2w15(cr);0:SC_COMPONENT;26:PSI_NAGRA20',\n",
       " 'substances/Mg3(PO4)2(cr);0:SC_COMPONENT;26:PSI_NAGRA20',\n",
       " 'substances/Mg3(PO4)2w22(cr);0:SC_COMPONENT;26:PSI_NAGRA20',\n",
       " 'substances/Mg3(PO4)2w4(cr);0:SC_COMPONENT;26:PSI_NAGRA20',\n",
       " 'substances/Mg3(PO4)2w8(cr);0:SC_COMPONENT;26:PSI_NAGRA20',\n",
       " 'substances/MgCO3(s);0:SC_COMPONENT;26:PSI_NAGRA20',\n",
       " 'substances/MgHPO4w3(cr);0:SC_COMPONENT;26:PSI_NAGRA20',\n",
       " 'substances/MgHPO4w7(cr);0:SC_COMPONENT;26:PSI_NAGRA20',\n",
       " 'substances/MgKPO4w1(cr);0:SC_COMPONENT;26:PSI_NAGRA20',\n",
       " 'substances/MgKPO4w6(cr);0:SC_COMPONENT;26:PSI_NAGRA20',\n",
       " 'substances/MgSeO3w6(cr);0:SC_COMPONENT;26:PSI_NAGRA20',\n",
       " 'substances/Mn(OH)2(cr);0:SC_COMPONENT;26:PSI_NAGRA20',\n",
       " 'substances/Mn_(UO2)(AsO4)_2w8(cr);0:SC_COMPONENT;26:PSI_NAGRA20',\n",
       " 'substances/Mn_(UO2)(PO4)_2w10(cr);0:SC_COMPONENT;26:PSI_NAGRA20',\n",
       " 'substances/Mn2O3(cr);0:SC_COMPONENT;26:PSI_NAGRA20',\n",
       " 'substances/Mn3O4(cr);0:SC_COMPONENT;26:PSI_NAGRA20',\n",
       " 'substances/MnCO3(cr);0:SC_COMPONENT;26:PSI_NAGRA20',\n",
       " 'substances/MnO(cr);0:SC_COMPONENT;26:PSI_NAGRA20',\n",
       " 'substances/MnO2(cr);0:SC_COMPONENT;26:PSI_NAGRA20',\n",
       " 'substances/MnOOH(cr);0:SC_COMPONENT;26:PSI_NAGRA20',\n",
       " 'substances/MnSeO3w2(cr);0:SC_COMPONENT;26:PSI_NAGRA20',\n",
       " 'substances/MoO2(cr);0:SC_COMPONENT;26:PSI_NAGRA20',\n",
       " 'substances/MoO3(cr);0:SC_COMPONENT;26:PSI_NAGRA20',\n",
       " 'substances/Na(UO2)(AsO4)w3(cr);0:SC_COMPONENT;26:PSI_NAGRA20',\n",
       " 'substances/Na(UO2)(BO3)w1(cr);0:SC_COMPONENT;26:PSI_NAGRA20',\n",
       " 'substances/Na(UO2)(PO4)w3(cr);0:SC_COMPONENT;26:PSI_NAGRA20',\n",
       " 'substances/Na(UO2)(SiO3OH)w1(cr);0:SC_COMPONENT;26:PSI_NAGRA20',\n",
       " 'substances/Beidellite(Na);0:SC_COMPONENT;26:PSI_NAGRA20',\n",
       " 'substances/Nontronite(Na);0:SC_COMPONENT;26:PSI_NAGRA20',\n",
       " 'substances/Montmorillonite(MgNa);0:SC_COMPONENT;26:PSI_NAGRA20',\n",
       " 'substances/Saponite(FeNa);0:SC_COMPONENT;26:PSI_NAGRA20',\n",
       " 'substances/Saponite(Na);0:SC_COMPONENT;26:PSI_NAGRA20',\n",
       " 'substances/Saponite_SapCa-2;0:SC_COMPONENT;26:PSI_NAGRA20',\n",
       " 'substances/Smectite_MX80;0:SC_COMPONENT;26:PSI_NAGRA20',\n",
       " 'substances/Montmorillonite(HcNa);0:SC_COMPONENT;26:PSI_NAGRA20',\n",
       " 'substances/Mordenite-Na;0:SC_COMPONENT;26:PSI_NAGRA20',\n",
       " 'substances/Vermiculite(Na);0:SC_COMPONENT;26:PSI_NAGRA20',\n",
       " 'substances/Phillipsite-NaK;0:SC_COMPONENT;26:PSI_NAGRA20',\n",
       " 'substances/Linda_type_A;0:SC_COMPONENT;26:PSI_NAGRA20',\n",
       " 'substances/Phillipsite-Na;0:SC_COMPONENT;26:PSI_NAGRA20',\n",
       " 'substances/Faujasite-X;0:SC_COMPONENT;26:PSI_NAGRA20',\n",
       " 'substances/Low-silica_P-Na;0:SC_COMPONENT;26:PSI_NAGRA20',\n",
       " 'substances/Molecular_sieve_4_;0:SC_COMPONENT;26:PSI_NAGRA20',\n",
       " 'substances/Natrolite;0:SC_COMPONENT;26:PSI_NAGRA20',\n",
       " 'substances/Analcime;0:SC_COMPONENT;26:PSI_NAGRA20',\n",
       " 'substances/Chabazite-Na;0:SC_COMPONENT;26:PSI_NAGRA20',\n",
       " 'substances/Faujasite-Y;0:SC_COMPONENT;26:PSI_NAGRA20',\n",
       " 'substances/Na2Np2O7w0.1(cr);0:SC_COMPONENT;26:PSI_NAGRA20',\n",
       " 'substances/Na2U2O7w1(cr);0:SC_COMPONENT;26:PSI_NAGRA20',\n",
       " 'substances/Na3NpO2(CO3)2(cr);0:SC_COMPONENT;26:PSI_NAGRA20',\n",
       " 'substances/Na6Th(CO3)5w12(cr);0:SC_COMPONENT;26:PSI_NAGRA20',\n",
       " 'substances/Na7HNb6O19w15(cr);0:SC_COMPONENT;26:PSI_NAGRA20',\n",
       " 'substances/Cancrinite-NO3;0:SC_COMPONENT;26:PSI_NAGRA20',\n",
       " 'substances/Hydrosodalite;0:SC_COMPONENT;26:PSI_NAGRA20',\n",
       " 'substances/Sodalite;0:SC_COMPONENT;26:PSI_NAGRA20',\n",
       " 'substances/NaAlCO3(OH)2(cr);0:SC_COMPONENT;26:PSI_NAGRA20',\n",
       " 'substances/NaAm(CO3)2w5(cr);0:SC_COMPONENT;26:PSI_NAGRA20',\n",
       " 'substances/NaAmO2CO3(s);0:SC_COMPONENT;26:PSI_NAGRA20',\n",
       " 'substances/NaNpO2CO3w3.5(cr);0:SC_COMPONENT;26:PSI_NAGRA20',\n",
       " 'substances/Nb2O5(pr);0:SC_COMPONENT;26:PSI_NAGRA20',\n",
       " 'substances/NH4(UO2)(AsO4)w3(cr);0:SC_COMPONENT;26:PSI_NAGRA20',\n",
       " 'substances/NH4(UO2)(PO4)w3(cr);0:SC_COMPONENT;26:PSI_NAGRA20',\n",
       " 'substances/Ni(OH)2(cr);0:SC_COMPONENT;26:PSI_NAGRA20',\n",
       " 'substances/Ni(Oxa)w2(cr);0:SC_COMPONENT;26:PSI_NAGRA20',\n",
       " 'substances/Ni_(UO2)(AsO4)_2w10(cr);0:SC_COMPONENT;26:PSI_NAGRA20',\n",
       " 'substances/Ni_(UO2)(PO4)_2w8(cr);0:SC_COMPONENT;26:PSI_NAGRA20',\n",
       " 'substances/Ni3(AsO3)2(s);0:SC_COMPONENT;26:PSI_NAGRA20',\n",
       " 'substances/Ni3(AsO4)2w8(s);0:SC_COMPONENT;26:PSI_NAGRA20',\n",
       " 'substances/NiCO3(cr);0:SC_COMPONENT;26:PSI_NAGRA20',\n",
       " 'substances/NiCO3w5.5(s);0:SC_COMPONENT;26:PSI_NAGRA20',\n",
       " 'substances/NiO(cr);0:SC_COMPONENT;26:PSI_NAGRA20',\n",
       " 'substances/NiSeO3w2(cr);0:SC_COMPONENT;26:PSI_NAGRA20',\n",
       " 'substances/Np(Oxa)2w6(cr);0:SC_COMPONENT;26:PSI_NAGRA20',\n",
       " 'substances/NpO2(am_hyd);0:SC_COMPONENT;26:PSI_NAGRA20',\n",
       " 'substances/(NH4)4NpO2(CO3)3(s);0:SC_COMPONENT;26:PSI_NAGRA20',\n",
       " 'substances/NpO2(OH)2w1(cr_hex);0:SC_COMPONENT;26:PSI_NAGRA20',\n",
       " 'substances/NpO2CO3(cr);0:SC_COMPONENT;26:PSI_NAGRA20',\n",
       " 'substances/NpO2OH(am);0:SC_COMPONENT;26:PSI_NAGRA20',\n",
       " 'substances/Pa2O5(act);0:SC_COMPONENT;26:PSI_NAGRA20',\n",
       " 'substances/Pb(cr);0:SC_COMPONENT;26:PSI_NAGRA20',\n",
       " 'substances/Pb_(UO2)(AsO4)_2w10(cr);0:SC_COMPONENT;26:PSI_NAGRA20',\n",
       " 'substances/Pb_(UO2)(PO4)_2w8(cr);0:SC_COMPONENT;26:PSI_NAGRA20',\n",
       " 'substances/Pb2(CO3)Cl2(s);0:SC_COMPONENT;26:PSI_NAGRA20',\n",
       " 'substances/Pb2(UO2)(PO4)2w2(cr);0:SC_COMPONENT;26:PSI_NAGRA20',\n",
       " 'substances/Pb3(PO4)2(s);0:SC_COMPONENT;26:PSI_NAGRA20',\n",
       " 'substances/Pb5(PO4)3Cl(s);0:SC_COMPONENT;26:PSI_NAGRA20',\n",
       " 'substances/PbClOH(s);0:SC_COMPONENT;26:PSI_NAGRA20',\n",
       " 'substances/PbCO3(s);0:SC_COMPONENT;26:PSI_NAGRA20',\n",
       " 'substances/PbHPO4(s);0:SC_COMPONENT;26:PSI_NAGRA20',\n",
       " 'substances/PbO(s_red);0:SC_COMPONENT;26:PSI_NAGRA20',\n",
       " 'substances/PbO(s_yellow);0:SC_COMPONENT;26:PSI_NAGRA20',\n",
       " 'substances/PbS(s);0:SC_COMPONENT;26:PSI_NAGRA20',\n",
       " 'substances/PbSO4(cr);0:SC_COMPONENT;26:PSI_NAGRA20',\n",
       " 'substances/Pd(cr);0:SC_COMPONENT;26:PSI_NAGRA20',\n",
       " 'substances/PdO(cr);0:SC_COMPONENT;26:PSI_NAGRA20',\n",
       " 'substances/Po(cr);0:SC_COMPONENT;26:PSI_NAGRA20',\n",
       " 'substances/Po(SO4)2w1(s);0:SC_COMPONENT;26:PSI_NAGRA20',\n",
       " 'substances/PoO2(s);0:SC_COMPONENT;26:PSI_NAGRA20',\n",
       " 'substances/PoSO4(s);0:SC_COMPONENT;26:PSI_NAGRA20',\n",
       " 'substances/Pu(HPO4)2(am_hyd);0:SC_COMPONENT;26:PSI_NAGRA20',\n",
       " 'substances/Pu(OH)3(am);0:SC_COMPONENT;26:PSI_NAGRA20',\n",
       " 'substances/Pu(Oxa)2w6(cr);0:SC_COMPONENT;26:PSI_NAGRA20',\n",
       " 'substances/Pu2(Oxa)3w10(cr);0:SC_COMPONENT;26:PSI_NAGRA20',\n",
       " 'substances/PuO2(am_hyd);0:SC_COMPONENT;26:PSI_NAGRA20',\n",
       " 'substances/PuO2(OH)2(am_hyd);0:SC_COMPONENT;26:PSI_NAGRA20',\n",
       " 'substances/PuO2CO3(cr);0:SC_COMPONENT;26:PSI_NAGRA20',\n",
       " 'substances/(PuO2)3(PO4)2w4(am);0:SC_COMPONENT;26:PSI_NAGRA20',\n",
       " 'substances/PuO2OH(am);0:SC_COMPONENT;26:PSI_NAGRA20',\n",
       " 'substances/PuPO4(am_hyd);0:SC_COMPONENT;26:PSI_NAGRA20',\n",
       " 'substances/RaCO3(cr);0:SC_COMPONENT;26:PSI_NAGRA20',\n",
       " 'substances/RaSO4(cr);0:SC_COMPONENT;26:PSI_NAGRA20',\n",
       " 'substances/S(rhomb);0:SC_COMPONENT;26:PSI_NAGRA20',\n",
       " 'substances/Se(cr);0:SC_COMPONENT;26:PSI_NAGRA20',\n",
       " 'substances/Berthierine_ISGS;0:SC_COMPONENT;26:PSI_NAGRA20',\n",
       " 'substances/Ripidolite_Cca-2;0:SC_COMPONENT;26:PSI_NAGRA20',\n",
       " 'substances/SiO2(am);0:SC_COMPONENT;26:PSI_NAGRA20',\n",
       " 'substances/SiO2(cr);0:SC_COMPONENT;26:PSI_NAGRA20',\n",
       " 'substances/Sm(OH)3(cr);0:SC_COMPONENT;26:PSI_NAGRA20',\n",
       " 'substances/Sm2(CO3)3(cr);0:SC_COMPONENT;26:PSI_NAGRA20',\n",
       " 'substances/SmF3(cr);0:SC_COMPONENT;26:PSI_NAGRA20',\n",
       " 'substances/SmOHCO3(cr);0:SC_COMPONENT;26:PSI_NAGRA20',\n",
       " 'substances/SmPO4w0.667(cr);0:SC_COMPONENT;26:PSI_NAGRA20',\n",
       " 'substances/Sn(beta);0:SC_COMPONENT;26:PSI_NAGRA20',\n",
       " 'substances/SnO(s);0:SC_COMPONENT;26:PSI_NAGRA20',\n",
       " 'substances/SnO2(cr);0:SC_COMPONENT;26:PSI_NAGRA20',\n",
       " 'substances/SnO2(am);0:SC_COMPONENT;26:PSI_NAGRA20',\n",
       " 'substances/Sr_(UO2)(AsO4)_2w8(cr);0:SC_COMPONENT;26:PSI_NAGRA20',\n",
       " 'substances/Sr_(UO2)(PO4)_2w6(cr);0:SC_COMPONENT;26:PSI_NAGRA20',\n",
       " 'substances/Sr3(PO4)2(s);0:SC_COMPONENT;26:PSI_NAGRA20',\n",
       " 'substances/SrCO3(cr);0:SC_COMPONENT;26:PSI_NAGRA20',\n",
       " 'substances/SrHPO4(beta);0:SC_COMPONENT;26:PSI_NAGRA20',\n",
       " 'substances/SrSeO3(cr);0:SC_COMPONENT;26:PSI_NAGRA20',\n",
       " 'substances/SrSO4(cr);0:SC_COMPONENT;26:PSI_NAGRA20',\n",
       " 'substances/TcO2(am_hyd_ag);0:SC_COMPONENT;26:PSI_NAGRA20',\n",
       " 'substances/TcO2(am_hyd_fr);0:SC_COMPONENT;26:PSI_NAGRA20',\n",
       " 'substances/Th3(PO4)4(s);0:SC_COMPONENT;26:PSI_NAGRA20',\n",
       " 'substances/ThF4(cr_hyd);0:SC_COMPONENT;26:PSI_NAGRA20',\n",
       " 'substances/ThO2(am_hyd_ag);0:SC_COMPONENT;26:PSI_NAGRA20',\n",
       " 'substances/ThO2(am_hyd_fr);0:SC_COMPONENT;26:PSI_NAGRA20',\n",
       " 'substances/Ti(alpha);0:SC_COMPONENT;26:PSI_NAGRA20',\n",
       " 'substances/TiO2(am_hyd);0:SC_COMPONENT;26:PSI_NAGRA20',\n",
       " 'substances/U(OH)2SO4(cr);0:SC_COMPONENT;26:PSI_NAGRA20',\n",
       " 'substances/U(Oxa)2w6(cr);0:SC_COMPONENT;26:PSI_NAGRA20',\n",
       " 'substances/UF4w2.5(cr);0:SC_COMPONENT;26:PSI_NAGRA20',\n",
       " 'substances/UO2(am_hyd);0:SC_COMPONENT;26:PSI_NAGRA20',\n",
       " 'substances/UO2CO3(cr);0:SC_COMPONENT;26:PSI_NAGRA20',\n",
       " 'substances/UO2HAsO4w4(cr);0:SC_COMPONENT;26:PSI_NAGRA20',\n",
       " 'substances/UO2HPO4w4(cr);0:SC_COMPONENT;26:PSI_NAGRA20',\n",
       " 'substances/(UO2)2SiO4w2(cr);0:SC_COMPONENT;26:PSI_NAGRA20',\n",
       " 'substances/(UO2)3(AsO4)2w12(cr);0:SC_COMPONENT;26:PSI_NAGRA20',\n",
       " 'substances/(UO2)3(PO4)2w4(cr);0:SC_COMPONENT;26:PSI_NAGRA20',\n",
       " 'substances/UO2Oxaw3(cr);0:SC_COMPONENT;26:PSI_NAGRA20',\n",
       " 'substances/UO3w2(cr);0:SC_COMPONENT;26:PSI_NAGRA20',\n",
       " 'substances/USiO4(cr);0:SC_COMPONENT;26:PSI_NAGRA20',\n",
       " 'substances/Zn(OH)2(s);0:SC_COMPONENT;26:PSI_NAGRA20',\n",
       " 'substances/Zn_(UO2)(AsO4)_2w8(cr);0:SC_COMPONENT;26:PSI_NAGRA20',\n",
       " 'substances/Zn_(UO2)(PO4)_2w8(cr);0:SC_COMPONENT;26:PSI_NAGRA20',\n",
       " 'substances/Zn3(PO4)2w4(s);0:SC_COMPONENT;26:PSI_NAGRA20',\n",
       " 'substances/Zn5(OH)6(CO3)2(s);0:SC_COMPONENT;26:PSI_NAGRA20',\n",
       " 'substances/ZnCO3(s);0:SC_COMPONENT;26:PSI_NAGRA20',\n",
       " 'substances/ZnO(cr);0:SC_COMPONENT;26:PSI_NAGRA20',\n",
       " 'substances/ZnS(cr);0:SC_COMPONENT;26:PSI_NAGRA20',\n",
       " 'substances/Zr(HPO4)2w(cr);0:SC_COMPONENT;26:PSI_NAGRA20',\n",
       " 'substances/Zr(OH)4(am_fr);0:SC_COMPONENT;26:PSI_NAGRA20',\n",
       " 'substances/ZrO2(cr);0:SC_COMPONENT;26:PSI_NAGRA20',\n",
       " 'substances/CaSO4w0.5(cr);0:SC_COMPONENT;26:PSI_NAGRA20']"
      ]
     },
     "execution_count": 5,
     "metadata": {},
     "output_type": "execute_result"
    },
    {
     "name": "stdout",
     "output_type": "stream",
     "text": [
      "es/19561341\" ], [ \"substances/Fe(OH)3(mic);0:SC_COMPONENT;26:PSI_NAGRA20\", \"_rdc_2-line ferrihydrite\", \"defines/19675108\" ], [ \"substances/Fe_(UO2)(AsO4)_2w8(cr);0:SC_COMPONENT;26:PSI_NAGRA20\", \"_rdc_Metakahlerite\", \"defines/19574488\" ], [ \"substances/Fe0.875S(cr);0:SC_COMPONENT;26:PSI_NAGRA20\", \"_rdc_4C pyrrhotite\", \"defines/19561411\" ], [ \"substances/Fe0.875Se(cr);0:SC_COMPONENT;26:PSI_NAGRA20\", \"_rdc_Fe0.875Se(cr)\", \"defines/19561485\" ], [ \"substances/Fe0.9S(cr);0:SC_COMPONENT;26:PSI_NAGRA20\", \"_rdc_5C pyrrhotite\", \"defines/19561399\" ], [ \"substances/Fe1.042Se(cr);0:SC_COMPONENT;26:PSI_NAGRA20\", \"_rdc_Fe1.042Se(cr)\", \"defines/19561473\" ], [ \"substances/Fe2(SeO3)3w3(cr);0:SC_COMPONENT;26:PSI_NAGRA20\", \"_rdc_Fe2(SeO3)3:3H2O(cr)\", \"defines/19561521\" ], [ \"substances/Fe2Cl(OH)3(beta);0:SC_COMPONENT;26:PSI_NAGRA20\", \"_rdc_Fe-hibbingite\", \"defines/19561367\" ], [ \"substances/Fe2O3(gamma);0:SC_COMPONENT;26:PSI_NAGRA20\", \"_rdc_maghemite\", \"defines/19561587\" ], [ \"substances/Fe3(PO4)2w8(cr);0:SC_COMPONENT;26:PSI_NAGRA20\", \"_rdc_vivianite\", \"defines/19561533\" ], [ \"substances/Fe3S4(cr);0:SC_COMPONENT;26:PSI_NAGRA20\", \"_rdc_greigite\", \"defines/19561447\" ], [ \"substances/Fe3Se4(gamma);0:SC_COMPONENT;26:PSI_NAGRA20\", \"_rdc_Fe3Se4(gamma)\", \"defines/19561497\" ], [ \"substances/Fe4(OH)8Clwn(s);0:SC_COMPONENT;26:PSI_NAGRA20\", \"_rdc_\\\"Fe4(OH)8Cl:nH2O(s) \\\"\\\"chloride green rust one\\\"\\\"\\\"\", \"defines/19561355\" ], [ \"substances/Fe6(OH)12CO3wn(s);0:SC_COMPONENT;26:PSI_NAGRA20\", \"_rdc_\\\"Fe6(OH)12CO3:nH2O(s) \\\"\\\"carbonate green rust one\\\"\\\"\\\"\", \"defines/19561555\" ], [ \"substances/Fe6(OH)12SO4wn(s);0:SC_COMPONENT;26:PSI_NAGRA20\", \"_rdc_\\\"Fe6(OH)12SO4:nH2O(s) \\\"\\\"sulfate green rust two\\\"\\\"\\\"\", \"defines/19561461\" ], [ \"substances/FeCO3(cr);0:SC_COMPONENT;26:PSI_NAGRA20\", \"_rdc_siderite\", \"defines/19561541\" ], [ \"substances/FePO4(cr);0:SC_COMPONENT;26:PSI_NAGRA20\", \"_rdc_rodolicoite\", \"defines/19561639\" ], [ \"substances/FePO4w2(s);0:SC_COMPONENT;26:PSI_NAGRA20\", \"_rdc_FePO4:2H2O(s)\", \"defines/19561629\" ], [ \"substances/FeS(mackinawite);0:SC_COMPONENT;26:PSI_NAGRA20\", \"_rdc_mackinawite\", \"defines/19561377\" ], [ \"substances/FeS(troilite);0:SC_COMPONENT;26:PSI_NAGRA20\", \"_rdc_troilite\", \"defines/19561387\" ], [ \"substances/FeS2(marcasite);0:SC_COMPONENT;26:PSI_NAGRA20\", \"_rdc_marcasite\", \"defines/19561435\" ], [ \"substances/FeS2(pyrite);0:SC_COMPONENT;26:PSI_NAGRA20\", \"_rdc_pyrite\", \"defines/19561423\" ], [ \"substances/FeSe2(cr);0:SC_COMPONENT;26:PSI_NAGRA20\", \"_rdc_ferroselite\", \"defines/19561509\" ], [ \"substances/H4Edta(cr);0:SC_COMPONENT;26:PSI_NAGRA20\", \"_rdc_H4Edta(cr)\", \"defines/19613709\" ], [ \"substances/HAl_(UO2)(PO4)_4w16(cr);0:SC_COMPONENT;26:PSI_NAGRA20\", \"_rdc_Sabugalite\", \"defines/19574322\" ], [ \"substances/(HgOH)3PO4(s);0:SC_COMPONENT;26:PSI_NAGRA20\", \"_rdc_(HgOH)3PO4(s)\", \"defines/19563713\" ], [ \"substances/Hg3(PO4)2(s);0:SC_COMPONENT;26:PSI_NAGRA20\", \"_rdc_Hg3(PO4)2(s)\", \"defines/19563701\" ], [ \"substances/HgCO3(HgO)2(s);0:SC_COMPONENT;26:PSI_NAGRA20\", \"_rdc_HgCO3(HgO)2(s)\", \"defines/19563691\" ], [ \"substances/HgHPO4(s);0:SC_COMPONENT;26:PSI_NAGRA20\", \"_rdc_HgHPO4(s)\", \"defines/19563721\" ], [ \"substances/HgS(s);0:SC_COMPONENT;26:PSI_NAGRA20\", \"_rdc_HgS(s)\", \"defines/19563731\" ], [ \"substances/Ho(OH)3(cr);0:SC_COMPONENT;26:PSI_NAGRA20\", \"_rdc_Ho(OH)3(cr)\", \"defines/19595788\" ], [ \"substances/Ho2(CO3)3(cr);0:SC_COMPONENT;26:PSI_NAGRA20\", \"_rdc_Ho2(CO3)3(cr)\", \"defines/19595804\" ], [ \"substances/HoF3(cr);0:SC_COMPONENT;26:PSI_NAGRA20\", \"_rdc_HoF3(cr)\", \"defines/19595796\" ], [ \"substances/HoOHCO3(cr);0:SC_COMPONENT;26:PSI_NAGRA20\", \"_rdc_HoOHCO3(cr)\", \"defines/19595814\" ], [ \"substances/HoPO4(s);0:SC_COMPONENT;26:PSI_NAGRA20\", \"_rdc_HoPO4(s)\", \"defines/19595822\" ], [ \"substances/K(UO2)(AsO4)w3(cr);0:SC_COMPONENT;26:PSI_NAGRA20\", \"_rdc_K(UO2)(AsO4):3H2O(cr)\", \"defines/19574380\" ], [ \"substances/K(UO2)(BO3)w1(cr);0:SC_COMPONENT;26:PSI_NAGRA20\", \"_rdc_K(UO2)(BO3):H2O(cr)\", \"defines/19574572\" ], [ \"substances/K(UO2)(PO4)w3(cr);0:SC_COMPONENT;26:PSI_NAGRA20\", \"_rdc_K(UO2)(PO4):3H2O(cr)\", \"defines/19574204\" ], [ \"substances/K(UO2)(SiO3OH)w1(cr);0:SC_COMPONENT;26:PSI_NAGRA20\", \"_rdc_Boltwoodite\", \"defines/19598635\" ], [ \"substances/K2U6O19w11(cr);0:SC_COMPONENT;26:PSI_NAGRA20\", \"_rdc_Compreignacite\", \"defines/19574192\" ], [ \"substances/K3NpO2(CO3)2(s);0:SC_COMPONENT;26:PSI_NAGRA20\", \"_rdc_K3NpO2(CO3)2(s)\", \"defines/19580192\" ], [ \"substances/K4NpO2(CO3)3(s);0:SC_COMPONENT;26:PSI_NAGRA20\", \"_rdc_K4NpO2(CO3)3(s)\", \"defines/19580092\" ], [ \"substances/KNpO2CO3(s);0:SC_COMPONENT;26:PSI_NAGRA20\", \"_rdc_KNpO2CO3(s)\", \"defines/19580182\" ], [ \"substances/Li(UO2)(AsO4)w4(cr);0:SC_COMPONENT;26:PSI_NAGRA20\", \"_rdc_Li(UO2)(AsO4):4H2O(cr)\", \"defines/19574356\" ], [ \"substances/Li(UO2)(BO3)w1.5(cr);0:SC_COMPONENT;26:PSI_NAGRA20\", \"_rdc_Li(UO2)(BO3):1.5H2O(cr)\", \"defines/19574548\" ], [ \"substances/Li(UO2)(PO4)w4(cr);0:SC_COMPONENT;26:PSI_NAGRA20\", \"_rdc_Li(UO2)(PO4):4H2O(cr)\", \"defines/19574156\" ], [ \"substances/Mg(Oxa)w2(cr);0:SC_COMPONENT;26:PSI_NAGRA20\", \"_rdc_Glushinskite\", \"defines/19613719\" ], [ \"substances/Mg_(UO2)(AsO4)_2w10(cr);0:SC_COMPONENT;26:PSI_NAGRA20\", \"_rdc_Mg[(UO2)(AsO4)]2:10H2O(cr)\", \"defines/19574416\" ], [ \"substances/Mg_(UO2)(PO4)_2w8(cr);0:SC_COMPONENT;26:PSI_NAGRA20\", \"_rdc_Meta-saleite\", \"defines/19574096\" ], [ \"substances/Mg2KH(PO4)2w15(cr);0:SC_COMPONENT;26:PSI_NAGRA20\", \"_rdc_Mg2KH(PO4)2:15H2O(cr)\", \"defines/19582600\" ], [ \"substances/Mg3(PO4)2(cr);0:SC_COMPONENT;26:PSI_NAGRA20\", \"_rdc_Farringtonite\", \"defines/19582608\" ], [ \"substances/Mg3(PO4)2w22(cr);0:SC_COMPONENT;26:PSI_NAGRA20\", \"_rdc_Cattite\", \"defines/19582638\" ], [ \"substances/Mg3(PO4)2w4(cr);0:SC_COMPONENT;26:PSI_NAGRA20\", \"_rdc_Mg3(PO4)2:4H2O(cr)\", \"defines/19582618\" ], [ \"substances/Mg3(PO4)2w8(cr);0:SC_COMPONENT;26:PSI_NAGRA20\", \"_rdc_Bobierrite\", \"defines/19582628\" ], [ \"substances/MgHPO4w3(cr);0:SC_COMPONENT;26:PSI_NAGRA20\", \"_rdc_Newberyite\", \"defines/19582550\" ], [ \"substances/MgHPO4w7(cr);0:SC_COMPONENT;26:PSI_NAGRA20\", \"_rdc_Phosphorröslerite\", \"defines/19582562\" ], [ \"substances/MgKPO4w1(cr);0:SC_COMPONENT;26:PSI_NAGRA20\", \"_rdc_MgKPO4:H2O(cr)\", \"defines/19582586\" ], [ \"substances/MgKPO4w6(cr);0:SC_COMPONENT;26:PSI_NAGRA20\", \"_rdc_K-struvite\", \"defines/19582574\" ], [ \"substances/MgSeO3w6(cr);0:SC_COMPONENT;26:PSI_NAGRA20\", \"_rdc_MgSeO3:6H2O(cr)\", \"defines/19548057\" ], [ \"substances/Mn(OH)2(cr);0:SC_COMPONENT;26:PSI_NAGRA20\", \"_rdc_Pyrochroite\", \"defines/19544721\" ], [ \"substances/Mn_(UO2)(AsO4)_2w8(cr);0:SC_COMPONENT;26:PSI_NAGRA20\", \"_rdc_Mn[(UO2)(AsO4)]2:8H2O(cr)\", \"defines/19574500\" ], [ \"substances/Mn_(UO2)(PO4)_2w10(cr);0:SC_COMPONENT;26:PSI_NAGRA20\", \"_rdc_Mn[(UO2)(PO4)]2:10H2O(cr)\", \"defines/19574276\" ], [ \"substances/MnOOH(cr);0:SC_COMPONENT;26:PSI_NAGRA20\", \"_rdc_Manganite\", \"defines/19544731\" ], [ \"substances/MnSeO3w2(cr);0:SC_COMPONENT;26:PSI_NAGRA20\", \"_rdc_MnSeO3:2H2O(cr)\", \"defines/19548047\" ], [ \"substances/Na(UO2)(AsO4)w3(cr);0:SC_COMPONENT;26:PSI_NAGRA20\", \"_rdc_Na(UO2)(AsO4):3H2O(cr)\", \"defines/19574368\" ], [ \"substances/Na(UO2)(BO3)w1(cr);0:SC_COMPONENT;26:PSI_NAGRA20\", \"_rdc_Na(UO2)(BO3):H2O(cr)\", \"defines/19574560\" ], [ \"substances/Na(UO2)(PO4)w3(cr);0:SC_COMPONENT;26:PSI_NAGRA20\", \"_rdc_Na(UO2)(PO4):3H2O(cr)\", \"defines/19574180\" ], [ \"substances/Na(UO2)(SiO3OH)w1(cr);0:SC_COMPONENT;26:PSI_NAGRA20\", \"_rdc_Na-boltwoodite\", \"defines/19598621\" ], [ \"substances/Na2Np2O7w0.1(cr);0:SC_COMPONENT;26:PSI_NAGRA20\", \"_rdc_Na2Np2O7:0.1H2O(cr)\", \"defines/19580114\" ], [ \"substances/Na2U2O7w1(cr);0:SC_COMPONENT;26:PSI_NAGRA20\", \"_rdc_Na2U2O7:H2O(cr)\", \"defines/19574168\" ], [ \"substances/Na3NpO2(CO3)2(cr);0:SC_COMPONENT;26:PSI_NAGRA20\", \"_rdc_Na3NpO2(CO3)2(cr)\", \"defines/19580172\" ], [ \"substances/Na6Th(CO3)5w12(cr);0:SC_COMPONENT;26:PSI_NAGRA20\", \"_rdc_Na6Th(CO3)5:12H2O(cr)\", \"defines/19605241\" ], [ \"substances/Na7HNb6O19w15(cr);0:SC_COMPONENT;26:PSI_NAGRA20\", \"_rdc_Na7HNb6O19:15H2O(cr)\", \"defines/19564963\" ], [ \"substances/NaAlCO3(OH)2(cr);0:SC_COMPONENT;26:PSI_NAGRA20\", \"_rdc_Dawsonite\", \"defines/19544765\" ], [ \"substances/NaAm(CO3)2w5(cr);0:SC_COMPONENT;26:PSI_NAGRA20\", \"_rdc_NaAm(CO3)2:5H2O(cr)\", \"defines/19552437\" ], [ \"substances/NaAmO2CO3(s);0:SC_COMPONENT;26:PSI_NAGRA20\", \"_rdc_NaAmO2CO3(s)\", \"defines/19552375\" ], [ \"substances/NaNpO2CO3w3.5(cr);0:SC_COMPONENT;26:PSI_NAGRA20\", \"_rdc_NaNpO2CO3:3.5H2O(cr)\", \"defines/19580162\" ], [ \"substances/Nb2O5(pr);0:SC_COMPONENT;26:PSI_NAGRA20\", \"_rdc_Nb2O5(pr)\", \"defines/19564953\" ], [ \"substances/NH4(UO2)(AsO4)w3(cr);0:SC_COMPONENT;26:PSI_NAGRA20\", \"_rdc_NH4(UO2)(AsO4):3H2O(cr)\", \"defines/19574404\" ], [ \"substances/NH4(UO2)(PO4)w3(cr);0:SC_COMPONENT;26:PSI_NAGRA20\", \"_rdc_NH4(UO2)(PO4):3H2O(cr)\", \"defines/19574228\" ], [ \"substances/Ni(OH)2(cr);0:SC_COMPONENT;26:PSI_NAGRA20\", \"_rdc_Ni(OH)2(cr_beta)\", \"defines/19566781\" ], [ \"substances/Ni(Oxa)w2(cr);0:SC_COMPONENT;26:PSI_NAGRA20\", \"_rdc_Ni(Oxa):2H2O(cr)\", \"defines/19613777\" ], [ \"substances/Ni_(UO2)(AsO4)_2w10(cr);0:SC_COMPONENT;26:PSI_NAGRA20\", \"_rdc_Rauchite\", \"defines/19574476\" ], [ \"substances/Ni_(UO2)(PO4)_2w8(cr);0:SC_COMPONENT;26:PSI_NAGRA20\", \"_rdc_Ni[(UO2)(PO4)]2:8H2O(cr)\", \"defines/19574264\" ], [ \"substances/Ni3(AsO3)2(s);0:SC_COMPONENT;26:PSI_NAGRA20\", \"_rdc_Ni3(AsO3)2:xH2O(s)\", \"defines/19566829\" ], [ \"substances/Ni3(AsO4)2w8(s);0:SC_COMPONENT;26:PSI_NAGRA20\", \"_rdc_Ni3(AsO4)2:8H2O(s)\", \"defines/19566819\" ], [ \"substances/NiCO3(cr);0:SC_COMPONENT;26:PSI_NAGRA20\", \"_rdc_NiCO3(cr)\", \"defines/19566799\" ], [ \"substances/NiCO3w5.5(s);0:SC_COMPONENT;26:PSI_NAGRA20\", \"_rdc_NiCO3:5.5H2O(s)\", \"defines/19566809\" ], [ \"substances/NiO(cr);0:SC_COMPONENT;26:PSI_NAGRA20\", \"_rdc_NiO(cr)\", \"defines/19566791\" ], [ \"substances/NiSeO3w2(cr);0:SC_COMPONENT;26:PSI_NAGRA20\", \"_rdc_NiSeO3:2H2O(cr)\", \"defines/19548037\" ], [ \"substances/Np(Oxa)2w6(cr);0:SC_COMPONENT;26:PSI_NAGRA20\", \"_rdc_Np(Oxa)2:6H2O(cr)\", \"defines/19613805\" ], [ \"substances/NpO2(am_hyd);0:SC_COMPONENT;26:PSI_NAGRA20\", \"_rdc_NpO2(am_hyd)\", \"defines/19580202\" ], [ \"substances/(NH4)4NpO2(CO3)3(s);0:SC_COMPONENT;26:PSI_NAGRA20\", \"_rdc_(NH4)4NpO2(CO3)3(s)\", \"defines/19580102\" ], [ \"substances/NpO2(OH)2w1(cr_hex);0:SC_COMPONENT;26:PSI_NAGRA20\", \"_rdc_NpO2(OH)2:H2O(cr_hex)\", \"defines/19580074\" ], [ \"substances/NpO2CO3(cr);0:SC_COMPONENT;26:PSI_NAGRA20\", \"_rdc_NpO2CO3(cr)\", \"defines/19580082\" ], [ \"substances/NpO2OH(am);0:SC_COMPONENT;26:PSI_NAGRA20\", \"_rdc_NpO2OH(am)\", \"defines/19580124\" ], [ \"substances/Pa2O5(act);0:SC_COMPONENT;26:PSI_NAGRA20\", \"_rdc_Pa2O5(act)\", \"defines/19584122\" ], [ \"substances/Pb_(UO2)(AsO4)_2w10(cr);0:SC_COMPONENT;26:PSI_NAGRA20\", \"_rdc_Pb[(UO2)(AsO4)]2:10H2O(cr)\", \"defines/19574534\" ], [ \"substances/Pb_(UO2)(PO4)_2w8(cr);0:SC_COMPONENT;26:PSI_NAGRA20\", \"_rdc_Pb[(UO2)(PO4)]2:8H2O(cr)\", \"defines/19574298\" ], [ \"substances/Pb2(CO3)Cl2(s);0:SC_COMPONENT;26:PSI_NAGRA20\", \"_rdc_Pb2(CO3)Cl2(s)\", \"defines/19585876\" ], [ \"substances/Pb2(UO2)(PO4)2w2(cr);0:SC_COMPONENT;26:PSI_NAGRA20\", \"_rdc_Parsonite\", \"defines/19574308\" ], [ \"substances/Pb3(PO4)2(s);0:SC_COMPONENT;26:PSI_NAGRA20\", \"_rdc_Pb3(PO4)2(s)\", \"defines/19585892\" ], [ \"substances/Pb5(PO4)3Cl(s);0:SC_COMPONENT;26:PSI_NAGRA20\", \"_rdc_Pb5(PO4)3Cl(s)\", \"defines/19585902\" ], [ \"substances/PbClOH(s);0:SC_COMPONENT;26:PSI_NAGRA20\", \"_rdc_PbClOH(s)\", \"defines/19585858\" ], [ \"substances/PbCO3(s);0:SC_COMPONENT;26:PSI_NAGRA20\", \"_rdc_PbCO3(s)\", \"defines/19585866\" ], [ \"substances/PbHPO4(s);0:SC_COMPONENT;26:PSI_NAGRA20\", \"_rdc_PbHPO4(s)\", \"defines/19585884\" ], [ \"substances/PbO(s_red);0:SC_COMPONENT;26:PSI_NAGRA20\", \"_rdc_PbO(s_red)\", \"defines/19585838\" ], [ \"substances/PbO(s_yellow);0:SC_COMPONENT;26:PSI_NAGRA20\", \"_rdc_PbO(s_yellow)\", \"defines/19585848\" ], [ \"substances/PbS(s);0:SC_COMPONENT;26:PSI_NAGRA20\", \"_rdc_PbS(s)\", \"defines/19585912\" ], [ \"substances/Po(SO4)2w1(s);0:SC_COMPONENT;26:PSI_NAGRA20\", \"_rdc_Po(SO4)2:H2O(s)\", \"defines/19588764\" ], [ \"substances/PoSO4(s);0:SC_COMPONENT;26:PSI_NAGRA20\", \"_rdc_PoSO4(s)\", \"defines/19588752\" ], [ \"substances/Pu(HPO4)2(am_hyd);0:SC_COMPONENT;26:PSI_NAGRA20\", \"_rdc_Pu(HPO4)2(am_hyd)\", \"defines/19592206\" ], [ \"substances/Pu(OH)3(am);0:SC_COMPONENT;26:PSI_NAGRA20\", \"_rdc_Pu(OH)3(am)\", \"defines/19592216\" ], [ \"substances/Pu(Oxa)2w6(cr);0:SC_COMPONENT;26:PSI_NAGRA20\", \"_rdc_Pu(Oxa)2:6H2O(cr)\", \"defines/19613825\" ], [ \"substances/Pu2(Oxa)3w10(cr);0:SC_COMPONENT;26:PSI_NAGRA20\", \"_rdc_Pu2(Oxa)3:10H2O(cr)\", \"defines/19613817\" ], [ \"substances/PuO2(am_hyd);0:SC_COMPONENT;26:PSI_NAGRA20\", \"_rdc_PuO2(am_hyd)\", \"defines/19592198\" ], [ \"substances/PuO2(OH)2(am_hyd);0:SC_COMPONENT;26:PSI_NAGRA20\", \"_rdc_PuO2(OH)2(am_hyd)\", \"defines/19592160\" ], [ \"substances/PuO2CO3(cr);0:SC_COMPONENT;26:PSI_NAGRA20\", \"_rdc_PuO2CO3(cr)\", \"defines/19592178\" ], [ \"substances/(PuO2)3(PO4)2w4(am);0:SC_COMPONENT;26:PSI_NAGRA20\", \"_rdc_(PuO2)3(PO4)2:4(H2O)(am)\", \"defines/19592170\" ], [ \"substances/PuO2OH(am);0:SC_COMPONENT;26:PSI_NAGRA20\", \"_rdc_PuO2OH(am)\", \"defines/19592188\" ], [ \"substances/PuPO4(am_hyd);0:SC_COMPONENT;26:PSI_NAGRA20\", \"_rdc_PuPO4(am_hyd)\", \"defines/19592224\" ], [ \"substances/RaCO3(cr);0:SC_COMPONENT;26:PSI_NAGRA20\", \"_rdc_RaCO3(cr)\", \"defines/19593349\" ], [ \"substances/RaSO4(cr);0:SC_COMPONENT;26:PSI_NAGRA20\", \"_rdc_RaSO4(cr)\", \"defines/19593357\" ], [ \"substances/S(rhomb);0:SC_COMPONENT;26:PSI_NAGRA20\", \"_rdc_S(rhomb)\", \"defines/19539612\" ], [ \"substances/SiO2(am);0:SC_COMPONENT;26:PSI_NAGRA20\", \"_rdc_Silica(am)\", \"defines/19675144\" ], [ \"substances/Sm(OH)3(cr);0:SC_COMPONENT;26:PSI_NAGRA20\", \"_rdc_Sm(OH)3(cr)\", \"defines/19595686\" ], [ \"substances/Sm2(CO3)3(cr);0:SC_COMPONENT;26:PSI_NAGRA20\", \"_rdc_Sm2(CO3)3(cr)\", \"defines/19595702\" ], [ \"substances/SmF3(cr);0:SC_COMPONENT;26:PSI_NAGRA20\", \"_rdc_SmF3(cr)\", \"defines/19595694\" ], [ \"substances/SmOHCO3(cr);0:SC_COMPONENT;26:PSI_NAGRA20\", \"_rdc_SmOHCO3(cr)\", \"defines/19595712\" ], [ \"substances/SmPO4w0.667(cr);0:SC_COMPONENT;26:PSI_NAGRA20\", \"_rdc_Sm-rhabdophane\", \"defines/19595722\" ], [ \"substances/SnO(s);0:SC_COMPONENT;26:PSI_NAGRA20\", \"_rdc_SnO(s)\", \"defines/19601847\" ], [ \"substances/SnO2(cr);0:SC_COMPONENT;26:PSI_NAGRA20\", \"_rdc_cassiterite\", \"defines/19601855\" ], [ \"substances/SnO2(am);0:SC_COMPONENT;26:PSI_NAGRA20\", \"_rdc_SnO2(am)\", \"defines/19601863\" ], [ \"substances/Sr_(UO2)(AsO4)_2w8(cr);0:SC_COMPONENT;26:PSI_NAGRA20\", \"_rdc_Sr[(UO2)(AsO4)]2:8H2O(cr)\", \"defines/19574440\" ], [ \"substances/Sr_(UO2)(PO4)_2w6(cr);0:SC_COMPONENT;26:PSI_NAGRA20\", \"_rdc_Sr[(UO2)(PO4)]2:6H2O(cr)\", \"defines/19574132\" ], [ \"substances/Sr3(PO4)2(s);0:SC_COMPONENT;26:PSI_NAGRA20\", \"_rdc_Sr3(PO4)2(s)\", \"defines/19582734\" ], [ \"substances/SrCO3(cr);0:SC_COMPONENT;26:PSI_NAGRA20\", \"_rdc_Strontianite\", \"defines/19544687\" ], [ \"substances/SrHPO4(beta);0:SC_COMPONENT;26:PSI_NAGRA20\", \"_rdc_SrHPO4(beta)\", \"defines/19582726\" ], [ \"substances/SrSeO3(cr);0:SC_COMPONENT;26:PSI_NAGRA20\", \"_rdc_SrSeO3(cr)\", \"defines/19548075\" ], [ \"substances/SrSO4(cr);0:SC_COMPONENT;26:PSI_NAGRA20\", \"_rdc_Celestite\", \"defines/19544695\" ], [ \"substances/TcO2(am_hyd_ag);0:SC_COMPONENT;26:PSI_NAGRA20\", \"_rdc_TcO2(am_hyd_ag)\", \"defines/19602970\" ], [ \"substances/TcO2(am_hyd_fr);0:SC_COMPONENT;26:PSI_NAGRA20\", \"_rdc_TcO2(am_hyd_fr)\", \"defines/19602962\" ], [ \"substances/Th3(PO4)4(s);0:SC_COMPONENT;26:PSI_NAGRA20\", \"_rdc_Th3(PO4)4(s)\", \"defines/19605229\" ], [ \"substances/ThF4(cr_hyd);0:SC_COMPONENT;26:PSI_NAGRA20\", \"_rdc_ThF4(cr_hyd)\", \"defines/19605221\" ], [ \"substances/ThO2(am_hyd_ag);0:SC_COMPONENT;26:PSI_NAGRA20\", \"_rdc_ThO2(am_hyd_ag)\", \"defines/19605213\" ], [ \"substances/ThO2(am_hyd_fr);0:SC_COMPONENT;26:PSI_NAGRA20\", \"_rdc_ThO2(am_hyd_fr)\", \"defines/19605203\" ], [ \"substances/Ti(alpha);0:SC_COMPONENT;26:PSI_NAGRA20\", \"_rdc_Titanium\", \"defines/19606179\" ], [ \"substances/TiO2(am_hyd);0:SC_COMPONENT;26:PSI_NAGRA20\", \"_rdc_TiO2(am_hyd)\", \"defines/19606189\" ], [ \"substances/U(OH)2SO4(cr);0:SC_COMPONENT;26:PSI_NAGRA20\", \"_rdc_U(OH)2SO4(cr)\", \"defines/19574052\" ], [ \"substances/U(Oxa)2w6(cr);0:SC_COMPONENT;26:PSI_NAGRA20\", \"_rdc_U(Oxa)2:6H2O(cr)\", \"defines/19613785\" ], [ \"substances/UF4w2.5(cr);0:SC_COMPONENT;26:PSI_NAGRA20\", \"_rdc_UF4:2.5H2O(cr)\", \"defines/19574040\" ], [ \"substances/UO2(am_hyd);0:SC_COMPONENT;26:PSI_NAGRA20\", \"_rdc_UO2(am_hyd)\", \"defines/19574020\" ], [ \"substances/UO2CO3(cr);0:SC_COMPONENT;26:PSI_NAGRA20\", \"_rdc_Rutherfordine\", \"defines/19574060\" ], [ \"substances/UO2HAsO4w4(cr);0:SC_COMPONENT;26:PSI_NAGRA20\", \"_rdc_Hydrogen_uranospinite\", \"defines/19574344\" ], [ \"substances/UO2HPO4w4(cr);0:SC_COMPONENT;26:PSI_NAGRA20\", \"_rdc_Chernikovite\", \"defines/19574084\" ], [ \"substances/(UO2)2SiO4w2(cr);0:SC_COMPONENT;26:PSI_NAGRA20\", \"_rdc_Soddyite\", \"defines/19598607\" ], [ \"substances/(UO2)3(AsO4)2w12(cr);0:SC_COMPONENT;26:PSI_NAGRA20\", \"_rdc_Trögerite\", \"defines/19574332\" ], [ \"substances/(UO2)3(PO4)2w4(cr);0:SC_COMPONENT;26:PSI_NAGRA20\", \"_rdc_(UO2)3(PO4)2:4H2O(cr)\", \"defines/19574072\" ], [ \"substances/UO2Oxaw3(cr);0:SC_COMPONENT;26:PSI_NAGRA20\", \"_rdc_UO2Oxa:3H2O(cr)\", \"defines/19613793\" ], [ \"substances/UO3w2(cr);0:SC_COMPONENT;26:PSI_NAGRA20\", \"_rdc_Metaschoepite\", \"defines/19574030\" ], [ \"substances/USiO4(cr);0:SC_COMPONENT;26:PSI_NAGRA20\", \"_rdc_Coffinite\", \"defines/19598659\" ], [ \"substances/Zn(OH)2(s);0:SC_COMPONENT;26:PSI_NAGRA20\", \"_rdc_Wülfingite\", \"defines/19568772\" ], [ \"substances/Zn_(UO2)(AsO4)_2w8(cr);0:SC_COMPONENT;26:PSI_NAGRA20\", \"_rdc_Zn[(UO2)(AsO4)]2:8H2O(cr)\", \"defines/19574512\" ], [ \"substances/Zn_(UO2)(PO4)_2w8(cr);0:SC_COMPONENT;26:PSI_NAGRA20\", \"_rdc_Zn[(UO2)(PO4)]2:8H2O(cr)\", \"defines/19574252\" ], [ \"substances/Zn3(PO4)2w4(s);0:SC_COMPONENT;26:PSI_NAGRA20\", \"_rdc_Zn3(PO4)2:4H2O(s)\", \"defines/19568802\" ], [ \"substances/Zn5(OH)6(CO3)2(s);0:SC_COMPONENT;26:PSI_NAGRA20\", \"_rdc_Hydrozincite\", \"defines/19568792\" ], [ \"substances/ZnCO3(s);0:SC_COMPONENT;26:PSI_NAGRA20\", \"_rdc_Smithsonite\", \"defines/19568780\" ], [ \"substances/ZnO(cr);0:SC_COMPONENT;26:PSI_NAGRA20\", \"_rdc_Zincite\", \"defines/19568762\" ], [ \"substances/ZnS(cr);0:SC_COMPONENT;26:PSI_NAGRA20\", \"_rdc_Sphalerite\", \"defines/19568812\" ], [ \"substances/Zr(HPO4)2w(cr);0:SC_COMPONENT;26:PSI_NAGRA20\", \"_rdc_Zr(HPO4)2:H2O(cr)\", \"defines/19607863\" ], [ \"substances/Zr(OH)4(am_fr);0:SC_COMPONENT;26:PSI_NAGRA20\", \"_rdc_Zr(OH)4(am_fr)\", \"defines/19607851\" ], [ \"substances/ZrO2(cr);0:SC_COMPONENT;26:PSI_NAGRA20\", \"_rdc_Baddeleyite\", \"defines/19607841\" ], [ \"substances/CaSO4w0.5(cr);0:SC_COMPONENT;26:PSI_NAGRA20\", \"_rdc_Hemihydrate\", \"defines/19675138\" ] ]\n"
     ]
    }
   ],
   "source": [
    "# Updating data for molar volumes of solids\n",
    "fields_list = [ \"_id\", \"properties.symbol\", \"properties.sourcetdb\" ]\n",
    "\n",
    "generator.updateFileToDatabase(\"FormatTableFile\", \"scripts-in/master_substances_solids_update_volume.FormatTableFile.json\",\n",
    "                    \"data-in/temperature/master-solids-volume.csv\", \"\", \"\", fields_list )"
   ]
  },
  {
   "cell_type": "markdown",
   "id": "0c86730b-7fd9-404b-bfeb-63db901ff8e1",
   "metadata": {},
   "source": [
    "## 4. Calculate DComp props with G0 null"
   ]
  },
  {
   "cell_type": "markdown",
   "id": "1f46eb8f-7703-4ef9-98a9-2fd426781b4d",
   "metadata": {},
   "source": [
    "sort symbol\n",
    "\n",
    "CaSiO2(OH)2(aq)\n",
    "\n",
    "Fe(OH)3(mic)\n",
    "\n",
    "Fe2O3(alpha)\n",
    "\n",
    "FeOOH(alpha)\n",
    "\n",
    "FeOOH(gamma)\n",
    "\n",
    "Mg(OH)2(s)\n",
    "\n",
    "MgCO3(s)\n",
    "\n",
    "α-Al2O3(cr)\n",
    "\n"
   ]
  },
  {
   "cell_type": "markdown",
   "id": "c33d287d-2e76-468b-aaea-3c663fc78289",
   "metadata": {},
   "source": [
    "## 5. Export to GEMS3 backup format (using thermomatch gui) \n",
    "\n",
    "# Fixes needed in GEMS\n",
    "\n",
    "In GEMS CaSiO2(OH)2(aq) and Fe(OH)3(mic) need to be recalc\n",
    "\n",
    "Check if water is in SIT phase\n",
    "\n",
    "Set water model HWF in GEMS\n",
    "\n",
    "Problems with too long formulas of clays\n",
    "\n",
    "Deleted gases from phases - change name of gases reactions - so they are not appearing in GEMS project\n",
    "\n",
    "Fix references see data-out/gems3/tdb-fix"
   ]
  },
  {
   "cell_type": "code",
   "execution_count": null,
   "id": "9818e51f-7517-4b23-aaef-31aea863688e",
   "metadata": {},
   "outputs": [],
   "source": []
  },
  {
   "cell_type": "code",
   "execution_count": null,
   "id": "de1f120b-6de5-44b5-8551-c208220da7f5",
   "metadata": {},
   "outputs": [],
   "source": []
  }
 ],
 "metadata": {
  "kernelspec": {
   "display_name": "Python 3 (ipykernel)",
   "language": "python",
   "name": "python3"
  },
  "language_info": {
   "codemirror_mode": {
    "name": "ipython",
    "version": 3
   },
   "file_extension": ".py",
   "mimetype": "text/x-python",
   "name": "python",
   "nbconvert_exporter": "python",
   "pygments_lexer": "ipython3",
   "version": "3.10.17"
  }
 },
 "nbformat": 4,
 "nbformat_minor": 5
}
