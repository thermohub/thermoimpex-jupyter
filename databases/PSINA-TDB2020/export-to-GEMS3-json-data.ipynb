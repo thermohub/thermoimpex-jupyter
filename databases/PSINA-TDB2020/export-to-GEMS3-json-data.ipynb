{
 "cells": [
  {
   "cell_type": "code",
   "execution_count": 1,
   "id": "9f27c90e-df52-406f-9137-65f8fd2a78bd",
   "metadata": {},
   "outputs": [
    {
     "name": "stdout",
     "output_type": "stream",
     "text": [
      "[2025-04-22 15:37:13.320] [jsonio17] [info] Home directory is /home/dmiron\n"
     ]
    }
   ],
   "source": [
    "import thermomatch as match"
   ]
  },
  {
   "cell_type": "markdown",
   "id": "ab03f88d-94a3-4cd8-abc2-09f138cbe84b",
   "metadata": {},
   "source": [
    "# Set path to `schemas` and `lua` not from the configuration file\n",
    "match.ThermoImpexGenerator.setResourcesDirectory(\"../../Resources\")\n",
    "\n",
    "# Connect to Arango local database\n",
    "generator = match.ThermoImpexGenerator(\"http://localhost:8529\", \"root\", \"\", \"ORD_TDB2020_1\", True, match.ThermoImpexGenerator.File, True)"
   ]
  },
  {
   "cell_type": "code",
   "execution_count": 2,
   "id": "b28ca77e-7699-4ce2-b4b8-d3f756b644d3",
   "metadata": {},
   "outputs": [
    {
     "name": "stdout",
     "output_type": "stream",
     "text": [
      "[jsonarango] [info] You are connected to: arango 3.9.12\n",
      "[jsonio17] [info] VertexSubstance loading collection: 1003, loading query: 270567\n",
      "[jsonio17] [info] VertexPhase loading collection: 1153, loading query: 56635\n",
      "[jsonio17] [info] VertexInteraction loading collection: 1076, loading query: 539710\n"
     ]
    }
   ],
   "source": [
    "#Export to GEMS3k format\n",
    "gem_export = match.ExportToGems3(\"http://localhost:8529\", \"adminloc\", \"\", \"ORD_TDB2020_1\", \"thermodatasets/PsiTDB2020;1:TDS_LMA;0\");\n",
    "#gem_export.ExportAllJson(\"data-out/gems3k-export\");"
   ]
  },
  {
   "cell_type": "code",
   "execution_count": 3,
   "id": "b3416a06-ff8b-4970-b5ba-069255028ef6",
   "metadata": {},
   "outputs": [
    {
     "name": "stdout",
     "output_type": "stream",
     "text": [
      "[jsonio17] [info] VertexElement loading collection: 62, loading query: 9031\n",
      "[jsonio17] [info] VertexSubstance loading collection: 15, loading query: 207906\n",
      "[jsonio17] [info] VertexReaction loading collection: 928, loading query: 154152\n",
      "[jsonio17] [info] VertexPhase loading collection: 28, loading query: 45345\n"
     ]
    }
   ],
   "source": [
    "gem_export.ExportAllJson(\"data-out/gems3/\");"
   ]
  },
  {
   "cell_type": "code",
   "execution_count": null,
   "id": "f3ec465e-eff3-4e77-a746-a18232bfcee4",
   "metadata": {},
   "outputs": [],
   "source": []
  }
 ],
 "metadata": {
  "kernelspec": {
   "display_name": "Python 3 (ipykernel)",
   "language": "python",
   "name": "python3"
  },
  "language_info": {
   "codemirror_mode": {
    "name": "ipython",
    "version": 3
   },
   "file_extension": ".py",
   "mimetype": "text/x-python",
   "name": "python",
   "nbconvert_exporter": "python",
   "pygments_lexer": "ipython3",
   "version": "3.10.17"
  }
 },
 "nbformat": 4,
 "nbformat_minor": 5
}
