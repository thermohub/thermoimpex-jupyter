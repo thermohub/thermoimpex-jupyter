{
 "cells": [
  {
   "cell_type": "code",
   "execution_count": null,
   "id": "9f27c90e-df52-406f-9137-65f8fd2a78bd",
   "metadata": {},
   "outputs": [],
   "source": [
    "import thermomatch as match\n",
    "match.ThermoImpexGenerator.create_local_database_if_not_existent = True"
   ]
  },
  {
   "cell_type": "code",
   "execution_count": null,
   "id": "951951eb-acd5-420a-823d-427ad1ddf400",
   "metadata": {},
   "outputs": [],
   "source": [
    "# Set path to `schemas` and `lua` not from the configuration file\n",
    "match.ThermoImpexGenerator.setResourcesDirectory(\"../../Resources\")\n",
    "\n",
    "# Connect to Arango local database\n",
    "generator = match.ThermoImpexGenerator(\"http://localhost:8529\", \"root\", \"\", \"ORD_TDB2020\", True, match.ThermoImpexGenerator.File, True)"
   ]
  },
  {
   "cell_type": "code",
   "execution_count": null,
   "id": "75ab906d-0168-4c99-9993-584530ad1a65",
   "metadata": {},
   "outputs": [],
   "source": [
    "# List of implemented thermodynamic formats\n",
    "# print( generator.allFormats() )\n",
    "\n",
    "# Execute import from PSI table format data\n",
    "description = [\n",
    "    match.ImpexRowDescription(\"icomp\", \"VertexElement\", \"records\", \"FormatTableFile\", \"scripts-in/elements.FormatTableFile.json\"), # element records\n",
    "    match.ImpexRowDescription(\"refs\", \"VertexDataSource\", \"records\", \"FormatStructDataFile\", \"scripts-in/references.FormatStructDataFile.json\"), # reference records\n",
    "    match.ImpexRowDescription(\"dcomp-aqueous\", \"VertexSubstance\", \"records\", \"FormatTableFile\", \"scripts-in/master_substances.FormatTableFile.json\"), # substance records for master aqeuous species\n",
    "    match.ImpexRowDescription(\"reacdc-aqueous\", \"VertexSubstance\", \"records\", \"FormatTableFile\", \"scripts-in/product_substances.FormatTableFile.json\"), # substance records for dependent aqeuous species\n",
    "    match.ImpexRowDescription(\"reacdc-aqueous\", \"VertexReaction\", \"records_and_links\", \"FormatTableFile\", \"scripts-in/product_reactions.FormatTableFile.json\"), # reaction records for dependent aqeuous species and links to reactants\n",
    "    match.ImpexRowDescription(\"reacdc-solids\", \"VertexSubstance\", \"records\", \"FormatTableFile\", \"scripts-in/product_substances.FormatTableFile.json\"), # substance records for dependent solid species \n",
    "    match.ImpexRowDescription(\"reacdc-solids\", \"VertexReaction\", \"records_and_links\", \"FormatTableFile\", \"scripts-in/product_reactions.FormatTableFile.json\"), # reaction records for dependent solid species and links to reactants\n",
    "    match.ImpexRowDescription(\"reacdc-solids\", \"VertexPhase\", \"records_and_links\", \"FormatTableFile\", \"scripts-in/phase-solids.FormatTableFile.json\"), # phase records and links to solid substance records\n",
    "    #links to references\n",
    "    match.ImpexRowDescription(\"dcomp-aqueous\", \"VertexTemporary\", \"records_and_links\", \"FormatTableFile\", \"scripts-in/master_substances_references.FormatTableFile.json\"), # links to master substances from references\n",
    "    match.ImpexRowDescription(\"reacdc-aqueous\", \"VertexTemporary\", \"records_and_links\", \"FormatTableFile\", \"scripts-in/product_reactions_references.FormatTableFile.json\"), # links to dependent aqueous substances from references\n",
    "    match.ImpexRowDescription(\"reacdc-solids\", \"VertexTemporary\", \"records_and_links\", \"FormatTableFile\", \"scripts-in/product_reactions_references.FormatTableFile.json\"), # links to dependent solid substances from references\n",
    "    # SIT\n",
    "    match.ImpexRowDescription(\"SIT\", \"VertexPhase\", \"records\", \"FormatTableFile\", \"scripts-in/phase_sit.FormatTableFile.json\"), # record for aq_sit phase\n",
    "    match.ImpexRowDescription(\"SIT\", \"VertexMixingModel\", \"records\", \"FormatTableFile\", \"scripts-in/mixmod_sit.FormatTableFile.json\"), # record for aq_sit mixing model\n",
    "    match.ImpexRowDescription(\"SIT\", \"VertexInteraction\", \"records_and_links\", \"FormatTableFile\", \"scripts-in/int_Na.FormatTableFile.json\"), # interaction records with Na+ and links to substance records\n",
    "    match.ImpexRowDescription(\"SIT\", \"VertexInteraction\", \"records_and_links\", \"FormatTableFile\", \"scripts-in/int_Cl.FormatTableFile.json\"), # interaction records with Cl- and links to substance records\n",
    "    match.ImpexRowDescription(\"SIT\", \"VertexInteraction\", \"records_and_links\", \"FormatTableFile\", \"scripts-in/int_ClO4.FormatTableFile.json\"), # interaction records with ClO4- and links to substance records\n",
    "    # references\n",
    "    # match.ImpexRowDescription(\"SIT\", \"VertexTemporary\", \"records_and_links\", \"FormatTableFile\", \"scripts-in/int_Na_references.FormatTableFile.json\"), # not working yet\n",
    "    match.ImpexRowDescription(\"ThermoDataSet\", \"VertexThermoDataSet\", \"records_and_links\", \"FormatTableFile\", \"scripts-in/thermodataset.FormatTableFile.json\") # ThermoDataSet record and link to elements, substances, rdc\n",
    "]\n"
   ]
  },
  {
   "cell_type": "code",
   "execution_count": null,
   "id": "39f719c9-d02a-4997-a3b8-5ebe1bc4726b",
   "metadata": {},
   "outputs": [],
   "source": [
    "#print( description )\n",
    "#generator.runImport(\"TableImport\", description, \"data-in/dcomp-aqueous.aux.csv\", \"rdc_PSITDB2020\");\n",
    "#generator.runImport(\"TableImport\", description, \"data-in/dcomp-aqueous.Pu.csv\", \"rdc_PSITDB2020\");"
   ]
  },
  {
   "cell_type": "code",
   "execution_count": null,
   "id": "3093d745-c1d6-418f-b5fb-9f72fbbe7033",
   "metadata": {},
   "outputs": [],
   "source": [
    "elements = ['aux','groundwater','Ac','Se','Ag','Am','Cd','Cf','Cm','Cu','Fe','Hg','Mo','Nb',\n",
    "            'Ni','Zn','U','Np','Pa','Pb','Pd','Po','Pu','Ra','SmEuHo','Si','Sn','Tc','Th','Ti','Zr', 'organics']"
   ]
  },
  {
   "cell_type": "code",
   "execution_count": null,
   "id": "3f1ff43e-4e17-44c8-b631-28ec207cce92",
   "metadata": {},
   "outputs": [],
   "source": [
    "import concurrent.futures\n",
    "import sys, time\n",
    "\n",
    "# Function to process each element (e.g., creating the file name)\n",
    "def process_element(element):\n",
    "    file_name = f\"data-in/dcomp-aqueous.{element}.csv\"\n",
    "    print(file_name)\n",
    "    generator.runImport(\"TableImport\", description, file_name, \"rdc_PSITDB2020\");\n",
    "    sys.stdout.flush()  # Flush the output buffer\n",
    "    time.sleep(1)  # Simulate some delay in processing\n",
    "\n",
    "# Define the number of threads\n",
    "num_threads = 1  # Set the desired number of threads\n",
    "\n",
    "# Using ThreadPoolExecutor with a defined number of threads\n",
    "with concurrent.futures.ThreadPoolExecutor(max_workers=num_threads) as executor:\n",
    "    # Submit each task to the thread pool\n",
    "    executor.map(process_element, elements)"
   ]
  },
  {
   "cell_type": "code",
   "execution_count": null,
   "id": "81fdfa44-c334-4e7e-9d57-a51b39de9f8c",
   "metadata": {},
   "outputs": [],
   "source": [
    "# updating data of elements with default oxidation states, molar masses, entropy and Cp from CODATA, NEA and SUCPRT\n",
    "fields_list = [ \"_id\", \"properties.symbol\" ]\n",
    "generator.updateFileToDatabase(\"FormatTableFile\", \"scripts-in/elements_update.FormatTableFile.json\",\n",
    "                    \"../../datatypes/elements/data-in/elements.csv\", \"\", \"\", fields_list )"
   ]
  },
  {
   "cell_type": "code",
   "execution_count": null,
   "id": "b6412f77-09a3-44fc-b9be-e4b6c537abdc",
   "metadata": {},
   "outputs": [],
   "source": []
  }
 ],
 "metadata": {
  "kernelspec": {
   "display_name": "Python 3 (ipykernel)",
   "language": "python",
   "name": "python3"
  },
  "language_info": {
   "codemirror_mode": {
    "name": "ipython",
    "version": 3
   },
   "file_extension": ".py",
   "mimetype": "text/x-python",
   "name": "python",
   "nbconvert_exporter": "python",
   "pygments_lexer": "ipython3",
   "version": "3.10.14"
  }
 },
 "nbformat": 4,
 "nbformat_minor": 5
}
