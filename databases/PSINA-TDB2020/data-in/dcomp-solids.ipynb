{
 "cells": [
  {
   "cell_type": "code",
   "execution_count": 18,
   "id": "b5b00182-810b-4bd0-ad16-8f903d8f0a21",
   "metadata": {},
   "outputs": [],
   "source": [
    "import pandas as pd\n",
    "import os"
   ]
  },
  {
   "cell_type": "code",
   "execution_count": 19,
   "id": "cfa1a761-2670-47a1-9b36-c3844f9b8061",
   "metadata": {},
   "outputs": [],
   "source": [
    "elements = ['aux','groundwater','Ac','Se','Ag','Am','Cd','Cf','Cm','Cu','Fe','Hg','Mo','Nb',\n",
    "            'Ni','Zn','U','Np','P','Pa','Pb','Pd','Po','Pu','Ra','SmEuHo','Si','Sn','Tc','Th','Ti','Zr', 'organics'] # few elements are repeated due to missing master species in reactions"
   ]
  },
  {
   "cell_type": "code",
   "execution_count": 20,
   "id": "ab0d402b-ca91-4ffa-a489-7587149c789d",
   "metadata": {},
   "outputs": [],
   "source": [
    "# Read the CSV file into a DataFrame\n",
    "for element in elements:\n",
    "    file_name_in = f\"dcomp-aqueous.{element}.csv\"\n",
    "    file_name_out = f\"dcomp-solids.{element}.csv\"\n",
    "    \n",
    "    if os.path.exists(file_name_in):\n",
    "\n",
    "        df = pd.read_csv(file_name_in)\n",
    "\n",
    "    # Filter rows where 'agg_state' column contains 's'\n",
    "        filtered_df = df[df['agg_state'].str.contains('s', na=False)]\n",
    "\n",
    "    # Save the filtered rows to a new CSV file\n",
    "        filtered_df.to_csv(file_name_out, index=False)"
   ]
  },
  {
   "cell_type": "code",
   "execution_count": 11,
   "id": "38e8fabc-022e-4798-be7b-633a6fb6e6e4",
   "metadata": {},
   "outputs": [],
   "source": [
    "file_name_in = f\"dcomp-aqueous.{'Ag'}.csv\"\n",
    "file_name_out = f\"dcomp-solids.{'Ag'}.csv\""
   ]
  },
  {
   "cell_type": "code",
   "execution_count": 12,
   "id": "ad3ae846-5ea8-44ba-9e49-ff7a3cb02ea0",
   "metadata": {},
   "outputs": [],
   "source": [
    "df = pd.read_csv(file_name_in)\n",
    "\n",
    "    # Filter rows where 'agg_state' column contains 's'\n",
    "filtered_df = df[df['agg_state'].str.contains('s', na=False)]"
   ]
  },
  {
   "cell_type": "code",
   "execution_count": 13,
   "id": "046c209d-674f-4e34-846a-1458026b3f7a",
   "metadata": {},
   "outputs": [
    {
     "data": {
      "text/html": [
       "<div>\n",
       "<style scoped>\n",
       "    .dataframe tbody tr th:only-of-type {\n",
       "        vertical-align: middle;\n",
       "    }\n",
       "\n",
       "    .dataframe tbody tr th {\n",
       "        vertical-align: top;\n",
       "    }\n",
       "\n",
       "    .dataframe thead th {\n",
       "        text-align: right;\n",
       "    }\n",
       "</style>\n",
       "<table border=\"1\" class=\"dataframe\">\n",
       "  <thead>\n",
       "    <tr style=\"text-align: right;\">\n",
       "      <th></th>\n",
       "      <th>Symbol</th>\n",
       "      <th>Name</th>\n",
       "      <th>Composition</th>\n",
       "      <th>agg_state</th>\n",
       "      <th>DfGm [kJ/mol]</th>\n",
       "      <th>sigma DfGm [kJ/mol]</th>\n",
       "      <th>DfHm [kJ/mol]</th>\n",
       "      <th>sigma DfHm [kJ/mol]</th>\n",
       "      <th>Sm [J/(K mol)]</th>\n",
       "      <th>sigma Sm [J/(K mol)]</th>\n",
       "      <th>Cpm [J/(K mol)]</th>\n",
       "      <th>sigma Cpm [J/(K mol)]</th>\n",
       "    </tr>\n",
       "  </thead>\n",
       "  <tbody>\n",
       "    <tr>\n",
       "      <th>1</th>\n",
       "      <td>Ag(cr)</td>\n",
       "      <td>Silver</td>\n",
       "      <td>Ag|0|</td>\n",
       "      <td>s</td>\n",
       "      <td>0.0</td>\n",
       "      <td>NaN</td>\n",
       "      <td>0.000</td>\n",
       "      <td>NaN</td>\n",
       "      <td>42.55</td>\n",
       "      <td>0.2</td>\n",
       "      <td>25.35</td>\n",
       "      <td>0.1</td>\n",
       "    </tr>\n",
       "    <tr>\n",
       "      <th>2</th>\n",
       "      <td>Ag2Se(alpha)</td>\n",
       "      <td>Ag2Se(alpha)</td>\n",
       "      <td>Ag2Se|-2|</td>\n",
       "      <td>s</td>\n",
       "      <td>-46.9</td>\n",
       "      <td>1.3</td>\n",
       "      <td>-40.129</td>\n",
       "      <td>1.32</td>\n",
       "      <td>149.90</td>\n",
       "      <td>0.5</td>\n",
       "      <td>81.15</td>\n",
       "      <td>0.9</td>\n",
       "    </tr>\n",
       "  </tbody>\n",
       "</table>\n",
       "</div>"
      ],
      "text/plain": [
       "         Symbol          Name Composition agg_state  DfGm [kJ/mol]  \\\n",
       "1        Ag(cr)        Silver       Ag|0|         s            0.0   \n",
       "2  Ag2Se(alpha)  Ag2Se(alpha)   Ag2Se|-2|         s          -46.9   \n",
       "\n",
       "   sigma DfGm [kJ/mol]  DfHm [kJ/mol]  sigma DfHm [kJ/mol]  Sm [J/(K mol)]  \\\n",
       "1                  NaN          0.000                  NaN           42.55   \n",
       "2                  1.3        -40.129                 1.32          149.90   \n",
       "\n",
       "   sigma Sm [J/(K mol)]  Cpm [J/(K mol)]  sigma Cpm [J/(K mol)]  \n",
       "1                   0.2            25.35                    0.1  \n",
       "2                   0.5            81.15                    0.9  "
      ]
     },
     "execution_count": 13,
     "metadata": {},
     "output_type": "execute_result"
    }
   ],
   "source": [
    "filtered_df"
   ]
  },
  {
   "cell_type": "code",
   "execution_count": 14,
   "id": "fc7ec53c-fdf9-4798-af8f-e60dfa12a224",
   "metadata": {},
   "outputs": [],
   "source": [
    "filtered_df.to_csv(file_name_out, index=False)"
   ]
  },
  {
   "cell_type": "code",
   "execution_count": null,
   "id": "1f91eea8-52a3-4f09-99fb-85f949bcccaa",
   "metadata": {},
   "outputs": [],
   "source": []
  }
 ],
 "metadata": {
  "kernelspec": {
   "display_name": "Python 3 (ipykernel)",
   "language": "python",
   "name": "python3"
  },
  "language_info": {
   "codemirror_mode": {
    "name": "ipython",
    "version": 3
   },
   "file_extension": ".py",
   "mimetype": "text/x-python",
   "name": "python",
   "nbconvert_exporter": "python",
   "pygments_lexer": "ipython3",
   "version": "3.10.17"
  }
 },
 "nbformat": 4,
 "nbformat_minor": 5
}
