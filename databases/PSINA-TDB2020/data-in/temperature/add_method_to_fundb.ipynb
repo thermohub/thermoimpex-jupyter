{
 "cells": [
  {
   "cell_type": "code",
   "execution_count": 3,
   "id": "33559b62-1148-4b85-ad50-52c52f0bc60a",
   "metadata": {},
   "outputs": [],
   "source": [
    "import json\n",
    "\n",
    "# Define the default TPMethods block\n",
    "default_tp_method = [\n",
    "    {\n",
    "        \"limitsTP\": {\n",
    "            \"lowerT\": 298,\n",
    "            \"range\": False,\n",
    "            \"upperT\": 298\n",
    "        },\n",
    "        \"method\": {\n",
    "            \"43\": \"standard_entropy_cp_integration \"\n",
    "        }\n",
    "    }\n",
    "]\n",
    "\n",
    "# Load the original JSON file\n",
    "with open(\"PsiTDB2020-thermofun.json\", \"r\") as f:\n",
    "    data = json.load(f)\n",
    "\n",
    "# Loop through substances and add TPMethods if missing or empty\n",
    "for substance in data.get(\"substances\", []):\n",
    "    if \"TPMethods\" not in substance or not substance[\"TPMethods\"]:\n",
    "        substance[\"TPMethods\"] = default_tp_method\n",
    "\n",
    "# Save to a new JSON file\n",
    "with open(\"PsiTDB2020_with_tpmethods.json\", \"w\") as f:\n",
    "    json.dump(data, f, indent=2)"
   ]
  },
  {
   "cell_type": "code",
   "execution_count": null,
   "id": "67e00ad2-bec1-449c-9603-7b33cd58ebb5",
   "metadata": {},
   "outputs": [],
   "source": []
  }
 ],
 "metadata": {
  "kernelspec": {
   "display_name": "Python 3 (ipykernel)",
   "language": "python",
   "name": "python3"
  },
  "language_info": {
   "codemirror_mode": {
    "name": "ipython",
    "version": 3
   },
   "file_extension": ".py",
   "mimetype": "text/x-python",
   "name": "python",
   "nbconvert_exporter": "python",
   "pygments_lexer": "ipython3",
   "version": "3.10.17"
  }
 },
 "nbformat": 4,
 "nbformat_minor": 5
}
