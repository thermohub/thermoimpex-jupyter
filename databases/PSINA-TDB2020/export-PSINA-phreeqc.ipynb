{
 "cells": [
  {
   "cell_type": "code",
   "execution_count": 1,
   "id": "4b929440-2200-492b-8ae8-30c9be147dbd",
   "metadata": {},
   "outputs": [],
   "source": [
    "import thermohubclient as thc\n",
    "import thermofun as fun\n",
    "import chemicalfun as cfun\n",
    "import sys\n",
    "sys.path.append('scripts-out')"
   ]
  },
  {
   "cell_type": "code",
   "execution_count": 2,
   "id": "efe82d4b-3cea-49f5-b93e-87fbfb993c7e",
   "metadata": {},
   "outputs": [],
   "source": [
    "from export import PhreeqcFormatter, secondary_master, master_formulas, master_symbols, reaction_properties, product_aqueous\n",
    "from export import to_phreeqc_formation_reaction_prioritized, to_phreeqc_dissolution_reaction, process_reaction, correct_reactant_product_order, contains_solid, contains_gas, is_solid, is_liquid, is_gas\n",
    "#from export import to_phreeqc_formation_reaction_prioritized, reaction_properties_json\n",
    "from export import secondary_master_formulasx, secondary_masterx, master_formulasx, master_symbolsx, product_solids, zeolites"
   ]
  },
  {
   "cell_type": "code",
   "execution_count": 3,
   "id": "9b9e86c3-a4ba-4e62-8d7b-ce5033949ac8",
   "metadata": {},
   "outputs": [],
   "source": [
    "database = fun.Database('data-in/temperature/PsiTDB2020_with_tpmethods.json')\n",
    "engine = fun.ThermoEngine(database)"
   ]
  },
  {
   "cell_type": "markdown",
   "id": "9af6e7f5-f54e-49a7-bb95-dd53c80164c4",
   "metadata": {},
   "source": [
    "### check for missing species\n",
    "\n",
    "list1 = database.getReactionsList()\n",
    "list2 = product_aqueous\n",
    "\n",
    "for item in list1:\n",
    "    if item not in list2:\n",
    "        if is_aqeuous(database.getSubstance(item)):\n",
    "            print(item)"
   ]
  },
  {
   "cell_type": "markdown",
   "id": "fe36d12d-0c99-4084-9a45-df1d4af68295",
   "metadata": {
    "scrolled": true
   },
   "source": [
    "### output a file to compare with existing db\n",
    "with open(\"reaction_output_old.txt\", \"w\") as file:\n",
    "    file.close()\n",
    "\n",
    "for r in product_aqueous:\n",
    "    rr = database.getReaction(r)\n",
    "    s = database.getSubstance(r)\n",
    "    rcts = rr.reactants()\n",
    "    reac_eq, sign = to_phreeqc_formation_reaction_prioritized(rr.symbol(),s.formula(),rcts)\n",
    "    props = reaction_properties_json(rr.jsonString()) #reaction_properties(rr.thermoReferenceProperties())\n",
    "    output = reaction_to_phreeqc_old(reac_eq, sign, props)\n",
    "    # Append the result to a file\n",
    "    with open(\"reaction_output_old.txt\", \"a\") as file:\n",
    "        file.write(output)  # Add newline for separation"
   ]
  },
  {
   "cell_type": "markdown",
   "id": "591d4c02-b321-40e5-848d-a14298b094f8",
   "metadata": {},
   "source": [
    "# Export SECONDARY MASTER SPECIES "
   ]
  },
  {
   "cell_type": "code",
   "execution_count": 4,
   "id": "59834768-d8db-4c12-8ce8-2f710ee1a0d9",
   "metadata": {},
   "outputs": [],
   "source": [
    "# write them to file \n",
    "file_modes = { \"data-out/phreeqc/psinagra2020_v2-0.txt\": \"w\",\n",
    "               \"data-out/phreeqc/check/secondary_master.txt\": \"w\" }\n",
    "\n",
    "for path, mode in file_modes.items():\n",
    "    with open(path, mode) as f:\n",
    "        f.write(\"\\n# SECONDARY MASTER SPECIES\\n\\n\")\n",
    "        f.close()"
   ]
  },
  {
   "cell_type": "code",
   "execution_count": 5,
   "id": "52d11dba-ef34-4829-ac8c-2f3a45760082",
   "metadata": {},
   "outputs": [],
   "source": [
    "secondary_mastery = secondary_master #+ other_aqueous # adding other aqeuous without reactions to secondary master\n",
    "\n",
    "secondary_master_species = {\n",
    "    sm : database.getSubstance(sm)\n",
    "    for sm in secondary_mastery\n",
    "}"
   ]
  },
  {
   "cell_type": "code",
   "execution_count": 6,
   "id": "0631205e-34f0-42d6-bbf8-c8d7a819f577",
   "metadata": {},
   "outputs": [],
   "source": [
    "engine.setSolventSymbol('H2O(l)')\n",
    "fmt = PhreeqcFormatter()\n",
    "for symbol, s in secondary_master_species.items():\n",
    "    formulas = master_formulas + [s.formula()]\n",
    "    symbols  = master_symbols + [s.symbol()]\n",
    "    output = process_reaction(s.symbol(), s.formula(), formulas, symbols,\n",
    "                              engine, database, \n",
    "                              fmt.format_aqueous_reaction_generated)\n",
    "\n",
    "    # write them to file \n",
    "    file_modes = { \"data-out/phreeqc/psinagra2020_v2-0.txt\": \"a\",\n",
    "                   \"data-out/phreeqc/check/secondary_master.txt\": \"a\" }\n",
    "\n",
    "    for path, mode in file_modes.items():\n",
    "        with open(path, mode) as f:\n",
    "            f.write(output + \"\\n\")"
   ]
  },
  {
   "cell_type": "markdown",
   "id": "e35ab33e-00b8-451e-a03d-0bd4ff279051",
   "metadata": {},
   "source": [
    "# Export PRODUCT SPECIES\n",
    "\n",
    "**(UO2)3O(OH)2HCO3+** fixed the name in the SIT list"
   ]
  },
  {
   "cell_type": "code",
   "execution_count": 7,
   "id": "096a82f6-de48-4029-9540-58bafab9be21",
   "metadata": {},
   "outputs": [],
   "source": [
    "reaction_entries = []\n",
    "reactions_list_db = database.getReactionsList()\n",
    "\n",
    "for r in product_aqueous:\n",
    "    if r in reactions_list_db:\n",
    "        rr = database.getReaction(r)\n",
    "        s  = database.getSubstance(r)\n",
    "        rcts = rr.reactants()\n",
    "\n",
    "        if contains_solid(rcts, database) or contains_gas(rcts, database):\n",
    "            # if reaction contains solid or gas in reactants, generat reactions 1st with secondary master species if it fails with primary master species\n",
    "            output = process_reaction(\n",
    "                s.symbol(), s.formula(),\n",
    "                secondary_master_formulasx + master_formulasx + [s.formula()],\n",
    "                secondary_masterx + master_symbolsx + [s.symbol()],\n",
    "                engine, database,\n",
    "                fmt.format_aqueous_reaction_generated,\n",
    "                use_valence=True,\n",
    "                retry_fallback=(master_formulas+[s.formula()],\n",
    "                                master_symbols+[s.symbol()], False)\n",
    "            )\n",
    "            reactants = [] # list(rcts.keys())  # dict → list of symbols\n",
    "        else:\n",
    "            # take reaction as is in the TDB\n",
    "            reac_eq, sign = to_phreeqc_formation_reaction_prioritized(rr.symbol(), s.formula(), rcts)\n",
    "            props = reaction_properties(engine,rr)\n",
    "            output = fmt.format_aqueous_reaction(rr, reac_eq, sign, props)\n",
    "            reactants = list(rcts.keys())\n",
    "    else:\n",
    "        # if reaction not found in the tdb then generate it from master species\n",
    "        s = database.getSubstance(r)\n",
    "        output = process_reaction(\n",
    "            s.symbol(), s.formula(),\n",
    "            master_formulas + [s.formula()],\n",
    "            master_symbols + [s.symbol()],\n",
    "            engine, database,\n",
    "            fmt.format_aqueous_reaction_generated\n",
    "        )\n",
    "        reactants = []  # or from reactions_dic[0]\n",
    "\n",
    "    # clean insertion\n",
    "    correct_reactant_product_order(reaction_entries, r, output, reactants)\n"
   ]
  },
  {
   "cell_type": "code",
   "execution_count": 8,
   "id": "5493594d-f471-4aea-936c-8f27756a438c",
   "metadata": {},
   "outputs": [],
   "source": [
    "# write them to file \n",
    "file_modes = { \"data-out/phreeqc/psinagra2020_v2-0.txt\": \"a\",\n",
    "               \"data-out/phreeqc/check/product_species.txt\": \"w\" }\n",
    "\n",
    "for path, mode in file_modes.items():\n",
    "    with open(path, mode) as f:\n",
    "        f.write(\"\\n# PRODUCT SPECIES\\n\\n\")\n",
    "        f.close()\n",
    "\n",
    "file_modes = { \"data-out/phreeqc/psinagra2020_v2-0.txt\": \"a\",\n",
    "               \"data-out/phreeqc/check/product_species.txt\": \"a\" }\n",
    "\n",
    "for path, mode in file_modes.items():\n",
    "    with open(path, mode) as f:\n",
    "        for entry in reaction_entries:\n",
    "            # Each entry is a dict with one key: the species name\n",
    "            species = list(entry.keys())[0]\n",
    "            output = entry[species][\"out\"]\n",
    "            f.write(output+'\\n')  # Add newline for separation"
   ]
  },
  {
   "cell_type": "code",
   "execution_count": 9,
   "id": "c6909c5c-4bfd-48a2-a210-11703a9fe213",
   "metadata": {},
   "outputs": [],
   "source": [
    "substances = database.getSubstances()\n",
    "\n",
    "solid_substances = {\n",
    "    s.name().replace('_rdc_', ''): s\n",
    "    for s in database.getSubstances()\n",
    "    if is_solid(s) or is_liquid(s)\n",
    "}\n",
    "#print(solid_substances)"
   ]
  },
  {
   "cell_type": "markdown",
   "id": "3668f2f6-6659-4dae-8601-7dffca633efb",
   "metadata": {},
   "source": [
    "### Create a list of substances in product_solids not in solid_substances\n",
    "missing_solids = [\n",
    "    ps for ps in product_solids\n",
    "    if ps not in solid_substances\n",
    "]\n",
    "print(missing_solids)"
   ]
  },
  {
   "cell_type": "code",
   "execution_count": 10,
   "id": "a9cc9c2e-41e9-423d-b566-47b9fb8ce76a",
   "metadata": {},
   "outputs": [
    {
     "name": "stdout",
     "output_type": "stream",
     "text": [
      "['Ag(cr)', 'Ag2Se(alpha)', 'Al(OH)3(cr)', 'Al2O3(alpha)', 'Analcime', 'Beidellite(Ca)', 'Beidellite(K)', 'Beidellite(Mg)', 'Beidellite(Na)', 'Beidellite_SBld-1', 'Berthierine(FeII)', 'Berthierine(FeIII)', 'Berthierine_ISGS', 'C3AS3(cr)', 'C3FS3(cr)', 'Ca(OH)2(cr)', 'CaCO3(calcite)', 'CaMg(CO3)2(cr)', 'CaSO4(cr)', 'CaSiO3(cr)', 'Cancrinite-NO3', 'Chabazite-Ca', 'Chabazite-Na', 'Clinoptilolite', 'Cronstedtite', 'Faujasite-X', 'Faujasite-Y', 'Fe(alpha)', 'Fe2O3(alpha)', 'Fe3O4(cr)', 'FeOOH(alpha)', 'FeOOH(gamma)', 'Glauconite', 'Heulandite_1', 'Heulandite_2', 'Hg(l)', 'Hg2Cl2(cr)', 'HgO(cr)', 'Hydrosodalite', 'Illite(Al)', 'Illite(FeII)', 'Illite(FeIII)', 'Illite(Mg)', 'Illite_IMt-2', 'Linda_type_A', 'Low-silica_P-Ca', 'Low-silica_P-Na', 'Mg(OH)2(s)', 'MgCO3(s)', 'Mn2O3(cr)', 'Mn3O4(cr)', 'MnCO3(cr)', 'MnO(cr)', 'MnO2(cr)', 'MoO2(cr)', 'MoO3(cr)', 'Molecular_sieve_4Å', 'Montmorillonite(HcCa)', 'Montmorillonite(HcK)', 'Montmorillonite(HcMg)', 'Montmorillonite(HcNa)', 'Montmorillonite(MgCa)', 'Montmorillonite(MgK)', 'Montmorillonite(MgMg)', 'Montmorillonite(MgNa)', 'Mordenite-Ca', 'Mordenite-Na', 'Natrolite', 'Nontronite(Ca)', 'Nontronite(K)', 'Nontronite(Mg)', 'Nontronite(Na)', 'Nontronite_Nau-1', 'Pb(cr)', 'PbSO4(cr)', 'Pd(cr)', 'PdO(cr)', 'Phillipsite-Na', 'Phillipsite-NaK', 'Po(cr)', 'PoO2(s)', 'Ripidolite_Cca-2', 'S(orth)', 'Saponite(Ca)', 'Saponite(FeCa)', 'Saponite(FeK)', 'Saponite(FeMg)', 'Saponite(FeNa)', 'Saponite(K)', 'Saponite(Mg)', 'Saponite(Na)', 'Saponite_SapCa-2', 'Scolecite', 'Se(cr)', 'SiO2(cr)', 'Smectite_MX80', 'Sn(beta)', 'Sodalite', 'Stilbite', 'Vermiculite(Ca)', 'Vermiculite(K)', 'Vermiculite(Mg)', 'Vermiculite(Na)', 'Vermiculite_SO']\n"
     ]
    }
   ],
   "source": [
    "reactions_list = database.getReactionsList()\n",
    "no_reactions_phases = [\n",
    "    s.symbol()\n",
    "    for s in database.getSubstances()\n",
    "    if s.symbol() not in reactions_list and (is_solid(s) or is_liquid(s))\n",
    "]\n",
    "\n",
    "print(no_reactions_phases)"
   ]
  },
  {
   "cell_type": "markdown",
   "id": "bc6f6df1-413c-41f3-b249-38bffdb41e6a",
   "metadata": {},
   "source": [
    "# Export PHASES GASES"
   ]
  },
  {
   "cell_type": "code",
   "execution_count": 11,
   "id": "b3df14b5-bdd1-44d9-a818-4a65413f953b",
   "metadata": {},
   "outputs": [],
   "source": [
    "# write them to file \n",
    "file_modes = { \"data-out/phreeqc/psinagra2020_v2-0.txt\": \"a\",\n",
    "               \"data-out/phreeqc/check/phases_gases.txt\": \"w\" }\n",
    "\n",
    "for path, mode in file_modes.items():\n",
    "    with open(path, mode) as f:\n",
    "        f.write(\"\\nPHASES\\n\\n\")\n",
    "        f.write(\"# GASES\\n\\n\")\n",
    "        f.close()\n"
   ]
  },
  {
   "cell_type": "code",
   "execution_count": 12,
   "id": "c89b118f-91b5-4722-b7e6-48ee2066b0bd",
   "metadata": {},
   "outputs": [],
   "source": [
    "gases = {\n",
    "    s.symbol(): s\n",
    "    for s in database.getSubstances()\n",
    "    if is_gas(s)\n",
    "}"
   ]
  },
  {
   "cell_type": "code",
   "execution_count": 13,
   "id": "def2be02-93ec-49bb-afb3-bd37639d3233",
   "metadata": {},
   "outputs": [],
   "source": [
    "master_formulas_g = ['C|-4|H4', 'C|+4|O2', 'H|0|2', 'H2S|-2|', 'H2Se|-2|', 'Hg|0|', 'N|0|2', 'O|0|2']\n",
    "master_symbols_g = ['CH4(aq)', 'CO2(aq)', 'H2(aq)', 'H2S(aq)', 'H2Se(aq)', 'Hg(aq)', 'N2(aq)', 'O2(aq)']\n",
    "\n",
    "for symbol, g in gases.items():\n",
    "    formulas = [g.formula(), g.formula()]\n",
    "    symbols  = [g.symbol().replace('(g)', '(aq)'), g.symbol()]\n",
    "\n",
    "    output = process_reaction(\n",
    "        g.symbol(), g.formula(),\n",
    "        formulas, symbols,\n",
    "        engine, database,\n",
    "        fmt.format_phase_reaction_generated,\n",
    "        mode=\"dissolution\"  # tells helper to call to_phreeqc_dissolution_reaction\n",
    "    )\n",
    "\n",
    "    file_modes = { \"data-out/phreeqc/psinagra2020_v2-0.txt\": \"a\",\n",
    "                   \"data-out/phreeqc/check/phases_gases.txt\": \"a\" }\n",
    "\n",
    "    for path, mode in file_modes.items():\n",
    "        with open(path, mode) as f:\n",
    "            f.write(output + \"\\n\")"
   ]
  },
  {
   "cell_type": "markdown",
   "id": "d483a3d7-c947-4ab9-9c23-d2b742d5dcd7",
   "metadata": {},
   "source": [
    "### not working since the defines links for gases are removed.\n",
    "for symbol, g in gases.items():\n",
    "    if symbol not in no_reactions_phases:\n",
    "        rr = database.getReaction(symbol)\n",
    "        rcts = rr.reactants()\n",
    "        reac_eq, sign = to_phreeqc_dissolution_reaction(symbol,g.formula(),rcts)\n",
    "        props = reaction_properties_json(rr.jsonString()) #reaction_properties(rr.thermoReferenceProperties())\n",
    "        output = phase_reaction_to_phreeqc(rr, g, reac_eq, sign, props)\n",
    "        # Append the result to a file\n",
    "        with open(\"psinagra2020_v2-0.txt\", \"a\") as file:\n",
    "            file.write(output)  # Add newline for separation"
   ]
  },
  {
   "cell_type": "markdown",
   "id": "1828d418-294d-4ee2-97bf-939f0140991a",
   "metadata": {},
   "source": [
    "# Export PHASES MINERALS"
   ]
  },
  {
   "cell_type": "code",
   "execution_count": 14,
   "id": "8520078b-f3aa-4092-882b-bf1b4d3297ef",
   "metadata": {},
   "outputs": [],
   "source": [
    "# write them to file \n",
    "file_modes = { \"data-out/phreeqc/psinagra2020_v2-0.txt\": \"a\",\n",
    "               \"data-out/phreeqc/check/phases_minerals.txt\": \"w\",\n",
    "               \"data-out/phreeqc/check/phases_zeolites.txt\": \"w\" }\n",
    "\n",
    "for path, mode in file_modes.items():\n",
    "    with open(path, mode) as f:\n",
    "        f.write(\"\\n# MINERALS\\n\\n\")\n",
    "        f.close()\n",
    "\n",
    "for r in product_solids:\n",
    "    if r not in solid_substances:\n",
    "        s = database.getSubstance(r)\n",
    "    else:\n",
    "        s = solid_substances[r]\n",
    "    if s.symbol() not in no_reactions_phases:\n",
    "        rr = database.getReaction(s.symbol())\n",
    "        rcts = rr.reactants()\n",
    "        if contains_gas(rcts, database) or contains_solid(rcts, database, s.symbol()):\n",
    "            formulas = secondary_master_formulasx+master_formulasx+[s.formula()]\n",
    "            symbols  = secondary_masterx+ master_symbolsx+[s.symbol()]\n",
    "            output = process_reaction(\n",
    "                s.symbol(), s.formula(),\n",
    "                formulas, symbols,\n",
    "                engine, database,\n",
    "                fmt.format_phase_reaction_generated,\n",
    "                use_valence=True,\n",
    "                retry_fallback=(master_formulas+[s.formula()],\n",
    "                                master_symbols+[s.symbol()], False),\n",
    "                mode=\"dissolution\"  # tells helper to call to_phreeqc_dissolution_reaction\n",
    "            )\n",
    "        else:\n",
    "            # take reaction as is in the TDB\n",
    "            reac_eq, sign = to_phreeqc_dissolution_reaction(rr.symbol(), s.formula(), rcts)\n",
    "            props = reaction_properties(engine,rr)\n",
    "            output = fmt.format_phase_reaction(rr, s, reac_eq, sign, props)\n",
    "    else:\n",
    "        # generate reaction and calculate its properties\n",
    "        formulas = secondary_master_formulasx+master_formulasx+[s.formula()]\n",
    "        symbols  = secondary_masterx+ master_symbolsx+[s.symbol()]\n",
    "        output = process_reaction(\n",
    "                s.symbol(), s.formula(),\n",
    "                formulas, symbols,\n",
    "                engine, database,\n",
    "                fmt.format_phase_reaction_generated,\n",
    "                use_valence=True,\n",
    "                retry_fallback=(master_formulas+[s.formula()],\n",
    "                                master_symbols+[s.symbol()], False),\n",
    "                mode=\"dissolution\"  # tells helper to call to_phreeqc_dissolution_reaction\n",
    "            )\n",
    "    # write them to file \n",
    "    file_modes = {\n",
    "    \"data-out/phreeqc/psinagra2020_v2-0.txt\": \"a\",\n",
    "    \"data-out/phreeqc/check/phases_minerals.txt\": \"a\",\n",
    "    \"data-out/phreeqc/check/phases_zeolites.txt\": \"a\"\n",
    "    }\n",
    "\n",
    "    # Always write to phases_mineralsxx and phases_zeolitesxx\n",
    "    for path in [\n",
    "    \"data-out/phreeqc/check/phases_minerals.txt\",\n",
    "    \"data-out/phreeqc/check/phases_zeolites.txt\"\n",
    "    ]:\n",
    "        with open(path, file_modes[path]) as f:\n",
    "            f.write(output + \"\\n\")\n",
    "\n",
    "    # Write to psinagra2020_v2-0xx.txt only if not a zeolite\n",
    "    if s.symbol() not in zeolites:\n",
    "        path = \"data-out/phreeqc/psinagra2020_v2-0.txt\"\n",
    "        with open(path, file_modes[path]) as f:\n",
    "            f.write(output + \"\\n\")\n"
   ]
  },
  {
   "cell_type": "code",
   "execution_count": null,
   "id": "782bb7cd-68f1-4a80-a259-4265ed25d2ac",
   "metadata": {},
   "outputs": [],
   "source": []
  }
 ],
 "metadata": {
  "kernelspec": {
   "display_name": "Python 3 (ipykernel)",
   "language": "python",
   "name": "python3"
  },
  "language_info": {
   "codemirror_mode": {
    "name": "ipython",
    "version": 3
   },
   "file_extension": ".py",
   "mimetype": "text/x-python",
   "name": "python",
   "nbconvert_exporter": "python",
   "pygments_lexer": "ipython3",
   "version": "3.10.17"
  }
 },
 "nbformat": 4,
 "nbformat_minor": 5
}
