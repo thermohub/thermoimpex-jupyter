{
 "cells": [
  {
   "cell_type": "code",
   "execution_count": 1,
   "id": "9f27c90e-df52-406f-9137-65f8fd2a78bd",
   "metadata": {},
   "outputs": [
    {
     "name": "stdout",
     "output_type": "stream",
     "text": [
      "[2024-12-16 17:25:58.512] [jsonio17] [info] Home directory is /home/dmiron\n"
     ]
    }
   ],
   "source": [
    "import thermomatch as match\n",
    "match.ThermoImpexGenerator.create_local_database_if_not_existent = True"
   ]
  },
  {
   "cell_type": "code",
   "execution_count": 2,
   "id": "951951eb-acd5-420a-823d-427ad1ddf400",
   "metadata": {},
   "outputs": [
    {
     "name": "stdout",
     "output_type": "stream",
     "text": [
      "[jsonarango] [info] You are connected to: arango 3.9.12\n"
     ]
    }
   ],
   "source": [
    "# Set path to `schemas` and `lua` not from the configuration file\n",
    "match.ThermoImpexGenerator.setResourcesDirectory(\"../../Resources\")\n",
    "\n",
    "# Connect to Arango database\n",
    "generator = match.ThermoImpexGenerator(\"http://localhost:8529\", \"root\", \"\", \"ORD_claysor23_2\", True, match.ThermoImpexGenerator.File, False)"
   ]
  },
  {
   "cell_type": "code",
   "execution_count": 3,
   "id": "75ab906d-0168-4c99-9993-584530ad1a65",
   "metadata": {},
   "outputs": [],
   "source": [
    "# List of implemented thermodynamic formats\n",
    "#print( generator.allFormats() )\n",
    "\n",
    "# Execute import from PSI table format data\n",
    "description = [\n",
    "    match.ImpexRowDescription(\"refs\", \"VertexDataSource\", \"records_and_links\", \"FormatStructDataFile\", \"scripts-in/references.FormatStructDataFile.json\"), # Datasource records \n",
    "    match.ImpexRowDescription(\"elements\", \"VertexElement\", \"records\", \"FormatStructDataFile\", \"scripts-in/Element.claysor23.FormatStructDataFile.json\"), # elements records\n",
    "    match.ImpexRowDescription(\"species\", \"VertexSubstance\", \"records\", \"FormatStructDataFile\", \"scripts-in/Substance.claysor23.FormatStructDataFile.json\"), # aqueous substances records\n",
    "   # match.ImpexRowDescription(\"solids\", \"VertexSubstance\", \"records\", \"FormatStructDataFile\", \"scripts-in/Substance.mines23.FormatStructDataFile.json\"), # solid substances records\n",
    "   # match.ImpexRowDescription(\"fluids\", \"VertexSubstance\", \"records\", \"FormatStructDataFile\", \"scripts-in/Substance.mines23.FormatStructDataFile.json\"), # fluid substances records\n",
    "   match.ImpexRowDescription(\"reactions\", \"VertexSubstance\", \"records\", \"FormatStructDataFile\", \"scripts-in/ReactionSubstance.claysor23.FormatStructDataFile.json\"), # reaction dependent substances records\n",
    "   match.ImpexRowDescription(\"reactions\", \"VertexReaction\", \"group\", \"FormatStructDataFile\", \"scripts-in/Reaction.claysor23.FormatStructDataFile.json\"), # reaction records\n",
    "   match.ImpexRowDescription(\"reactions\", \"EdgeTakes\", \"group\", \"FormatStructDataFile\", \"scripts-in/ReactionEdge.claysor23.FormatStructDataFile.json\"), # links between reactants and reaction records\n",
    "   # match.ImpexRowDescription(\"phasespure\", \"VertexPhase\", \"records_and_links\", \"FormatStructDataFile\", \"scripts-in/Phase.mines23.FormatStructDataFile.json\"), # phase records\n",
    "   match.ImpexRowDescription(\"ThermoDataSet\", \"VertexThermoDataSet\", \"records_and_links\", \"FormatTableFile\", \"scripts-in/thermodataset.FormatTableFile.json\") # thermodataset record\n",
    "]"
   ]
  },
  {
   "cell_type": "code",
   "execution_count": 4,
   "id": "39f719c9-d02a-4997-a3b8-5ebe1bc4726b",
   "metadata": {},
   "outputs": [
    {
     "name": "stdout",
     "output_type": "stream",
     "text": [
      "[2024-12-16 17:26:59.392] [thermomatch] [info]  0% Preparing files ...\n",
      "[2024-12-16 17:26:59.392] [thermomatch] [info]  File name for block data-in/claysor23_.refs.json\n",
      "[2024-12-16 17:26:59.392] [thermomatch] [info]  File name for block data-in/claysor23_.elements.json\n",
      "[2024-12-16 17:26:59.392] [thermomatch] [info]  File name for block data-in/claysor23_.species.json\n",
      "[2024-12-16 17:26:59.392] [thermomatch] [info]  File name for block data-in/claysor23_.reactions.json\n",
      "[2024-12-16 17:26:59.392] [thermomatch] [info]  File name for block data-in/claysor23_.reactions.json\n",
      "[2024-12-16 17:26:59.392] [thermomatch] [info]  File name for block data-in/claysor23_.reactions.json\n",
      "[2024-12-16 17:26:59.392] [thermomatch] [info]  File name for block data-in/claysor23_.ThermoDataSet.json\n",
      "[2024-12-16 17:26:59.392] [thermomatch] [info]  10% Importing data ...\n",
      "[2024-12-16 17:26:59.392] [thermomatch] [info]  10% Importing refs VertexDataSource ...\n",
      "[jsonio17] [info] VertexDataSource loading collection: 5818, loading query: 1435\n",
      "[2024-12-16 17:26:59.415] [thermomatch] [info]  18% Importing elements VertexElement ...\n",
      "[jsonio17] [info] VertexElement loading collection: 4759, loading query: 1690\n",
      "[2024-12-16 17:26:59.457] [thermomatch] [info]  26% Importing species VertexSubstance ...\n",
      "[jsonio17] [info] VertexSubstance loading collection: 6584, loading query: 1921\n",
      "[2024-12-16 17:26:59.643] [thermomatch] [info]  34% Importing reactions VertexSubstance ...\n",
      "[2024-12-16 17:27:00.105] [thermomatch] [info]  42% Importing reactions VertexReaction ...\n",
      "[jsonio17] [info] VertexSubstance loading collection: 13, loading query: 34048\n",
      "[2024-12-16 17:27:03.636] [thermomatch] [info]  58% Importing ThermoDataSet VertexThermoDataSet ...\n",
      "[jsonio17] [info] VertexThermoDataSet loading collection: 6173, loading query: 9805\n",
      "[2024-12-16 17:27:03.654] [thermomatch] [info]  80% Load database to compare ...\n",
      "[2024-12-16 17:27:03.654] [thermomatch] [info]  90% Generate Edges ...\n",
      "[2024-12-16 17:27:03.654] [thermomatch] [info] Generate DataSource links\n",
      "[jsonio17] [info] VertexReaction loading collection: 11, loading query: 25040\n",
      "[jsonio17] [info] VertexSubstance loading collection: 16, loading query: 35682\n",
      "[jsonio17] [info] VertexDataSource loading collection: 29, loading query: 2151\n",
      "[2024-12-16 17:27:03.953] [thermomatch] [info] Generate ThermoDataSet links\n",
      "[jsonio17] [info] VertexThermoDataSet loading collection: 20, loading query: 4923\n",
      "[2024-12-16 17:27:04.052] [thermomatch] [info]  100% Ready to test\n"
     ]
    }
   ],
   "source": [
    "#print( description )\n",
    "generator.runImport(\"ReacDCImport\", description, \"data-in/claysor23_.refs.json\", \"claysor23\");"
   ]
  },
  {
   "cell_type": "code",
   "execution_count": 18,
   "id": "5cd841c1-6d72-4586-a89a-881ab5df1d74",
   "metadata": {},
   "outputs": [
    {
     "name": "stdout",
     "output_type": "stream",
     "text": [
      "[jsonio17] [info] Traverse 465 vertexes and  1857 edges \n"
     ]
    }
   ],
   "source": [
    "# Backup results\n",
    "generator.unloadImported(\"data-in/backup\")"
   ]
  },
  {
   "cell_type": "code",
   "execution_count": null,
   "id": "51c70a65-8005-4581-b545-68d902405cac",
   "metadata": {},
   "outputs": [],
   "source": []
  }
 ],
 "metadata": {
  "kernelspec": {
   "display_name": "Python 3 (ipykernel)",
   "language": "python",
   "name": "python3"
  },
  "language_info": {
   "codemirror_mode": {
    "name": "ipython",
    "version": 3
   },
   "file_extension": ".py",
   "mimetype": "text/x-python",
   "name": "python",
   "nbconvert_exporter": "python",
   "pygments_lexer": "ipython3",
   "version": "3.10.17"
  }
 },
 "nbformat": 4,
 "nbformat_minor": 5
}
