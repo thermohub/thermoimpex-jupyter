{
 "cells": [
  {
   "cell_type": "code",
   "execution_count": 9,
   "id": "9f27c90e-df52-406f-9137-65f8fd2a78bd",
   "metadata": {},
   "outputs": [],
   "source": [
    "import thermomatch as match\n",
    "match.ThermoImpexGenerator.create_local_database_if_not_existent = True"
   ]
  },
  {
   "cell_type": "code",
   "execution_count": 10,
   "id": "951951eb-acd5-420a-823d-427ad1ddf400",
   "metadata": {},
   "outputs": [
    {
     "name": "stdout",
     "output_type": "stream",
     "text": [
      "[jsonarango] [info] You are connected to: arango 3.9.12\n"
     ]
    }
   ],
   "source": [
    "# Set path to `schemas` and `lua` not from the configuration file\n",
    "match.ThermoImpexGenerator.setResourcesDirectory(\"../../Resources\")\n",
    "\n",
    "# Connect to Arango database\n",
    "generator = match.ThermoImpexGenerator(\"http://localhost:8529\", \"root\", \"\", \"ORD_claysor23_2\", True, match.ThermoImpexGenerator.File, True)"
   ]
  },
  {
   "cell_type": "code",
   "execution_count": 11,
   "id": "75ab906d-0168-4c99-9993-584530ad1a65",
   "metadata": {},
   "outputs": [],
   "source": [
    "# List of implemented thermodynamic formats\n",
    "#print( generator.allFormats() )\n",
    "\n",
    "# Execute import from PSI table format data\n",
    "description = [\n",
    "    match.ImpexRowDescription(\"SOLUTION_MASTER_SPECIES\", \"VertexElement\", \"element\", \"FormatTableFile\", \"scripts-out/elements.export.phreeqc.FormatTableFile.json\"), # Export Master elements records \n",
    "    match.ImpexRowDescription(\"EXCHANGE_MASTER_SPECIES\", \"VertexElement\", \"element\", \"FormatTableFile\", \"scripts-out/ionex_surface.elements.export.phreeqc.FormatTableFile.json\"), # Export Master elements records \n",
    "    match.ImpexRowDescription(\"SURFACE_MASTER_SPECIES\", \"VertexElement\", \"element\", \"FormatTableFile\", \"scripts-out/ionex_surface.elements.export.phreeqc.FormatTableFile.json\"), # Export Master elements records \n",
    "    match.ImpexRowDescription(\"EXCHANGE_SPECIES\", \"VertexReaction\", \"product\", \"FormatKeyValueFile\", \"scripts-out/product-reaction.export.phreeqc.FormatKeyValueFile.json\"),\n",
    "    match.ImpexRowDescription(\"SURFACE_SPECIES\", \"VertexReaction\", \"product\", \"FormatKeyValueFile\", \"scripts-out/product-reaction.export.phreeqc.FormatKeyValueFile.json\")\n",
    "#    match.ImpexRowDescription(\"SOLUTION_SPECIES\", \"VertexSubstance\", \"master\", \"FormatKeyValueFile\", \"scripts-out/master.export.phreeqc.FormatKeyValueFile.json\"),\n",
    "#    match.ImpexRowDescription(\"SECONDARY_MASTER_SPECIES\", \"VertexSubstance\", \"product\", \"FormatKeyValueFile\", \"scripts-out/product.export.phreeqc.FormatKeyValueFile.json\"),\n",
    "#    match.ImpexRowDescription(\"SECONDARY_MASTER_SPECIES\", \"VertexReaction\", \"product\", \"FormatKeyValueFile\", \"scripts-out/product-reaction.export.phreeqc.FormatKeyValueFile.json\")\n",
    "]"
   ]
  },
  {
   "cell_type": "code",
   "execution_count": 12,
   "id": "39f719c9-d02a-4997-a3b8-5ebe1bc4726b",
   "metadata": {},
   "outputs": [
    {
     "name": "stdout",
     "output_type": "stream",
     "text": [
      "[2025-01-23 18:19:15.201] [thermomatch] [info]  10% Preparing data to export ...\n",
      "[2025-01-23 18:19:15.225] [thermomatch] [info]  20% Exporting SOLUTION_MASTER_SPECIES_element ...\n",
      "[jsonio17] [info] VertexElement loading collection: 18, loading query: 5950\n",
      "[jsonio17] [info] VertexElement loading collection: 13, loading query: 5587\n",
      "[2025-01-23 18:19:15.292] [thermomatch] [info]  30% Exporting EXCHANGE_MASTER_SPECIES_element ...\n",
      "[jsonio17] [info] VertexElement loading collection: 12, loading query: 4888\n",
      "[2025-01-23 18:19:15.305] [thermomatch] [info]  40% Exporting SURFACE_MASTER_SPECIES_element ...\n",
      "[jsonio17] [info] VertexElement loading collection: 13, loading query: 5034\n",
      "[2025-01-23 18:19:15.321] [thermomatch] [info]  50% Exporting EXCHANGE_SPECIES_product ...\n",
      "[jsonio17] [info] VertexReaction loading collection: 9, loading query: 25910\n",
      "[2025-01-23 18:19:15.522] [thermomatch] [info]  60% Exporting SURFACE_SPECIES_product ...\n"
     ]
    }
   ],
   "source": [
    "#print( description )\n",
    "generator.runExport(\"PhreeqcImport\", description, \"data-out/claysor23_5.dat\", \"reactionsets/claysor23;2:RS_FORMFEL;0\");"
   ]
  },
  {
   "cell_type": "code",
   "execution_count": null,
   "id": "5cd841c1-6d72-4586-a89a-881ab5df1d74",
   "metadata": {},
   "outputs": [],
   "source": [
    "# Backup results\n",
    "generator.unloadImported(\"data-in/backup\")"
   ]
  },
  {
   "cell_type": "code",
   "execution_count": null,
   "id": "51c70a65-8005-4581-b545-68d902405cac",
   "metadata": {},
   "outputs": [],
   "source": []
  }
 ],
 "metadata": {
  "kernelspec": {
   "display_name": "Python 3 (ipykernel)",
   "language": "python",
   "name": "python3"
  },
  "language_info": {
   "codemirror_mode": {
    "name": "ipython",
    "version": 3
   },
   "file_extension": ".py",
   "mimetype": "text/x-python",
   "name": "python",
   "nbconvert_exporter": "python",
   "pygments_lexer": "ipython3",
   "version": "3.10.17"
  }
 },
 "nbformat": 4,
 "nbformat_minor": 5
}
