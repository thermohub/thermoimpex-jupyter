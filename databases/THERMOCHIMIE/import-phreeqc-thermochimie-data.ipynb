{
 "cells": [
  {
   "cell_type": "code",
   "execution_count": null,
   "id": "9f27c90e-df52-406f-9137-65f8fd2a78bd",
   "metadata": {},
   "outputs": [],
   "source": [
    "import thermomatch as match\n",
    "match.ThermoImpexGenerator.create_local_database_if_not_existent = True"
   ]
  },
  {
   "cell_type": "code",
   "execution_count": null,
   "id": "951951eb-acd5-420a-823d-427ad1ddf400",
   "metadata": {},
   "outputs": [],
   "source": [
    "# Set path to `schemas` and `lua` not from the configuration file\n",
    "match.ThermoImpexGenerator.setResourcesDirectory(\"../../Resources\")\n",
    "# Connect to Arango database\n",
    "generator = match.ThermoImpexGenerator(\"http://localhost:8529\", \"root\", \"\", \"ORD_thermochimie12a\", True, match.ThermoImpexGenerator.File, True)"
   ]
  },
  {
   "cell_type": "code",
   "execution_count": null,
   "id": "a551a6ea-fb58-4fa3-b623-89530264e9f3",
   "metadata": {},
   "outputs": [],
   "source": [
    "# Import References (the collection name and VertexDataSource schema would be obtained from the script by default)\n",
    "keys = generator.importFileToDatabase(\"FormatStructDataFile\", \"scripts-in/references.FormatStructDataFile.json\", \"data-in/ref_thermochimie.json\", \"\")  #- bug"
   ]
  },
  {
   "cell_type": "code",
   "execution_count": null,
   "id": "75ab906d-0168-4c99-9993-584530ad1a65",
   "metadata": {},
   "outputs": [],
   "source": [
    "# List of implemented thermodynamic formats\n",
    "#print( generator.allFormats() )\n",
    "generator = match.ThermoImpexGenerator(\"http://localhost:8529\", \"root\", \"\", \"ORD_thermochimie12a\", True, match.ThermoImpexGenerator.File, True) # bug in PhreeqcImportData.cpp line 510 when loading datasourceVertex db - therefore database needs to be reloaded by uncommenting this line\n",
    "\n",
    "# Execute import from Phreeqc format data\n",
    "description = [\n",
    "    match.ImpexRowDescription(\"SOLUTION_MASTER_SPECIES\", \"VertexElement\", \"records\", \"FormatTableFile\", \"scripts-in/elements.FormatTableFile.json\"), # element records\n",
    "    match.ImpexRowDescription(\"SOLUTION_SPECIES\", \"VertexSubstance\", \"records\", \"FormatKeyValueFile\", \"scripts-in/master_aqsubstances.FormatKeyValueFile.json\"), # master species substance records\n",
    "    match.ImpexRowDescription(\"SECONDARY_MASTER_SPECIES\", \"VertexSubstance\", \"records\", \"FormatKeyValueFile\", \"scripts-in/product_aqsubstances.FormatKeyValueFile.json\"), # aqueous species substance records\n",
    "    match.ImpexRowDescription(\"SECONDARY_MASTER_SPECIES\", \"VertexReaction\", \"records_and_links\", \"FormatKeyValueFile\", \"scripts-in/reaction_aqsubstances.FormatKeyValueFile.json\"), # aqueous species reaction records and lniks to reactants\n",
    "    match.ImpexRowDescription(\"PHASES\", \"VertexSubstance\", \"records\", \"FormatKeyValueFile\", \"scripts-in/product_solidsubstances.FormatKeyValueFile.json\"), # solid substance records\n",
    "    match.ImpexRowDescription(\"PHASES\", \"VertexReaction\", \"records_and_links\", \"FormatKeyValueFile\", \"scripts-in/reaction_solidsubstances.FormatKeyValueFile.json\"), # solid reaction records and links to reactants\n",
    "    match.ImpexRowDescription(\"PHASES\", \"VertexPhase\", \"records_and_links\", \"FormatKeyValueFile\", \"scripts-in/phase_solidsubstances.FormatKeyValueFile.json\"), # solid phase records and link to substances (endmembers)\n",
    "    match.ImpexRowDescription(\"SIT\", \"VertexPhase\", \"records\", \"FormatTableFile\", \"scripts-in/phase_sit.FormatTableFile.json\"), # aq_sit phase record\n",
    "    match.ImpexRowDescription(\"SIT\", \"VertexMixingModel\", \"records\", \"FormatTableFile\", \"scripts-in/mixmod_sit.FormatTableFile.json\"), # sit mixmod record\n",
    "    match.ImpexRowDescription(\"SIT\", \"VertexInteraction\", \"records_and_links\", \"FormatTableFile\", \"scripts-in/interaction_sit.FormatTableFile.json\"), # interaction records and link to species\n",
    "    match.ImpexRowDescription(\"refs\", \"VertexDataSource\", \"records_and_links\", \"FormatStructDataFile\", \"scripts-in/references.FormatStructDataFile.json\"), # makes links between references and reaction records\n",
    "    match.ImpexRowDescription(\"ThermoDataSet\", \"VertexThermoDataSet\", \"records_and_links\", \"FormatTableFile\", \"scripts-in/thermodataset.FormatTableFile.json\") # ThermoDataSet record and link to elements, substances, rdc\n",
    "]"
   ]
  },
  {
   "cell_type": "markdown",
   "id": "85f755af-cdb5-4b4e-8702-5729411963f8",
   "metadata": {},
   "source": [
    "### Preparing file for import\n",
    "The original PhreeqC_SIT_electron_10a_22Nov2018.dat that can be downloaded from the thermochimie website does not contain `SECONDARY_MASTER_SPECIES` key. For the script to work add:\n",
    "\n",
    "`SECONDARY_MASTER_SPECIES` after\n",
    "```\n",
    "1.000Zr+4     = Zr+4\n",
    "     log_k     0.000     \n",
    "     delta_h   0.000     #kJ/mol        \n",
    "     # Enthalpy of formation:           -608.5        #kJ/mol        #05BRO/CUR\n",
    "     -analytic 0E+0 0E+0 0E+0 0E+0 0E+0"
   ]
  },
  {
   "cell_type": "code",
   "execution_count": null,
   "id": "39f719c9-d02a-4997-a3b8-5ebe1bc4726b",
   "metadata": {},
   "outputs": [],
   "source": [
    "#print( description ) ~1 min\n",
    "#generator.runImport(\"PhreeqcImport\", description, \"data-in/PhreeqC_SIT_electron_10a_22Nov2018.dat\", \"rdc_THERMOCHIMIE10a\");\n",
    "generator.runImport(\"PhreeqcImport\", description, \"data-in/PHREEQC_SIT_e-_ThermoChimie_v12a.dat\", \"rdc_THERMOCHIMIE12a\");"
   ]
  },
  {
   "cell_type": "code",
   "execution_count": null,
   "id": "9b6baae5-f855-4f6f-9f5c-bf7ecfcc9679",
   "metadata": {},
   "outputs": [],
   "source": [
    "# update data of elements from CODATA, NEA and SUCPRT\n",
    "fields_list = [ \"_id\", \"properties.symbol\" ]\n",
    "generator.updateFileToDatabase(\"FormatTableFile\", \"scripts-in/elements_update.FormatTableFile.json\",\n",
    "                      \"../../datatypes/elements/data-in/elements.csv\", \"\", \"\", fields_list )"
   ]
  },
  {
   "cell_type": "code",
   "execution_count": null,
   "id": "20eb181a-46c2-4076-aabe-d59e4cdefff9",
   "metadata": {},
   "outputs": [],
   "source": []
  }
 ],
 "metadata": {
  "kernelspec": {
   "display_name": "Python 3 (ipykernel)",
   "language": "python",
   "name": "python3"
  },
  "language_info": {
   "codemirror_mode": {
    "name": "ipython",
    "version": 3
   },
   "file_extension": ".py",
   "mimetype": "text/x-python",
   "name": "python",
   "nbconvert_exporter": "python",
   "pygments_lexer": "ipython3",
   "version": "3.10.14"
  }
 },
 "nbformat": 4,
 "nbformat_minor": 5
}
