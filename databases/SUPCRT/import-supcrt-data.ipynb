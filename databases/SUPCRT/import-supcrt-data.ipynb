{
 "cells": [
  {
   "cell_type": "code",
   "execution_count": null,
   "id": "9f27c90e-df52-406f-9137-65f8fd2a78bd",
   "metadata": {},
   "outputs": [],
   "source": [
    "import thermomatch as match\n",
    "match.ThermoImpexGenerator.create_local_database_if_not_existent = True"
   ]
  },
  {
   "cell_type": "code",
   "execution_count": null,
   "id": "951951eb-acd5-420a-823d-427ad1ddf400",
   "metadata": {},
   "outputs": [],
   "source": [
    "# Set path to `schemas` and `lua` not from the configuration file\n",
    "match.ThermoImpexGenerator.setResourcesDirectory(\"../../Resources\")\n",
    "\n",
    "# Connect to Arango database\n",
    "generator = match.ThermoImpexGenerator(\"http://localhost:8529\", \"root\", \"\", \"ORD_SLOP16\", True, match.ThermoImpexGenerator.File, True)"
   ]
  },
  {
   "cell_type": "code",
   "execution_count": null,
   "id": "578d2eca-3feb-49cb-ae85-2e3b7e4e0e0e",
   "metadata": {},
   "outputs": [],
   "source": [
    "# Import References (the collection name and VertexDataSource schema would be obtained from the script by default)\n",
    "keys = generator.importFileToDatabase(\"FormatStructDataFile\", \"scripts-in/references.FormatStructDataFile.json\", \"data-in/refs.slop16.json\", \"\")  #- bug"
   ]
  },
  {
   "cell_type": "code",
   "execution_count": null,
   "id": "3cb429a9-8622-44ea-b7a9-70f151da3f93",
   "metadata": {},
   "outputs": [],
   "source": [
    "# Import Elements (the collection name and VertexElements schema would be obtained from the script by default)\n",
    "# Connect to Arango database\n",
    "generator = match.ThermoImpexGenerator(\"http://localhost:8529\", \"root\", \"\", \"ORD_SLOP16\", True, match.ThermoImpexGenerator.File, True)\n",
    "keys = generator.importFileToDatabase(\"FormatTableFile\", \"scripts-in/elements.FormatTableFile.json\", \"../../datatypes/elements/data-in/elements.csv\", \"\")"
   ]
  },
  {
   "cell_type": "code",
   "execution_count": null,
   "id": "75ab906d-0168-4c99-9993-584530ad1a65",
   "metadata": {},
   "outputs": [],
   "source": [
    "# List of implemented thermodynamic formats\n",
    "# print( generator.allFormats() )\n",
    "\n",
    "# Execute import from PSI table format data\n",
    "description = [\n",
    "    match.ImpexRowDescription(\"Minerals\", \"VertexSubstance\", \"records\", \"FormatTableFile\", \"scripts-in/minerals.FormatTableFile.json\"), # subtance records for minerals \n",
    "    match.ImpexRowDescription(\"MineralsOnePhaseTransition\", \"VertexSubstance\", \"records\", \"FormatTableFile\", \"scripts-in/onephaseminerals.FormatTableFile.json\"), # substance records for minerals with one phase transition\n",
    "    match.ImpexRowDescription(\"MineralsTwoPhaseTransition\", \"VertexSubstance\", \"records\", \"FormatTableFile\", \"scripts-in/twophaseminerals.FormatTableFile.json\"), # substance records for minerals with two phase transitions\n",
    "    match.ImpexRowDescription(\"MineralsThreePhaseTransition\", \"VertexSubstance\", \"records\", \"FormatTableFile\", \"scripts-in/threephaseminerals.FormatTableFile.json\"), # substance records for minerals with three phase transitions\n",
    "    match.ImpexRowDescription(\"Gases\", \"VertexSubstance\", \"records\", \"FormatTableFile\", \"scripts-in/gases.FormatTableFile.json\"), # substance records for gases\n",
    "    match.ImpexRowDescription(\"AqueousSpecies\", \"VertexSubstance\", \"records\", \"FormatTableFile\", \"scripts-in/aqueous_species.FormatTableFile.json\"), # substance records for aqueous species\n",
    "    match.ImpexRowDescription(\"ThermoDataSet\", \"VertexThermoDataSet\", \"records_and_links\", \"FormatTableFile\", \"scripts-in/thermodataset.FormatTableFile.json\")  # ThermoDataSet record and link to elements, substances, rdc\n",
    "]"
   ]
  },
  {
   "cell_type": "code",
   "execution_count": null,
   "id": "39f719c9-d02a-4997-a3b8-5ebe1bc4726b",
   "metadata": {},
   "outputs": [],
   "source": [
    "#print( description )\n",
    "generator.runImport(\"SlopImport\", description, \"data-in/slop16.dat\", \"\");"
   ]
  },
  {
   "cell_type": "code",
   "execution_count": null,
   "id": "2704a162-0ee7-4c50-a8d9-5e8d919fd243",
   "metadata": {},
   "outputs": [],
   "source": [
    "# To Do\n",
    "# make pure phases\n",
    "#print( generator.allFormats() )"
   ]
  },
  {
   "cell_type": "code",
   "execution_count": null,
   "id": "4254ef88-f8a3-44bc-9567-767098dc98d8",
   "metadata": {},
   "outputs": [],
   "source": []
  }
 ],
 "metadata": {
  "kernelspec": {
   "display_name": "Python 3 (ipykernel)",
   "language": "python",
   "name": "python3"
  },
  "language_info": {
   "codemirror_mode": {
    "name": "ipython",
    "version": 3
   },
   "file_extension": ".py",
   "mimetype": "text/x-python",
   "name": "python",
   "nbconvert_exporter": "python",
   "pygments_lexer": "ipython3",
   "version": "3.10.14"
  }
 },
 "nbformat": 4,
 "nbformat_minor": 5
}
